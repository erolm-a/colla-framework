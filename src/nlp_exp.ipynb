{
 "metadata": {
  "language_info": {
   "codemirror_mode": {
    "name": "ipython",
    "version": 3
   },
   "file_extension": ".py",
   "mimetype": "text/x-python",
   "name": "python",
   "nbconvert_exporter": "python",
   "pygments_lexer": "ipython3",
   "version": "3.8.6-final"
  },
  "orig_nbformat": 2,
  "kernelspec": {
   "name": "python38664bitcollavenv498c6419dc4548969908896262922b0c",
   "display_name": "Python 3.8.6 64-bit ('colla': venv)"
  }
 },
 "nbformat": 4,
 "nbformat_minor": 2,
 "cells": [
  {
   "cell_type": "code",
   "execution_count": 3,
   "metadata": {},
   "outputs": [
    {
     "output_type": "execute_result",
     "data": {
      "text/plain": [
       "'\\nfrom pyspark.sql.dataframe import DataFrame\\nfrom pyspark.sql.column import Column\\nfrom pyspark.sql.types import StructType, ArrayType, StringType, DataType\\n\\nfrom pyspark.sql import SparkSession, SQLContext\\n\\n\\nspark = SparkSession.builder.appName(\"colla-tokenizer\").getOrCreate()\\nsc = spark.sparkContext\\nsqlContext = SQLContext(sc)\\n'"
      ]
     },
     "metadata": {},
     "execution_count": 3
    }
   ],
   "source": [
    "import itertools\n",
    "\n",
    "from trec_car.read_data import iter_annotations\n",
    "\n",
    "from tools.dataloaders import WikipediaCBOR, PageFormat\n",
    "\n",
    "import pandas as pd\n",
    "\n",
    "\"\"\"\n",
    "from pyspark.sql.dataframe import DataFrame\n",
    "from pyspark.sql.column import Column\n",
    "from pyspark.sql.types import StructType, ArrayType, StringType, DataType\n",
    "\n",
    "from pyspark.sql import SparkSession, SQLContext\n",
    "\n",
    "\n",
    "spark = SparkSession.builder.appName(\"colla-tokenizer\").getOrCreate()\n",
    "sc = spark.sparkContext\n",
    "sqlContext = SQLContext(sc)\n",
    "\"\"\""
   ]
  },
  {
   "cell_type": "code",
   "execution_count": 4,
   "metadata": {},
   "outputs": [
    {
     "output_type": "stream",
     "name": "stdout",
     "text": [
      "Loaded from cache\n"
     ]
    }
   ],
   "source": [
    "wikipedia_cbor = WikipediaCBOR(\"wikipedia/car-wiki2020-01-01/enwiki2020.cbor\",\n",
    "                                \"wikipedia/car-wiki2020-01-01/partitions\",\n",
    "                                # repreprocess=True, page_lim=1000\n",
    "                                )"
   ]
  },
  {
   "cell_type": "code",
   "execution_count": 5,
   "metadata": {},
   "outputs": [],
   "source": [
    "\n",
    "# a = wikipedia_cbor[0]\n",
    "k = 5\n",
    "with open(wikipedia_cbor.cbor_path, \"rb\") as cbor_file:\n",
    "    topk = itertools.islice(iter_annotations(cbor_file), k)\n",
    "    topk = map(wikipedia_cbor.preprocess_page, enumerate(topk))\n",
    "\n",
    "    df = pd.DataFrame(topk)\n",
    "    #df = sqlContext.createDataFrame(topk)\n",
    "    # page = next(iter_annotations(cbor_file))\n",
    "    # dataloader_page = wikipedia_cbor.preprocess_page(page)\n",
    "    # spacy_collect_mentions(dataloader_page)\n"
   ]
  },
  {
   "cell_type": "code",
   "execution_count": 6,
   "metadata": {},
   "outputs": [
    {
     "output_type": "execute_result",
     "data": {
      "text/plain": [
       "   id      title                                               text  \\\n",
       "0   0  Anarchism  Anarchism is an anti-authoritarian political a...   \n",
       "1   1     Albedo  Albedo () (, meaning 'whiteness') is the measu...   \n",
       "2   2     Autism  Autism is a developmental disorder characteriz...   \n",
       "3   3          A  A or a is the first letter and the first vowel...   \n",
       "4   4   Achilles  In Greek mythology, Achilles ( ) or Achilleus ...   \n",
       "\n",
       "                                       link_mentions  \n",
       "0  [(3818014, 16, 33), (4210689, 35, 43), (540829...  \n",
       "1  [(3849449, 56, 73), (6970944, 78, 92), (612884...  \n",
       "2  [(5748136, 12, 33), (215297, 313, 321), (57595...  \n",
       "3  [(4796107, 20, 25), (4772344, 41, 52), (435768...  \n",
       "4  [(4207422, 3, 17), (5079607, 69, 78), (6013052...  "
      ],
      "text/html": "<div>\n<style scoped>\n    .dataframe tbody tr th:only-of-type {\n        vertical-align: middle;\n    }\n\n    .dataframe tbody tr th {\n        vertical-align: top;\n    }\n\n    .dataframe thead th {\n        text-align: right;\n    }\n</style>\n<table border=\"1\" class=\"dataframe\">\n  <thead>\n    <tr style=\"text-align: right;\">\n      <th></th>\n      <th>id</th>\n      <th>title</th>\n      <th>text</th>\n      <th>link_mentions</th>\n    </tr>\n  </thead>\n  <tbody>\n    <tr>\n      <th>0</th>\n      <td>0</td>\n      <td>Anarchism</td>\n      <td>Anarchism is an anti-authoritarian political a...</td>\n      <td>[(3818014, 16, 33), (4210689, 35, 43), (540829...</td>\n    </tr>\n    <tr>\n      <th>1</th>\n      <td>1</td>\n      <td>Albedo</td>\n      <td>Albedo () (, meaning 'whiteness') is the measu...</td>\n      <td>[(3849449, 56, 73), (6970944, 78, 92), (612884...</td>\n    </tr>\n    <tr>\n      <th>2</th>\n      <td>2</td>\n      <td>Autism</td>\n      <td>Autism is a developmental disorder characteriz...</td>\n      <td>[(5748136, 12, 33), (215297, 313, 321), (57595...</td>\n    </tr>\n    <tr>\n      <th>3</th>\n      <td>3</td>\n      <td>A</td>\n      <td>A or a is the first letter and the first vowel...</td>\n      <td>[(4796107, 20, 25), (4772344, 41, 52), (435768...</td>\n    </tr>\n    <tr>\n      <th>4</th>\n      <td>4</td>\n      <td>Achilles</td>\n      <td>In Greek mythology, Achilles ( ) or Achilleus ...</td>\n      <td>[(4207422, 3, 17), (5079607, 69, 78), (6013052...</td>\n    </tr>\n  </tbody>\n</table>\n</div>"
     },
     "metadata": {},
     "execution_count": 6
    }
   ],
   "source": [
    "df.head()"
   ]
  },
  {
   "cell_type": "code",
   "execution_count": 7,
   "metadata": {},
   "outputs": [],
   "source": [
    "import spacy\n",
    "\n",
    "nlp = spacy.load(\"xx_ent_wiki_sm\")"
   ]
  },
  {
   "cell_type": "code",
   "execution_count": 32,
   "metadata": {},
   "outputs": [],
   "source": [
    "from typing import List, Tuple\n",
    "#from pyspark.sql.functions import pandas_udf\n",
    "from spacy.attrs import LOWER, ENT_TYPE\n",
    "import numpy as np\n",
    "import pandas as pd\n",
    "\n",
    "from trie_search import RecordTrieSearch\n",
    "from heapq import merge\n",
    "\n",
    "def autolink(page_id: int, title: str, text: str, links: List[Tuple[int, int, int]]):\n",
    "    title_toks = nlp(title)\n",
    "    toks = nlp(text)\n",
    "    # ents = toks.ents\n",
    "\n",
    "    link_idx = 0\n",
    "\n",
    "    exact_mentions = {}\n",
    "    mention_builder = []\n",
    "\n",
    "    link = None\n",
    "\n",
    "    \n",
    "    \n",
    "    # TODO: deal with ambiguities...\n",
    "    exact_mentions[\" \".join(str(tok) for tok in title_toks)] = page_id\n",
    "\n",
    "    for tok in toks:\n",
    "        # the new token ends a mention: register the mention\n",
    "        if link_idx < len(links):\n",
    "            link = links[link_idx]\n",
    "\n",
    "        if link is not None and tok.idx > link[2] and len(mention_builder) > 0:\n",
    "            exact_mentions[\" \".join(mention_builder)] = link[0]\n",
    "            mention_builder = []\n",
    "\n",
    "        while link_idx < len(links) - 1 and tok.idx > link[2]:\n",
    "            link_idx += 1\n",
    "            link = links[link_idx]\n",
    "        \n",
    "        if link_idx >= len(links):\n",
    "            link = None\n",
    "        \n",
    "        elif tok.idx >= link[1]:\n",
    "            mention_builder.append(str(tok))\n",
    "    \n",
    "    # NOTE: it does use spaces as separators therefore any kind of punctuation ruins the trie's efficacy.\n",
    "    # Would be better to run this on pretokenized text, but links would have to be recomputed.\n",
    "    trie = RecordTrieSearch(\"<Q\", map(lambda x: (x[0], (x[1],)), exact_mentions.items()))\n",
    "\n",
    "    # print(trie.items())\n",
    "    patterns = sorted(trie.search_longest_patterns(text), key=lambda x: x[1]) # sort by apparison\n",
    "\n",
    "    link = None\n",
    "    link_idx = 0\n",
    "    new_links = []\n",
    "\n",
    "    for title, new_link_id, idx in patterns:\n",
    "        new_link = (new_link_id, idx, idx + len(title) - 1)\n",
    "\n",
    "        if link_idx < len(links):\n",
    "            link = links[link_idx]\n",
    "        \n",
    "        while link_idx < len(links) - 1 and idx > link[2]:\n",
    "            link_idx += 1\n",
    "            link = links[link_idx]\n",
    "\n",
    "        if link_idx >= len(links):\n",
    "            link = None\n",
    "        \n",
    "        if link is None or idx < link[1]:\n",
    "            new_links.append(new_link)\n",
    "    \n",
    "    # return exact_mentions\n",
    "\n",
    "    return list(merge(links, new_links, key=lambda x: x[1]))\n",
    "    "
   ]
  },
  {
   "cell_type": "code",
   "execution_count": 33,
   "metadata": {},
   "outputs": [],
   "source": [
    "autolink(0, \"Anarchy\", *list(df.iloc[0])[2:])"
   ]
  },
  {
   "cell_type": "code",
   "execution_count": 10,
   "metadata": {},
   "outputs": [],
   "source": [
    "from trie_search import RecordTrieSearch\n",
    "\n",
    "patterns = [(\"Albert Einstein\", (1,)), (\"Einstein\", (1,)), (\"Albert Hitchcock\", (2,))]\n",
    "t = RecordTrieSearch(\"<Q\", patterns)"
   ]
  },
  {
   "cell_type": "code",
   "execution_count": 11,
   "metadata": {},
   "outputs": [
    {
     "output_type": "execute_result",
     "data": {
      "text/plain": [
       "[(1,)]"
      ]
     },
     "metadata": {},
     "execution_count": 11
    }
   ],
   "source": [
    "t.get(\"Albert Einstein\")"
   ]
  },
  {
   "cell_type": "code",
   "execution_count": null,
   "metadata": {},
   "outputs": [],
   "source": []
  }
 ]
}