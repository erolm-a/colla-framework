{
 "cells": [
  {
   "cell_type": "code",
   "execution_count": 1,
   "metadata": {},
   "outputs": [],
   "source": [
    "# A test with wiktionary RESTFul API.\n",
    "\n",
    "from tools.datasets import *"
   ]
  },
  {
   "cell_type": "code",
   "execution_count": 6,
   "metadata": {
    "tags": []
   },
   "outputs": [],
   "source": [
    "import requests\n",
    "\n",
    "wiktionary_url = \"https://en.wiktionary.org/api/rest_v1\"\n",
    "\n",
    "r = requests.get(wiktionary_url + \"/page/definition/dog\")\n",
    "response = r.json()"
   ]
  },
  {
   "cell_type": "code",
   "execution_count": 8,
   "metadata": {},
   "outputs": [
    {
     "output_type": "execute_result",
     "data": {
      "text/plain": "dict_keys(['en', 'af', 'da', 'nl', 'other', 'nv', 'pt', 'sv', 'vo'])"
     },
     "metadata": {},
     "execution_count": 8
    }
   ],
   "source": [
    "response.keys()"
   ]
  },
  {
   "cell_type": "code",
   "execution_count": 12,
   "metadata": {
    "tags": []
   },
   "outputs": [
    {
     "output_type": "stream",
     "name": "stdout",
     "text": "[{'definitions': [{'definition': '<span class=\"form-of-definition '\n                                 'use-with-mention\" about=\"#mwt283\" '\n                                 'typeof=\"mw:Transclusion\">Alternative form of '\n                                 '<span class=\"form-of-definition-link\"><i '\n                                 'class=\"Latn mention\" lang=\"af\"><a '\n                                 'rel=\"mw:WikiLink\" href=\"/wiki/dag#Afrikaans\" '\n                                 'title=\"dag\">dag</a></i></span></span> (<span '\n                                 'class=\"form-of-definition use-with-mention\" '\n                                 'about=\"#mwt284\" '\n                                 'typeof=\"mw:Transclusion\">preterite of <span '\n                                 'class=\"form-of-definition-link\"><i '\n                                 'class=\"Latn mention\" lang=\"af\"><a '\n                                 'rel=\"mw:WikiLink\" '\n                                 'href=\"/wiki/dink#Afrikaans\" '\n                                 'title=\"dink\">dink</a></i></span></span>)'}],\n  'language': 'Afrikaans',\n  'partOfSpeech': 'Verb'}]\n"
    }
   ],
   "source": [
    "import pprint\n",
    "pp = pprint.PrettyPrinter(indent=1)\n",
    "\n",
    "pp.pprint(response[\"af\"])"
   ]
  },
  {
   "cell_type": "code",
   "execution_count": 1,
   "metadata": {},
   "outputs": [],
   "source": [
    "def parse_definition(word: str):\n",
    "    # Let's keep it simple: the word\n",
    "    page_def = wiktionary_url + \"/page/definiton/\" + word\n",
    "    req = requests.get(page_def)\n",
    "    req.raise_for_status()\n",
    "    result = req.json()\n",
    "\n",
    "    # assume there is only one result in the topmost array\n"
   ]
  },
  {
   "cell_type": "code",
   "execution_count": null,
   "metadata": {},
   "outputs": [],
   "source": []
  }
 ],
 "metadata": {
  "language_info": {
   "codemirror_mode": {
    "name": "ipython",
    "version": 3
   },
   "file_extension": ".py",
   "mimetype": "text/x-python",
   "name": "python",
   "nbconvert_exporter": "python",
   "pygments_lexer": "ipython3",
   "version": "3.7.6-final"
  },
  "orig_nbformat": 2,
  "kernelspec": {
   "name": "python3",
   "display_name": "Python 3"
  }
 },
 "nbformat": 4,
 "nbformat_minor": 2
}