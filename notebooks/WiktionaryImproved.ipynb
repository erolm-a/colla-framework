{
 "cells": [
  {
   "cell_type": "code",
   "execution_count": 1,
   "metadata": {},
   "outputs": [],
   "source": [
    "import os\n",
    "\n",
    "from pyspark import SparkContext\n",
    "from pyspark.sql import SparkSession\n",
    "\n",
    "parquet_pos = os.path.join(os.getcwd(), \"data/wiktionary/parquet-index_2.11-0.4.1-SNAPSHOT.jar\")\n",
    "\n",
    "spark = SparkSession.builder \\\n",
    "                        .config(\"spark.sql.execution.arrow.pyspark.enabled\", \"true\") \\\n",
    "                        .config(\"spark.jars\", parquet_pos) \\\n",
    "                        .getOrCreate()\n",
    "\n",
    "spark.sparkContext.addPyFile(parquet_pos)"
   ]
  },
  {
   "cell_type": "code",
   "execution_count": 2,
   "metadata": {},
   "outputs": [],
   "source": [
    "wiktionary_df = spark.read.json(\"data/wiktionary/senses_examples_quotations_v2.json\")"
   ]
  },
  {
   "cell_type": "code",
   "execution_count": 3,
   "metadata": {},
   "outputs": [
    {
     "data": {
      "text/plain": [
       "[Row(glosses=['(intransitive) To move forward quickly upon two feet by alternately making a short jump off either foot. (Compare walk.)']),\n",
       " Row(glosses=['(intransitive) To go at a fast pace, to move quickly.']),\n",
       " Row(glosses=['(transitive) To cause to move quickly or lightly.']),\n",
       " Row(glosses=['(transitive) To transport someone or something, notionally at a brisk pace.']),\n",
       " Row(glosses=['(transitive or intransitive) To compete in a race.']),\n",
       " Row(glosses=['(intransitive) Of fish, to migrate for spawning.']),\n",
       " Row(glosses=['(American football transitive or intransitive) To carry (a football) down the field, as opposed to passing or kicking.']),\n",
       " Row(glosses=['(transitive) To achieve or perform by running or as if by running.']),\n",
       " Row(glosses=['(intransitive) To flee from a danger or towards help.']),\n",
       " Row(glosses=['(figurative transitive) To go through without stopping, usually illegally.']),\n",
       " Row(glosses=['(transitive juggling colloquial) To juggle a pattern continuously, as opposed to starting and stopping quickly.']),\n",
       " Row(glosses=['(intransitive) Of a liquid, to flow.']),\n",
       " Row(glosses=['(intransitive figuratively) To move or spread quickly.']),\n",
       " Row(glosses=['(intransitive) Of an object, to have a liquid flowing from it.']),\n",
       " Row(glosses=['(transitive) To make a liquid flow; to make liquid flow from an object.']),\n",
       " Row(glosses=['(intransitive) To become liquid; to melt.']),\n",
       " Row(glosses=['(intransitive) To leak or spread in an undesirable fashion; to bleed (especially used of dye or paint).']),\n",
       " Row(glosses=['To fuse; to shape; to mould; to cast.']),\n",
       " Row(glosses=['(transitive) To control or manage, be in charge of.']),\n",
       " Row(glosses=['(intransitive) To be a candidate in an election.']),\n",
       " Row(glosses=['(transitive) To make run in a race or an election.']),\n",
       " Row(glosses=['To exert continuous activity; to proceed.']),\n",
       " Row(glosses=['(intransitive) To be presented in the media.']),\n",
       " Row(glosses=['(transitive) To print or broadcast in the media.']),\n",
       " Row(glosses=['(transitive) To smuggle (illegal goods).']),\n",
       " Row(glosses=['(transitive agriculture) To sort through a large volume of produce in quality control.']),\n",
       " Row(glosses=['(intransitive) To extend in space or through a range (often with a measure phrase).']),\n",
       " Row(glosses=['(intransitive) To extend in time, to last, to continue (usually with a measure phrase).']),\n",
       " Row(glosses=['(transitive) To make something extend in space.']),\n",
       " Row(glosses=['(intransitive) Of a machine, including computer programs, to be operating or working normally.']),\n",
       " Row(glosses=['(transitive) To make a machine operate.']),\n",
       " Row(glosses=['A (regular) trip or route.']),\n",
       " Row(glosses=['The route taken while running or skiing.']),\n",
       " Row(glosses=['(skiing bobsledding) A single trip down a hill, as in skiing and bobsledding.']),\n",
       " Row(glosses=['The distance sailed by a ship.']),\n",
       " Row(glosses=['A voyage.']),\n",
       " Row(glosses=['A trial.']),\n",
       " Row(glosses=['(maths computing) The execution of a program or model']),\n",
       " Row(glosses=['(video games) A playthrough.']),\n",
       " Row(glosses=['(video games rare) An attempt at a game, especially a speedrun.']),\n",
       " Row(glosses=['A continuous period (of time) marked by a trend; a period marked by a continuing trend.']),\n",
       " Row(glosses=['A series of tries in a game that were successful.']),\n",
       " Row(glosses=['A production quantity (such as in a factory).']),\n",
       " Row(glosses=['The period of showing of a play, film, TV series, etc.']),\n",
       " Row(glosses=['(slang) A period of extended (usually daily) drug use.']),\n",
       " Row(glosses=['(card games) A sequence of cards in a suit in a card game.']),\n",
       " Row(glosses=['(music) A rapid passage in music, especially along a scale.']),\n",
       " Row(glosses=['(of horses) A fast gallop.']),\n",
       " Row(glosses=['The top of a step on a staircase, also called a tread, as opposed to the rise.']),\n",
       " Row(glosses=['The horizontal length of a set of stairs']),\n",
       " Row(glosses=['(construction) Horizontal dimension of a slope.']),\n",
       " Row(glosses=['(baseball) A score when a runner touches all bases legally; the act of a runner scoring.']),\n",
       " Row(glosses=['(cricket) The act of passing from one wicket to another; the point scored for this.']),\n",
       " Row(glosses=['(American football) A running play.']),\n",
       " Row(glosses=['(golf) The movement communicated to a golf ball by running it.']),\n",
       " Row(glosses=['(golf) The distance a ball travels after touching the ground from a stroke.'])]"
      ]
     },
     "execution_count": 3,
     "metadata": {},
     "output_type": "execute_result"
    }
   ],
   "source": [
    "from pyspark.sql.functions import *\n",
    "\n",
    "wiktionary_df.filter('word = \"run\"').select(explode('senses').alias('sense')) \\\n",
    "                .select(explode('sense.subsenses').alias('subsense')).select('subsense.glosses') \\\n",
    "                .collect()"
   ]
  },
  {
   "cell_type": "code",
   "execution_count": 6,
   "metadata": {},
   "outputs": [
    {
     "data": {
      "text/plain": [
       "[Row(quotations=[[Row(author='Jeremy Taylor', day=None, month=None, page=None, publisher=None, tag=' (song)', text=\"Ag pleez Deddy won't you take us to the wrestling / We wanna see an ou called Sky High Lee\", title='{{w|Ag Pleez Deddy}}', year='1962'), Row(author='André Brink', day=None, month=None, page='p. 88:', publisher='Vintage 1998', tag='', text=\"‘Ag, fuck it,' he said. ‘Let bygones be bygones, man.'\", title='A Dry White Season', year='1979'), Row(author='Nelson Mandela', day=None, month=None, page='p. 491:', publisher='Abacus 2010', tag='', text=\"Finally, after placing four books on the desk, he turned to a sheepish Kathy and said, ‘Ag, there's nothing wrong with these desks,' and walked out.\", title='Long Walk to Freedom', year='1994')]]),\n",
       " Row(quotations=[[Row(author='John Milton', day=None, month=None, page=None, publisher='lines 203-205', tag='', text='Am I not sung and proverbed for a fool / In every street, do they not say, \"How well / Are come upon him his deserts?\"', title='Samson Agonistes', year='1671')]]),\n",
       " Row(quotations=[[Row(author='William Tyndall', day=None, month=None, page=\"and Doct. Barnes, three worthy Martyrs, and principall teachers of this Churche of England, collected and compiled in one Tome togither, beyng before ſcattered, & now in Print here exhibited to the Church'' (1573), [http://books.google.co.uk/books?id=fWE9AQAAMAAJ&pg=PA271&dq=%22names+of+god%22&hl=en&sa=X&ei=t-rfU6CyD-fh4QT3z4CwAQ&ved=0CE0Q6AEwBThG#v=onepage&q=%22names%20of%20god%22&f=false page 271/2]:\", publisher='Iohn Frith', tag=\" in ''The whole workes of W. Tyndall\", text='', title='An aunſwere vnto Syr Thomas Mores Dialogue', year='1530'), Row(author='[[w:Gilbert Keith Chesterton|Gilbert Keith Chesterton]]', day=None, month=None, page=None, publisher=None, tag=\" in ''The Wild Knight and Other Poems'':\", text=\"Golgotha's ghastly trinity—\", title='The Happy Man', year='1900')]]),\n",
       " Row(quotations=[[Row(author=None, day=None, month=None, page=None, publisher=None, tag=None, text=None, title=None, year=None), Row(author='Edward Bulwer Lytton', day=None, month=None, page=None, publisher=None, tag='.', text='To men the first necessity is gods; / And if the gods were not, / \" Man would invent them, tho\\' they godded stones.', title='Death and Sisyphus', year='1866'), Row(author='Conrad C. Fink', day=None, month=None, page=None, publisher='page 78', tag='', text='\"Godded him up\"... It\\'s the fear of discerning journalists: Does coverage of athletic stars, on field and off, approach beatification of the living?', title='Sportswriting: The Lively Game', year='2001')]]),\n",
       " Row(quotations=[[Row(author='Edmund Spenser', day=None, month=None, page=None, publisher=None, tag='.', text='Then got he bow and fhafts of gold and lead, / In which fo fell and puiflant he grew, / That Jove himfelfe his powre began to dread, / And, taking up to heaven, him godded new.', title='Colin Clouts Come Home Againe', year='1595'), Row(author=None, day=None, month=None, page=None, publisher=None, tag=None, text=None, title=None, year=None), Row(author=None, day=None, month=None, page=None, publisher=None, tag=None, text=None, title=None, year=None)]]),\n",
       " Row(quotations=[[Row(author='Edmund Spenser', day=None, month=None, page=None, publisher='IV.ii', tag='', text='Lo sluggish Knight the victors happie pray: / So fortune friends the bold....', title='The Faerie Queene', year='1596'), Row(author='Alfred Edward Housman', day=None, month=None, page=None, publisher='LXII', tag='', text=\"'Tis true, the stuff I bring for sale, Is not so brisk a brew as ale:, Out of a stem that scored the hand, I wrung it in a weary land., But take it: if the smack is sour,, The better for the embittered hour;, It should do good to heart and head, When your soul is in my soul's stead;, And I will friend you, if I may,, In the dark and cloudy day.\", title='{{w|A Shropshire Lad}}', year='1896')]]),\n",
       " Row(quotations=[[Row(author='David Fono and Kate Raynes-Goldie', day=None, month=None, page='Peter Lang, {{ISBN|0820478571}}, page [http://books.google.com/books?q=%22friend+them%22+consalvo&btnG=Search+Books 99],', publisher=\"''Internet Research Annual Volume 4''\", tag=' ([http://k4t3.org/publications/hyperfriendship.pdf PDF version])', text='The difference between responses to the statement, \"If someone friends me, I will friend them,\" and \"If I friend someone, I expect them to friend me back,\" is telling.', title='[http://209.85.165.104/search?q=cache:wXH9NWhjSq8J:k4t3.org/publications/hyperfriendship.pdf+%22Hyperfriendship+and+Beyond%22&hl=en&ct=clnk&cd=1&gl=us&client=firefox-a Hyperfriendship and Beyond: Friends and Social Norms on LiveJournal]', year='2006'), Row(author='Kevin Farnham and Dale G. Farnham', day=None, month=None, page='{{ISBN|0977883353}}, page [http://books.google.com/books?id=t0ykIJl4oAEC&pg=PA69&dq=%22friend+someone%22&sig=ACfU3U07tfwMQUkPDjT1RSxhAX6wgSJG6w 69],', publisher='How-To Primers', tag='', text='One of the most used features of MySpace is the practice that is nicknamed \"friending.\" If you \"friend\" someone, then that person is added to your MySpace friends list, and you are added to their friends list.', title='Myspace Safety: 51 Tips for Teens And Parents', year='2006')]]),\n",
       " Row(quotations=[[Row(author=None, day=None, month=None, page=None, publisher=None, tag=None, text=None, title=None, year=None), Row(author='Horace Walpole', day=None, month=None, page=None, publisher='I', tag='', text=\"The young peasant … disengaged himself from Manfred's gripe ….\", title='The Castle of Otranto', year='1764'), Row(author=None, day=None, month=None, page=None, publisher=None, tag=None, text=None, title=None, year=None)]]),\n",
       " Row(quotations=[[Row(author='Peter Carey', day=None, month=None, page='p. 38:', publisher='Faber & Faber 2003', tag='', text='I set off early to walk along the Melbourne Road where, one of the punters had told me, there was a soak with plenty of frogs in it.', title='Illywhacker', year='1985'), Row(author='Doris Pinkington', day=None, month=None, page=\"''Macquarie PEN Anthology of Aboriginal Literature'', Allen & Unwin 2008, p. 170:\", publisher='in Heiss & Minter', tag='', text='Molly and Daisy finished their breakfast and decided to take all their dirty clothes and wash them in the soak further down the river.', title='Follow the Rabbit-Proof Fence', year='1996')]]),\n",
       " Row(quotations=[[Row(author='Ryan \"elfmaster\" O\\'Neill', day=None, month=None, page=None, publisher=None, tag=' (page 97)', text=\"In ELF executables, there aren't a whole lot of code caves (such as in the PE format), so you are not likely to be able to shove more than just a meager amount of shellcode into existing code slots...\", title='Learning Linux Binary Analysis', year='2016')]])]"
      ]
     },
     "execution_count": 6,
     "metadata": {},
     "output_type": "execute_result"
    }
   ],
   "source": [
    "wiktionary_df.select(explode('senses').alias('sense')).select('sense.quotations').filter(col('sense.quotations').isNotNull()).limit(10).collect()"
   ]
  },
  {
   "cell_type": "markdown",
   "metadata": {},
   "source": [
    "## Count examples"
   ]
  },
  {
   "cell_type": "code",
   "execution_count": 14,
   "metadata": {},
   "outputs": [
    {
     "data": {
      "text/plain": [
       "47298"
      ]
     },
     "execution_count": 14,
     "metadata": {},
     "output_type": "execute_result"
    }
   ],
   "source": [
    "# not-nested\n",
    "wiktionary_df.select(explode(\"senses\").alias(\"sense\")) \\\n",
    "                .select(explode(\"sense.examples\").alias(\"example\")) \\\n",
    "                .na.replace(\"\", None).na.drop().count()"
   ]
  },
  {
   "cell_type": "code",
   "execution_count": 15,
   "metadata": {},
   "outputs": [
    {
     "data": {
      "text/plain": [
       "621"
      ]
     },
     "execution_count": 15,
     "metadata": {},
     "output_type": "execute_result"
    }
   ],
   "source": [
    "# nested\n",
    "wiktionary_df.select(explode(\"senses\").alias(\"sense\")).select(explode(\"sense.subsenses\").alias(\"subsense\")) \\\n",
    "                .select(explode('subsense.examples').alias('example')) \\\n",
    "                .na.replace(\"\", None).na.drop().count()"
   ]
  },
  {
   "cell_type": "code",
   "execution_count": 16,
   "metadata": {},
   "outputs": [
    {
     "data": {
      "text/plain": [
       "4"
      ]
     },
     "execution_count": 16,
     "metadata": {},
     "output_type": "execute_result"
    }
   ],
   "source": [
    "# doubly nested\n",
    "wiktionary_df.select(explode(\"senses\").alias(\"sense\")).select(explode(\"sense.subsenses\").alias(\"subsense\")) \\\n",
    "                .select(explode('subsense.usages').alias('usage')).select(explode('usage.examples').alias('example')) \\\n",
    "                .na.replace(\"\", None).na.drop().count()"
   ]
  },
  {
   "cell_type": "code",
   "execution_count": 5,
   "metadata": {},
   "outputs": [],
   "source": [
    "from tools.extractors import *\n",
    "\n",
    "wiktionary_df2 = extract_form(extract_df(wiktionary_df))\n",
    "\n",
    "wiktionary_df2.write.mode(\"overwrite\").parquet(\"data/wiktionary/senses_examples_quotations_v2.parquet\")"
   ]
  },
  {
   "cell_type": "code",
   "execution_count": null,
   "metadata": {},
   "outputs": [],
   "source": []
  }
 ],
 "metadata": {
  "kernelspec": {
   "display_name": "Python 3",
   "language": "python",
   "name": "python3"
  },
  "language_info": {
   "codemirror_mode": {
    "name": "ipython",
    "version": 3
   },
   "file_extension": ".py",
   "mimetype": "text/x-python",
   "name": "python",
   "nbconvert_exporter": "python",
   "pygments_lexer": "ipython3",
   "version": "3.7.5"
  }
 },
 "nbformat": 4,
 "nbformat_minor": 4
}
