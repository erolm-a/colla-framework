{
 "cells": [
  {
   "cell_type": "markdown",
   "metadata": {},
   "source": [
    "# Sippycup semantic parsing"
   ]
  },
  {
   "cell_type": "code",
   "execution_count": 25,
   "metadata": {},
   "outputs": [],
   "source": [
    "import sys\n",
    "sys.path.append('3rdparty/sippycup')\n",
    "from annotator import *\n",
    "from parsing import *"
   ]
  },
  {
   "cell_type": "code",
   "execution_count": 26,
   "metadata": {},
   "outputs": [],
   "source": [
    "import spacy\n",
    "nlp = spacy.load(\"en_core_web_md\")"
   ]
  },
  {
   "cell_type": "code",
   "execution_count": 27,
   "metadata": {},
   "outputs": [],
   "source": [
    "def add_rule(grammar, rule):\n",
    "    if contains_optionals(rule):\n",
    "        add_rule_containing_optional(grammar, rule)\n",
    "    elif is_lexical(rule):\n",
    "        grammar.lexical_rules[rule.rhs].append(rule)\n",
    "    elif is_unary(rule):\n",
    "        grammar.unary_rules[rule.rhs].append(rule)\n",
    "    elif is_binary(rule):\n",
    "        grammar.binary_rules[rule.rhs].append(rule)\n",
    "    elif all([is_cat(rhsi) for rhsi in rule.rhs]):\n",
    "        add_n_ary_rule(grammar, rule)\n",
    "    else:\n",
    "        make_cat(grammar, rule)\n",
    "        # raise Exception('RHS mixes terminals and non-terminals: %s' % rule\n",
    "\n",
    "def add_rule_containing_optional(grammar, rule):\n",
    "    # Find index of the first optional element on the RHS.\n",
    "    first = next((idx for idx, elt in enumerate(rule.rhs) if is_optional(elt)), -1)\n",
    "    assert first >= 0\n",
    "    assert len(rule.rhs) > 1, 'Entire RHS is optional: %s' % rule\n",
    "    prefix = rule.rhs[:first]\n",
    "    suffix = rule.rhs[(first + 1):]\n",
    "    # First variant: the first optional element gets deoptionalized.\n",
    "    deoptionalized = (rule.rhs[first][1:],)\n",
    "    add_rule(grammar, Rule(rule.lhs, prefix + deoptionalized + suffix, rule.sem))\n",
    "    # Second variant: the first optional element gets removed.\n",
    "    # If the semantics is a value, just keep it as is.\n",
    "    sem = rule.sem\n",
    "    # But if it's a function, we need to supply a dummy argument for the removed element.\n",
    "    if isinstance(rule.sem, FunctionType):\n",
    "        sem = lambda sems: rule.sem(sems[:first] + [None] + sems[first:])\n",
    "    add_rule(grammar, Rule(rule.lhs, prefix + suffix, sem))\n",
    "\n",
    "def make_cat(grammar, rule):\n",
    "    \"\"\"\n",
    "    Convert a terminal in the RHS into a non-terminal.\n",
    "    \n",
    "    Conversion works by creating a nonterminal from each terminal if\n",
    "    it does not exist already in the grammar, otherwise it just replaces it.\n",
    "    \"\"\"\n",
    "    \n",
    "    new_rhs = []\n",
    "    for rhsi in rule.rhs:\n",
    "        if is_cat(rhsi):\n",
    "            cat_name = rhsi\n",
    "        else:\n",
    "            cat_name = \"$\" + rhsi + \"__nonterminal\"\n",
    "            if cat_name not in grammar.categories:\n",
    "                grammar.categories.add(cat_name)\n",
    "                # print(f\"Adding rule: {cat_name} := {str(rhsi)}\")\n",
    "                add_rule(grammar, Rule(cat_name, rhsi))\n",
    "        new_rhs.append(cat_name)\n",
    "        # print(f\"Adding rule: {rule.lhs} := {str(new_rhs)}\")\n",
    "    add_rule(grammar, Rule(rule.lhs, tuple(new_rhs), rule.sem))\n",
    "\n"
   ]
  },
  {
   "cell_type": "code",
   "execution_count": 28,
   "metadata": {},
   "outputs": [],
   "source": [
    "def parse_input(grammar, input):\n",
    "    \"\"\"Returns a list of all parses for input using grammar.\"\"\"\n",
    "    tokens_spacy = nlp(input) # New\n",
    "    tokens = [token.text for token in tokens_spacy]\n",
    "    chart = defaultdict(list)\n",
    "    for j in range(1, len(tokens) + 1):\n",
    "        for i in range(j - 1, -1, -1):\n",
    "            apply_annotators(grammar, chart, tokens, i, j)\n",
    "            apply_lexical_rules(grammar, chart, tokens, i, j)\n",
    "            apply_binary_rules(grammar, chart, i, j)\n",
    "            apply_unary_rules(grammar, chart, i, j)\n",
    "    parses = chart[(0, len(tokens))]\n",
    "    if hasattr(grammar, 'start_symbol') and grammar.start_symbol:\n",
    "        parses = [parse for parse in parses if parse.rule.lhs == grammar.start_symbol]\n",
    "    return parses\n",
    "\n",
    "class Grammar:\n",
    "    def __init__(self, rules=[], annotators=[], start_symbol='$ROOT'):\n",
    "        self.categories = set()\n",
    "        self.lexical_rules = defaultdict(list)\n",
    "        self.unary_rules = defaultdict(list)\n",
    "        self.binary_rules = defaultdict(list)\n",
    "        self.annotators = annotators\n",
    "        self.start_symbol = start_symbol\n",
    "        for rule in rules:\n",
    "            add_rule(self, rule)\n",
    "        print('Created grammar with %d rules.' % len(rules))\n",
    "\n",
    "    def parse_input(self, input):\n",
    "        \"\"\"Returns a list of parses for the given input.\"\"\"\n",
    "        return parse_input(self, input)"
   ]
  },
  {
   "cell_type": "code",
   "execution_count": 29,
   "metadata": {},
   "outputs": [
    {
     "data": {
      "text/plain": [
       "[('$Number', 16)]"
      ]
     },
     "execution_count": 29,
     "metadata": {},
     "output_type": "execute_result"
    }
   ],
   "source": [
    "NumberAnnotator().annotate(['16'])"
   ]
  },
  {
   "cell_type": "code",
   "execution_count": 30,
   "metadata": {},
   "outputs": [
    {
     "data": {
      "text/plain": [
       "[('$Token', 'foo')]"
      ]
     },
     "execution_count": 30,
     "metadata": {},
     "output_type": "execute_result"
    }
   ],
   "source": [
    "TokenAnnotator().annotate(['foo'])"
   ]
  },
  {
   "cell_type": "code",
   "execution_count": 31,
   "metadata": {},
   "outputs": [],
   "source": [
    "class StopWordAnnotator(Annotator):\n",
    "    \"\"\"Let spacy detect stop words for us\"\"\"\n",
    "    def annotate(self, tokens):\n",
    "        if len(tokens) == 1:\n",
    "            if nlp(tokens[0])[0].is_stop:\n",
    "                return [('$StopWord', tokens[0])]\n",
    "        return []\n",
    "\n",
    "class ShowVerbAnnotator(Annotator):\n",
    "    def __init__(self, threshold = 0.7):\n",
    "        self.show_verbs = [(\"define\", \"\"), (\"tell\", \"me\"), (\"show\", \"me\")]\n",
    "        self.spacy_show_toks = nlp(\" \".join([verb for verb, _ in self.show_verbs]))\n",
    "        self.threshold = 0.7\n",
    "\n",
    "    def annotate(self, tokens):\n",
    "        if len(tokens) <= 2:\n",
    "            spacy_tokens = nlp(\" \".join(tokens))\n",
    "            spacy_token = spacy_tokens[0]\n",
    "            if spacy_token.pos_ != 'VERB':\n",
    "                return []\n",
    "            \n",
    "            # If the verb matches in meaning and, in case it requires a\n",
    "            # follow-up word, that this matches as well, then it's a match.\n",
    "            for idx, (verb, acc) in enumerate(self.show_verbs):\n",
    "                spacy_verb = self.spacy_show_toks[idx]\n",
    "                if spacy_token.similarity(spacy_verb) >= self.threshold:\n",
    "                    if verb == tokens[0] and acc != \"\" and (len(tokens) == 1 or tokens[1] != acc):\n",
    "                        return []\n",
    "                    return [('$ShowVerb', tokens)]\n",
    "        return []\n",
    "\n",
    "    \n",
    "class TokenAnnotatorBuilder(Annotator):\n",
    "    def __init__(self, category_name, excluded):\n",
    "        Annotator.__init__(self)\n",
    "        self.category_name = category_name\n",
    "        self.excluded = excluded\n",
    "    \n",
    "    def annotate(self, tokens):\n",
    "        if len(tokens) == 1:\n",
    "            token = tokens[0]\n",
    "            if token not in self.excluded:\n",
    "                return [(self.category_name, token)]\n",
    "        return []"
   ]
  },
  {
   "cell_type": "code",
   "execution_count": 32,
   "metadata": {},
   "outputs": [
    {
     "data": {
      "text/plain": [
       "[('$ShowVerb', ['say'])]"
      ]
     },
     "execution_count": 32,
     "metadata": {},
     "output_type": "execute_result"
    }
   ],
   "source": [
    "ShowVerbAnnotator().annotate(['say'])"
   ]
  },
  {
   "cell_type": "code",
   "execution_count": 33,
   "metadata": {},
   "outputs": [
    {
     "data": {
      "text/plain": [
       "[('$ShowVerb', ['define'])]"
      ]
     },
     "execution_count": 33,
     "metadata": {},
     "output_type": "execute_result"
    }
   ],
   "source": [
    "ShowVerbAnnotator().annotate(['define'])"
   ]
  },
  {
   "cell_type": "code",
   "execution_count": 34,
   "metadata": {},
   "outputs": [
    {
     "data": {
      "text/plain": [
       "[('$ShowVerb', ['tell', 'me'])]"
      ]
     },
     "execution_count": 34,
     "metadata": {},
     "output_type": "execute_result"
    }
   ],
   "source": [
    "ShowVerbAnnotator().annotate(['tell', 'me'])"
   ]
  },
  {
   "cell_type": "code",
   "execution_count": 35,
   "metadata": {},
   "outputs": [
    {
     "data": {
      "text/plain": [
       "[('TokenWithoutQuotes', 'Jeff')]"
      ]
     },
     "execution_count": 35,
     "metadata": {},
     "output_type": "execute_result"
    }
   ],
   "source": [
    "TokenAnnotatorBuilder('TokenWithoutQuotes', ['\"', '\"']).annotate(['Jeff'])"
   ]
  },
  {
   "cell_type": "code",
   "execution_count": 36,
   "metadata": {},
   "outputs": [],
   "source": [
    "MAX_CELL_CAPACITY = 10000"
   ]
  },
  {
   "cell_type": "markdown",
   "metadata": {},
   "source": [
    "# Grammar definition\n",
    "\n",
    "We will model the queries after a few intents:\n",
    "\n",
    "- Definition: asking for a definition of a noun phrase\n",
    "- Comparison: compare two noun phrases\n",
    "- Filtering/Details on a given sense: ask for further details on a previously mentioned sense\n",
    "- Usage of form\n",
    "- General grammar knowledge"
   ]
  },
  {
   "cell_type": "code",
   "execution_count": 37,
   "metadata": {},
   "outputs": [],
   "source": [
    "from functools import reduce\n",
    "\n",
    "def sems_0(sems):\n",
    "    return sems[0]\n",
    "\n",
    "def sems_1(sems):\n",
    "    return sems[1]\n",
    "\n",
    "def sems_2(sems):\n",
    "    return sems[2]\n",
    "\n",
    "def merge_dicts(d1, d2):\n",
    "    if not d2:\n",
    "        return d1\n",
    "    if not d1:\n",
    "        return {}\n",
    "    return {**d1, **d2}\n",
    "\n",
    "def strip_none(sems):\n",
    "    return [sem for sem in sems if sem]\n",
    "\n",
    "def merge_dicts_singleparam(sems):\n",
    "    if all([sem is None for sem in sems]):\n",
    "        return {}\n",
    "    return reduce(merge_dicts, strip_none(sems))\n",
    "\n",
    "def to_np(sems):\n",
    "    return {'np': strip_none(sems)[0]}\n",
    "\n",
    "def concatenate(sems):\n",
    "    return \" \".join(strip_none(sems))\n",
    "\n",
    "\n",
    "rules_definition = [\n",
    "    Rule('$ROOT', '$DefinitionQuery', sems_0),\n",
    "    Rule('$DefinitionQuery', '$DefinitionQueryElements',\n",
    "         lambda sems: merge_dicts({'intent': 'define'}, sems[0])),\n",
    "    Rule('$DefinitionQueryElements', '$DefinitionQuestion $NounPhrase',\n",
    "         merge_dicts_singleparam),\n",
    "    \n",
    "    # Special case: \"what does X mean?\"\n",
    "    Rule('$DefinitionQueryElements', 'what does $NounPhrase mean', sems_2),\n",
    "    \n",
    "    Rule('$DefinitionQuestion', '$ShowVerb ?me ?$Determiner'),\n",
    "    Rule('$DefinitionQuestion', '$ShowVerb ?me $WhoDefinition'),\n",
    "    Rule('$DefinitionQuestion', '$ShowVerb ?me $WhatDefinition'),\n",
    "    Rule('$DefinitionQuestion', '$WhatDefinition'),\n",
    "    Rule('$DefinitionQuestion', '$WhoDefinition', {'isPerson': True}),\n",
    "    Rule('$WhoDefinition', 'who $Be'),\n",
    "    Rule('$WhatDefinition', 'what $Be ?$Determiner ?$DefinitionFor'),\n",
    "    Rule('$WhatDefinition', 'how do you $ShowVerb'),\n",
    "    Rule('$DefinitionFor', '$WordSense $StopWord'),\n",
    "    Rule('$NounPhrase', \"$Tokens\", to_np),\n",
    "    Rule('$NounPhrase', \"' $Tokens '\", to_np),\n",
    "    Rule('$NounPhrase', '\" $Tokens \"', to_np),\n",
    "    Rule('$Tokens', '$UnquotedToken ?$Tokens', concatenate)\n",
    "]\n",
    "\n",
    "rules_determiner = [\n",
    "    Rule('$Determiner', 'a'),\n",
    "    Rule('$Determiner', 'an'),\n",
    "    Rule('$Determiner', 'the'),\n",
    "    Rule('$Determiner', 'about the'),\n",
    "    Rule('$Determiner', 'its'),\n",
    "    Rule('$Determiner', \"any\"),\n",
    "    Rule('$Determiner', \"some\"),\n",
    "]\n",
    "\n",
    "rules_be = [\n",
    "    Rule(\"$Be\", \"is\"),\n",
    "    Rule(\"$Be\", \"are\"),\n",
    "    Rule(\"$Be\", \"'s\"),\n",
    "    Rule(\"$Be\", \"were\"),\n",
    "    Rule(\"$Be\", \"was\"),\n",
    "    Rule(\"$Be\", \"be\"),\n",
    "    Rule(\"$Be\", \"being\"),\n",
    "]\n",
    "\n",
    "rules_wordsenses = [\n",
    "    Rule(\"$WordSense\", \"one\"),\n",
    "    Rule(\"$WordSense\", \"sense\"),\n",
    "    Rule(\"$WordSense\", \"meaning\"),\n",
    "    Rule(\"$WordSense\", \"definition\"),\n",
    "    Rule(\"$WordSense\", \"definitions\"),\n",
    "    Rule(\"$WordSense\", \"possibility\"),\n",
    "    Rule(\"$WordSense\", \"possibilities\"),\n",
    "    Rule(\"$WordSense\", \"case\"),\n",
    "    Rule(\"$WordSense\", \"field\"),\n",
    "]"
   ]
  },
  {
   "cell_type": "code",
   "execution_count": 38,
   "metadata": {},
   "outputs": [
    {
     "name": "stdout",
     "output_type": "stream",
     "text": [
      "Created grammar with 40 rules.\n"
     ]
    }
   ],
   "source": [
    "annotators = [StopWordAnnotator(), ShowVerbAnnotator(), TokenAnnotatorBuilder(\"$UnquotedToken\", [\"'\", '\"', \"?\"])]\n",
    "rules = rules_definition + rules_determiner + rules_be + rules_wordsenses\n",
    "grammar = Grammar(rules=rules, annotators=annotators)\n",
    "parses = grammar.parse_input('define pi')\n",
    "parse = parses[0]"
   ]
  },
  {
   "cell_type": "code",
   "execution_count": 39,
   "metadata": {},
   "outputs": [
    {
     "data": {
      "text/plain": [
       "{'intent': 'define', 'np': 'pi'}"
      ]
     },
     "execution_count": 39,
     "metadata": {},
     "output_type": "execute_result"
    }
   ],
   "source": [
    "parse.semantics"
   ]
  },
  {
   "cell_type": "code",
   "execution_count": 40,
   "metadata": {},
   "outputs": [],
   "source": [
    "parses = grammar.parse_input('define \"pi\"')"
   ]
  },
  {
   "cell_type": "code",
   "execution_count": 41,
   "metadata": {},
   "outputs": [
    {
     "data": {
      "text/plain": [
       "{'intent': 'define', 'isPerson': True, 'np': 'apollo'}"
      ]
     },
     "execution_count": 41,
     "metadata": {},
     "output_type": "execute_result"
    }
   ],
   "source": [
    "grammar.parse_input('who is apollo')[0].semantics"
   ]
  },
  {
   "cell_type": "code",
   "execution_count": 42,
   "metadata": {},
   "outputs": [
    {
     "data": {
      "text/plain": [
       "{'intent': 'define', 'np': 'pi'}"
      ]
     },
     "execution_count": 42,
     "metadata": {},
     "output_type": "execute_result"
    }
   ],
   "source": [
    "parses[0].semantics"
   ]
  },
  {
   "cell_type": "code",
   "execution_count": 43,
   "metadata": {},
   "outputs": [
    {
     "name": "stdout",
     "output_type": "stream",
     "text": [
      " $ROOT ('$DefinitionQuery',)\n",
      "|\n",
      "-- $DefinitionQuery ('$DefinitionQueryElements',)\n",
      "|\n",
      "---- $DefinitionQueryElements ('$DefinitionQuestion', '$NounPhrase')\n",
      "|\n",
      "------ $DefinitionQuestion ('$ShowVerb',)\n",
      "|\n",
      "-------- $ShowVerb ('define',)\n",
      "|\n",
      "------ $NounPhrase ('$\"__nonterminal', '$NounPhrase_$\"__nonterminal')\n",
      "|\n",
      "-------- $\"__nonterminal ('\"',)\n",
      "|\n",
      "-------- $NounPhrase_$\"__nonterminal ('$Tokens', '$\"__nonterminal')\n",
      "|\n",
      "---------- $Tokens ('$UnquotedToken',)\n",
      "|\n",
      "------------ $UnquotedToken ('pi',)\n",
      "|\n",
      "---------- $\"__nonterminal ('\"',)\n"
     ]
    }
   ],
   "source": [
    "def pretty_print(parse, depth=0):\n",
    "    if not isinstance(parse, str):\n",
    "        if depth > 0:\n",
    "            for _ in range(1):\n",
    "                print(\"|\")\n",
    "        print(\"-\" * depth * 2, parse.rule.lhs, parse.rule.rhs)\n",
    "        for child in parse.children:\n",
    "            pretty_print(child, depth+1)\n",
    "\n",
    "pretty_print(parses[0])"
   ]
  },
  {
   "cell_type": "code",
   "execution_count": 44,
   "metadata": {},
   "outputs": [],
   "source": [
    "def print_parse(grammar, utterances):\n",
    "    for utterance in utterances:\n",
    "        print(\"=\" * 20)\n",
    "        print(\"For the utterance \" + utterance + \":\")\n",
    "        for parse in grammar.parse_input(utterance):\n",
    "            print(parse.semantics)"
   ]
  },
  {
   "cell_type": "code",
   "execution_count": 45,
   "metadata": {},
   "outputs": [
    {
     "name": "stdout",
     "output_type": "stream",
     "text": [
      "====================\n",
      "For the utterance define pie:\n",
      "{'intent': 'define', 'np': 'pie'}\n",
      "====================\n",
      "For the utterance tell me about the life:\n",
      "{'intent': 'define', 'np': 'about the life'}\n",
      "{'intent': 'define', 'np': 'life'}\n",
      "====================\n",
      "For the utterance what is an 'apple':\n",
      "{'intent': 'define', 'np': 'apple'}\n",
      "====================\n",
      "For the utterance what is the definition of botanics:\n",
      "{'intent': 'define', 'np': 'the definition of botanics'}\n",
      "{'intent': 'define', 'np': 'definition of botanics'}\n",
      "{'intent': 'define', 'np': 'botanics'}\n",
      "====================\n",
      "For the utterance what does mechanophilia mean:\n",
      "{'intent': 'define', 'np': 'mechanophilia'}\n",
      "====================\n",
      "For the utterance what is apollo:\n",
      "{'intent': 'define', 'np': 'apollo'}\n",
      "====================\n",
      "For the utterance who is apollo:\n",
      "{'intent': 'define', 'isPerson': True, 'np': 'apollo'}\n",
      "====================\n",
      "For the utterance what are ants:\n",
      "{'intent': 'define', 'np': 'ants'}\n",
      "====================\n",
      "For the utterance what are definitions for love:\n",
      "{'intent': 'define', 'np': 'definitions for love'}\n",
      "{'intent': 'define', 'np': 'love'}\n"
     ]
    }
   ],
   "source": [
    "# parses = grammar.parse_input(\"define 'pi'\")\n",
    "define_utterances = [\"define pie\", \"tell me about the life\", \"what is an 'apple'\",\n",
    "                         \"what is the definition of botanics\", \"what does mechanophilia mean\",\n",
    "                         \"what is apollo\", \"who is apollo\", \"what are ants\",\n",
    "                         \"what are definitions for love\"]\n",
    "print_parse(grammar, define_utterances)"
   ]
  },
  {
   "cell_type": "markdown",
   "metadata": {},
   "source": [
    "### Filter intents\n",
    "\n",
    "- \"show me the third sense\"\n",
    "- \"tell me more about the mathematical meaning\"\n",
    "- \"show me some examples\""
   ]
  },
  {
   "cell_type": "code",
   "execution_count": 46,
   "metadata": {},
   "outputs": [],
   "source": [
    "from text_to_num import alpha2digit\n",
    "\n",
    "def remove_suffix(word: str, suffix: str):\n",
    "    \"\"\"Remove a suffix from a string. \"\"\"\n",
    "    if word.endswith(suffix):\n",
    "        return word[:-len(suffix)]\n",
    "    return word\n",
    "\n",
    "def convert_ordinal(word: str):\n",
    "    \"\"\"Convert a number to ordinal\"\"\"\n",
    "    basic_forms = {\"first\": \"one\",\n",
    "                   \"second\": \"two\",\n",
    "                   \"third\": \"three\",\n",
    "                   \"fifth\": \"five\",\n",
    "                   \"twelfth\": \"twelve\"}\n",
    "    \n",
    "    for k, v in basic_forms.items():\n",
    "        word = word.replace(k, v)\n",
    "    \n",
    "    word = word.replace(\"ieth\", \"y\")\n",
    "    \n",
    "    for pattern in [\"st\", \"nd\", \"rd\", \"th\", \"°\"]:\n",
    "        word = remove_suffix(word, pattern)\n",
    "    \n",
    "    converted = alpha2digit(word, \"en\")\n",
    "    try:\n",
    "        return int(converted)\n",
    "    except:\n",
    "        return None\n",
    "\n",
    "class OrdinalNumberAnnotator(Annotator):\n",
    "    def annotate(self, tokens):\n",
    "        if len(tokens) > 1:\n",
    "            return []\n",
    "        value = convert_ordinal(tokens[0])\n",
    "        if value:\n",
    "            return [('$OrdinalNumber', value)]\n",
    "        return []"
   ]
  },
  {
   "cell_type": "code",
   "execution_count": 47,
   "metadata": {},
   "outputs": [
    {
     "data": {
      "text/plain": [
       "[('$OrdinalNumber', 40)]"
      ]
     },
     "execution_count": 47,
     "metadata": {},
     "output_type": "execute_result"
    }
   ],
   "source": [
    "OrdinalNumberAnnotator().annotate(['fortieth'])"
   ]
  },
  {
   "cell_type": "code",
   "execution_count": 48,
   "metadata": {},
   "outputs": [
    {
     "data": {
      "text/plain": [
       "['adverb',\n",
       " 'verb',\n",
       " 'noun',\n",
       " 'propername',\n",
       " 'determiner',\n",
       " 'preposition',\n",
       " 'adjective',\n",
       " 'interjection',\n",
       " 'conjunction',\n",
       " 'particle',\n",
       " 'pronoun',\n",
       " 'adposition',\n",
       " 'affix',\n",
       " 'article',\n",
       " 'postposition',\n",
       " 'letter',\n",
       " 'prefix',\n",
       " 'proverb',\n",
       " 'punctuation',\n",
       " 'symbol',\n",
       " 'suffix']"
      ]
     },
     "execution_count": 48,
     "metadata": {},
     "output_type": "execute_result"
    }
   ],
   "source": [
    "%load_ext autoreload\n",
    "%autoreload 2\n",
    "\n",
    "from tools.providers import FusekiProvider\n",
    "\n",
    "fuseki_provider = FusekiProvider()\n",
    "poses = fuseki_provider.dump_pos_categories()['posEntity'].str[4:]\n",
    "poses.to_list()"
   ]
  },
  {
   "cell_type": "code",
   "execution_count": 49,
   "metadata": {},
   "outputs": [
    {
     "data": {
      "text/plain": [
       "True"
      ]
     },
     "execution_count": 49,
     "metadata": {},
     "output_type": "execute_result"
    }
   ],
   "source": [
    "categories_set = set(fuseki_provider.fetch_all_grammatical_categories().to_list())\n",
    "\n",
    "\"plural\" in categories_set"
   ]
  },
  {
   "cell_type": "code",
   "execution_count": 50,
   "metadata": {},
   "outputs": [],
   "source": [
    "class POSAnnotator(Annotator):\n",
    "    pos_categories = fuseki_provider.dump_pos_categories()['posEntity'].str[4:].to_list()\n",
    "    \n",
    "    def annotate(self, tokens):\n",
    "        if len(tokens) != 1:\n",
    "            return []\n",
    "        # get the singular for the POS\n",
    "        candidate = nlp(tokens[0])[0].lemma_\n",
    "        if candidate in POSAnnotator.pos_categories:\n",
    "            return [('$POS', candidate)]\n",
    "        return []\n",
    "\n",
    "\n",
    "class GrammaticalFeatureAnnotator:\n",
    "    def annotate(self, tokens):\n",
    "        candidate = \" \".join(tokens)\n",
    "        if candidate in categories_set:\n",
    "            return [(\"$GrammaticalFeature\", candidate)]\n",
    "        return []"
   ]
  },
  {
   "cell_type": "code",
   "execution_count": 51,
   "metadata": {},
   "outputs": [],
   "source": [
    "def foo(type_):\n",
    "    def f(sems):\n",
    "        return merge_dicts({'filtertype': type_, 'value': sems[4]}, sems[1])\n",
    "    return f\n",
    "\n",
    "def as_constraint(sem):\n",
    "    return {'constraints': sem}\n",
    "    \n",
    "\n",
    "rules_filter = [\n",
    "    Rule('$ROOT', '$FilterQuery', lambda sems: merge_dicts({'intent': 'filter'}, sems[0])),\n",
    "    # Tell me about...\n",
    "    Rule('$FilterQuery', '?$ShowVerb $FilterQueryElements', sems_1),\n",
    "    Rule('$FilterQuery', '?$ShowVerb ?$StopWord $FilterQueryElements', sems_2),\n",
    "    # What about...\n",
    "    Rule('$FilterQuery', 'what about $FilterQueryElements', sems_2),\n",
    "    # What are the...\n",
    "    Rule('$FilterQuery', 'what $Be ?$Determiner $FilterQueryElements', lambda sems: sems[3]),\n",
    "    # \"which examples are available?\"\n",
    "    Rule('$FilterQuery', 'what $FilterQueryElements $be $More', sems_1),\n",
    "    Rule('$FilterQuery', 'which $FilterQueryElements $be $More', sems_1),\n",
    "    Rule('$FilterQuery', '$FilterQueryElements', sems_0),\n",
    "    \n",
    "    \n",
    "    # ordinal case\n",
    "    Rule('$FilterQueryElements', \"?$More the $OrdinalNumber ?$WordSense ?$Only\",\n",
    "         lambda sems: {'filtertype': 'number', 'value': strip_none(sems)[0]}),\n",
    "         \n",
    "    # \"more about the mathematical case\"\n",
    "    Rule('$FilterQueryElements', \"?$More the $UnquotedToken $WordSense ?$Only\",\n",
    "         lambda sems: {'filtertype': 'semantic', \"value\": strip_none(sems)[0]}),\n",
    "    \n",
    "    # some examples\n",
    "    Rule('$FilterQueryElements', '?$More $Extra', sems_1),\n",
    "    # some examples for the second case\n",
    "    Rule('$FilterQueryElements', '?$More $Extra $StopWord ?$Determiner $OrdinalNumber $WordSense ?$Only',\n",
    "         #lambda sems: merge_dicts({'type': 'number', 'value': sems[4]}, sems[1])),\n",
    "         foo('number')),\n",
    "         \n",
    "    # some examples for the botanical case\n",
    "    Rule('$FilterQueryElements', '?$More $Extra $StopWord ?$Determiner $UnquotedToken $WordSense ?$Only',\n",
    "         # lambda sems: merge_dicts({'type': 'sense_meaning', 'value': sems[4]}, sems[1])),\n",
    "         foo('semantic')),\n",
    "\n",
    "    # some examples as a verb\n",
    "    Rule('$FilterQueryElements', '?$More $Extra ?$Filler $StopWord ?$Determiner $POS',\n",
    "         # lambda sems: merge_dicts({'type': 'sense_meaning', 'value': sems[4]}, sems[1])),\n",
    "         lambda sems: merge_dicts({'filtertype': 'grammatical', 'requiredPos': sems[5]}, sems[1])),\n",
    "    \n",
    "    # Show me the plural form\n",
    "    Rule(\"$FilterQueryElements\", \"$Determiner $GrammaticalFeature ?form\",\n",
    "         lambda sems: {'filtertype': 'grammatical', 'grammaticalFeature': sems[1]}),\n",
    "    \n",
    "    # Ask for examples, categories or usages\n",
    "    Rule('$Extra', 'examples', {'variant': \"example\"}),\n",
    "    Rule('$Extra', 'categories', {'variant': \"categories\"}),\n",
    "    Rule('$Extra', 'usages', {'variant': \"usages\"}),\n",
    "    Rule('$Extra', 'senses', {'variant': \"senses\"}),\n",
    "    Rule('$Extra', 'parts of speech', {'variant': \"pos\"}),\n",
    "    Rule('$Extra', 'conjugate', {'variant': \"forms\"}),\n",
    "    Rule('$Extra', 'conjugation', {'variant': \"forms\"}),\n",
    "    Rule('$Extra', 'forms', {'variant': \"forms\"}),\n",
    "    \n",
    "    # Category question where category precedes the rest\n",
    "    Rule('$FilterQuery', \"$FilterCategoryQuery\",\n",
    "         lambda sems: merge_dicts({'filtertype': 'semantic'}, sems[0])),\n",
    "    # in the field of computer science, what does x mean?\n",
    "    Rule('$FilterCategoryQuery', \"$Category $WhatFilter\", sems_0),\n",
    "    Rule('$FilterCategoryQuery', \"$WhatFilter $Category\", sems_1),\n",
    "    Rule('$FilterCategoryQuery', \"$Category $?More $Extra\", merge_dicts_singleparam),\n",
    "    \n",
    "    \n",
    "    Rule('$More', \"more\"),\n",
    "    Rule('$More', \"more about\"),\n",
    "    Rule('$More', \"some\"),\n",
    "    Rule('$More', \"some some\"),\n",
    "    Rule('$More', \"any\"),\n",
    "    Rule('$More', 'possible'),\n",
    "    Rule('$More', 'available'),\n",
    "\n",
    "    \n",
    "    Rule(\"$Only\", \"only\"),\n",
    "    Rule(\"$Only\", \"alone\"),\n",
    "    \n",
    "    # for \"X\", as in \"show me more examples for 'snow\"\n",
    "    Rule(\"$Filler\", \"$StopWord $NounPhrase\"),\n",
    "    \n",
    "    Rule(\"$Category\", \"in $Determiner $WordSense $StopWord $NounPhrase ?,\", lambda sems: {'category': sems[4]['np']}),\n",
    "    Rule(\"$WhatFilter\", \"what does $NounPhrase mean\"),\n",
    "    Rule(\"$WhatFilter\", \"what $Be $Determiner $WordSense\"),\n",
    "]\n"
   ]
  },
  {
   "cell_type": "code",
   "execution_count": 52,
   "metadata": {},
   "outputs": [
    {
     "name": "stdout",
     "output_type": "stream",
     "text": [
      "Created grammar with 80 rules.\n"
     ]
    }
   ],
   "source": [
    "annotators = [StopWordAnnotator(), ShowVerbAnnotator(),\n",
    "                TokenAnnotatorBuilder(\"$UnquotedToken\", [\"'\", '\"', \"?\", \",\"]), # commas must split noun phrases\n",
    "                OrdinalNumberAnnotator(), POSAnnotator(),\n",
    "                GrammaticalFeatureAnnotator()]\n",
    "\n",
    "rules_2 = rules_definition + rules_determiner + rules_filter + rules_be + rules_wordsenses\n",
    "\n",
    "grammar_2 = Grammar(rules=rules_2, annotators=annotators)"
   ]
  },
  {
   "cell_type": "code",
   "execution_count": 53,
   "metadata": {},
   "outputs": [
    {
     "name": "stdout",
     "output_type": "stream",
     "text": [
      "====================\n",
      "For the utterance tell me the first one:\n",
      "{'intent': 'filter', 'filtertype': 'semantic', 'value': 'first'}\n",
      "{'intent': 'filter', 'filtertype': 'semantic', 'value': 'first'}\n",
      "{'intent': 'filter', 'filtertype': 'number', 'value': 1}\n",
      "{'intent': 'filter', 'filtertype': 'number', 'value': 1}\n",
      "{'intent': 'define', 'np': 'the first one'}\n",
      "{'intent': 'define', 'np': 'first one'}\n",
      "====================\n",
      "For the utterance tell me the mathematical one only:\n",
      "{'intent': 'filter', 'filtertype': 'semantic', 'value': 'mathematical'}\n",
      "{'intent': 'filter', 'filtertype': 'semantic', 'value': 'mathematical'}\n",
      "{'intent': 'define', 'np': 'the mathematical one only'}\n",
      "{'intent': 'define', 'np': 'mathematical one only'}\n",
      "====================\n",
      "For the utterance tell me more examples:\n",
      "{'intent': 'filter', 'variant': 'example'}\n",
      "{'intent': 'filter', 'variant': 'example'}\n",
      "{'intent': 'filter', 'variant': 'example'}\n",
      "{'intent': 'define', 'np': 'more examples'}\n",
      "====================\n",
      "For the utterance what about more examples for the first one:\n",
      "{'intent': 'filter', 'filtertype': 'semantic', 'value': 'first', 'variant': 'example'}\n",
      "{'intent': 'filter', 'filtertype': 'number', 'value': 1, 'variant': 'example'}\n",
      "====================\n",
      "For the utterance show me more examples for the chemistry one:\n",
      "{'intent': 'filter', 'filtertype': 'semantic', 'value': 'chemistry', 'variant': 'example'}\n",
      "{'intent': 'filter', 'filtertype': 'semantic', 'value': 'chemistry', 'variant': 'example'}\n",
      "{'intent': 'filter', 'filtertype': 'semantic', 'value': 'chemistry', 'variant': 'example'}\n",
      "{'intent': 'define', 'np': 'more examples for the chemistry one'}\n",
      "====================\n",
      "For the utterance show me more examples as a noun:\n",
      "{'intent': 'filter', 'filtertype': 'grammatical', 'requiredPos': 'noun', 'variant': 'example'}\n",
      "{'intent': 'filter', 'filtertype': 'grammatical', 'requiredPos': 'noun', 'variant': 'example'}\n",
      "{'intent': 'filter', 'filtertype': 'grammatical', 'requiredPos': 'noun', 'variant': 'example'}\n",
      "{'intent': 'define', 'np': 'more examples as a noun'}\n",
      "====================\n",
      "For the utterance show me more examples of home as a verb:\n",
      "{'intent': 'filter', 'filtertype': 'grammatical', 'requiredPos': 'verb', 'variant': 'example'}\n",
      "{'intent': 'filter', 'filtertype': 'grammatical', 'requiredPos': 'verb', 'variant': 'example'}\n",
      "{'intent': 'filter', 'filtertype': 'grammatical', 'requiredPos': 'verb', 'variant': 'example'}\n",
      "{'intent': 'filter', 'filtertype': 'grammatical', 'requiredPos': 'verb', 'variant': 'example'}\n",
      "{'intent': 'filter', 'filtertype': 'grammatical', 'requiredPos': 'verb', 'variant': 'example'}\n",
      "{'intent': 'filter', 'filtertype': 'grammatical', 'requiredPos': 'verb', 'variant': 'example'}\n",
      "{'intent': 'define', 'np': 'more examples of home as a verb'}\n",
      "====================\n",
      "For the utterance more examples of home as a verb:\n",
      "{'intent': 'filter', 'filtertype': 'grammatical', 'requiredPos': 'verb', 'variant': 'example'}\n",
      "{'intent': 'filter', 'filtertype': 'grammatical', 'requiredPos': 'verb', 'variant': 'example'}\n",
      "{'intent': 'filter', 'filtertype': 'grammatical', 'requiredPos': 'verb', 'variant': 'example'}\n",
      "{'intent': 'filter', 'filtertype': 'grammatical', 'requiredPos': 'verb', 'variant': 'example'}\n",
      "{'intent': 'filter', 'filtertype': 'grammatical', 'requiredPos': 'verb', 'variant': 'example'}\n",
      "{'intent': 'filter', 'filtertype': 'grammatical', 'requiredPos': 'verb', 'variant': 'example'}\n",
      "{'intent': 'filter', 'filtertype': 'grammatical', 'requiredPos': 'verb', 'variant': 'example'}\n",
      "{'intent': 'filter', 'filtertype': 'grammatical', 'requiredPos': 'verb', 'variant': 'example'}\n",
      "====================\n",
      "For the utterance in the field of biology, what is the definition:\n",
      "{'intent': 'filter', 'filtertype': 'semantic', 'category': 'biology'}\n",
      "====================\n",
      "For the utterance what does it mean in the field of computer science:\n",
      "{'intent': 'filter', 'filtertype': 'semantic', 'category': 'computer science'}\n",
      "====================\n",
      "For the utterance tell me the singular form:\n",
      "{'intent': 'filter', 'filtertype': 'grammatical', 'grammaticalFeature': 'singular'}\n",
      "{'intent': 'filter', 'filtertype': 'grammatical', 'grammaticalFeature': 'singular'}\n",
      "{'intent': 'define', 'np': 'the singular form'}\n",
      "{'intent': 'define', 'np': 'singular form'}\n",
      "====================\n",
      "For the utterance more examples:\n",
      "{'intent': 'filter', 'variant': 'example'}\n",
      "{'intent': 'filter', 'variant': 'example'}\n",
      "{'intent': 'filter', 'variant': 'example'}\n",
      "{'intent': 'filter', 'variant': 'example'}\n",
      "====================\n",
      "For the utterance what are the available parts of speech:\n",
      "{'intent': 'filter', 'variant': 'pos'}\n",
      "{'intent': 'define', 'np': 'the available parts of speech'}\n",
      "{'intent': 'define', 'np': 'available parts of speech'}\n"
     ]
    }
   ],
   "source": [
    "filter_utterances = [\"tell me the first one\", \"tell me the mathematical one only\",\n",
    "                         \"tell me more examples\", \"what about more examples for the first one\",\n",
    "                         \"show me more examples for the chemistry one\", \"show me more examples as a noun\",\n",
    "                         \"show me more examples of home as a verb\", \"more examples of home as a verb\",\n",
    "                         \"in the field of biology, what is the definition\",\n",
    "                         \"what does it mean in the field of computer science\",\n",
    "                         \"tell me the singular form\",\n",
    "                         \"more examples\",\n",
    "                         \"what are the available parts of speech\"]\n",
    "\n",
    "print_parse(grammar_2, filter_utterances)"
   ]
  },
  {
   "cell_type": "markdown",
   "metadata": {},
   "source": [
    "### Related intent\n",
    "\n",
    "- What are possible synonyms?\n",
    "- What are its opposites?\n",
    "- What are related words? (generic)"
   ]
  },
  {
   "cell_type": "code",
   "execution_count": 54,
   "metadata": {},
   "outputs": [],
   "source": [
    "rules_derived = [\n",
    "    Rule('$ROOT', '$RelatedQuery', lambda sems: merge_dicts({'intent': 'related'}, sems[0])),\n",
    "    \n",
    "    Rule('$RelatedQuery', '?$ShowVerb $RelatedQueryElements', sems_1),\n",
    "    # What are related senses?\n",
    "    Rule('$RelatedQuery', 'what $Be $RelatedQueryElements', sems_2),\n",
    "    Rule('$RelatedQuery', 'which $Be $RelatedQueryElements', sems_2),\n",
    "    # What senses are related\n",
    "    Rule('$RelatedQuery', 'what $Word $Be $RelatedQueryElements', lambda sems: sems[3]),\n",
    "    Rule('$RelatedQuery', '$RelatedQueryElements', sems_0),\n",
    "    Rule('$RelatedQueryElements', '?$Determiner $Derived ?$Word', sems_1),\n",
    "    Rule('$RelatedQueryElements', '?$More $Derived ?$Word', sems_1),\n",
    "    Rule('$RelatedQueryElements', '?$Determiner $Quality $Derived', lambda sems: merge_dicts(sems[1], sems[2])),\n",
    "    Rule('$RelatedQueryElements', '?$More $Quality $Derived', lambda sems: merge_dicts(sems[1], sems[2])),\n",
    "    \n",
    "    \n",
    "     # some examples of the derived words\n",
    "    Rule('$RelatedQueryElements', '?$More $Extra $StopWord ?$Determiner $Derived ?$Word',\n",
    "         lambda sems: merge_dicts(sems[1], sems[4])),\n",
    "         \n",
    "    Rule('$Derived', 'derived', {'filtertype': 'derived'}),\n",
    "    Rule('$Derived', 'synonym', {'filtertype': 'synonym'}),\n",
    "    Rule('$Derived', 'synonyms', {'filtertype': 'synonym'}),\n",
    "    Rule('$Derived', 'antonym', {'filtertype': 'antonym'}),\n",
    "    Rule('$Derived', 'opposites', {'filtertype': 'antonym'}),\n",
    "    Rule('$Derived', 'antonyms', {'filtertype': 'antonym'}),\n",
    "    Rule('$Derived', 'related', {'filtertype': 'related'}),\n",
    "    \n",
    "    Rule('$Quality', '$UnquotedToken', lambda sems: {'category': sems[0]}),\n",
    "]\n",
    "\n",
    "rules_words = [\n",
    "    Rule('$Word', 'word'),\n",
    "    Rule('$Word', 'words'),\n",
    "    Rule('$Word', 'lexeme'),\n",
    "    Rule('$Word', 'lexemes'),\n",
    "    Rule('$Word', 'lemma'),\n",
    "    Rule('$Word', 'lemmas'),\n",
    "]\n"
   ]
  },
  {
   "cell_type": "code",
   "execution_count": 55,
   "metadata": {},
   "outputs": [
    {
     "name": "stdout",
     "output_type": "stream",
     "text": [
      "Created grammar with 105 rules.\n"
     ]
    }
   ],
   "source": [
    "rules_3 = rules_be + rules_definition + rules_determiner + rules_filter + rules_words + rules_wordsenses + rules_derived\n",
    "\n",
    "\n",
    "grammar_3 = Grammar(rules=rules_3, annotators=annotators)"
   ]
  },
  {
   "cell_type": "code",
   "execution_count": 56,
   "metadata": {},
   "outputs": [
    {
     "name": "stdout",
     "output_type": "stream",
     "text": [
      "====================\n",
      "For the utterance what are derived words:\n",
      "{'intent': 'related', 'filtertype': 'derived'}\n",
      "{'intent': 'related', 'filtertype': 'derived'}\n",
      "{'intent': 'define', 'np': 'derived words'}\n",
      "====================\n",
      "For the utterance what are possible derived words:\n",
      "{'intent': 'related', 'filtertype': 'derived'}\n",
      "{'intent': 'define', 'np': 'possible derived words'}\n",
      "====================\n",
      "For the utterance show me some antonyms:\n",
      "{'intent': 'related', 'filtertype': 'antonym'}\n",
      "{'intent': 'related', 'filtertype': 'antonym'}\n",
      "{'intent': 'related', 'category': 'some', 'filtertype': 'antonym'}\n",
      "{'intent': 'related', 'category': 'some', 'filtertype': 'antonym'}\n",
      "{'intent': 'define', 'np': 'some antonyms'}\n",
      "{'intent': 'define', 'np': 'antonyms'}\n",
      "====================\n",
      "For the utterance show me some stylish synonyms:\n",
      "{'intent': 'related', 'category': 'stylish', 'filtertype': 'synonym'}\n",
      "{'intent': 'related', 'category': 'stylish', 'filtertype': 'synonym'}\n",
      "{'intent': 'define', 'np': 'some stylish synonyms'}\n",
      "{'intent': 'define', 'np': 'stylish synonyms'}\n",
      "====================\n",
      "For the utterance what are some opposites:\n",
      "{'intent': 'related', 'filtertype': 'antonym'}\n",
      "{'intent': 'related', 'filtertype': 'antonym'}\n",
      "{'intent': 'related', 'category': 'some', 'filtertype': 'antonym'}\n",
      "{'intent': 'related', 'category': 'some', 'filtertype': 'antonym'}\n",
      "{'intent': 'define', 'np': 'some opposites'}\n",
      "{'intent': 'define', 'np': 'opposites'}\n"
     ]
    }
   ],
   "source": [
    "related_utterances = [\"what are derived words\", \"what are possible derived words\",\n",
    "                          \"show me some antonyms\", \"show me some stylish synonyms\",\n",
    "                          \"what are some opposites\"]\n",
    "\n",
    "print_parse(grammar_3, related_utterances)"
   ]
  },
  {
   "cell_type": "markdown",
   "metadata": {},
   "source": [
    "### Decide queries\n",
    "\n",
    "- is it regular?\n",
    "- is family a synonym for collection?\n",
    "- can adverbs have a comparative form?\n",
    "- can it be used as a noun\n",
    "- do nouns have comparatives?"
   ]
  },
  {
   "cell_type": "code",
   "execution_count": 57,
   "metadata": {},
   "outputs": [],
   "source": [
    "rules_decide = [\n",
    "    Rule('$ROOT', '$DecideQuery',\n",
    "         lambda sems: merge_dicts({'intent': 'decide'}, sems[0])),\n",
    "    \n",
    "    # is it a noun?\n",
    "    Rule('$DecideQuery', '$Be $DecideQuerySubject ?$Determiner $DecideQueryObject',\n",
    "        merge_dicts_singleparam),\n",
    "    \n",
    "    Rule('$DecideQuery', 'can $DecideQuerySubject $Be ?$Determiner $DecideQueryObject',\n",
    "         merge_dicts_singleparam),\n",
    "    \n",
    "    # can reticence be used as a noun\n",
    "    Rule('$DecideQuery', 'can $DecideQuerySubject ?$Be $UsedLike $DecideQueryObject',\n",
    "         merge_dicts_singleparam),\n",
    "    \n",
    "    Rule('$DecideQuery', 'can $DecideQuerySubject $Have ?$Determiner $DecideQueryObject',\n",
    "         merge_dicts_singleparam),\n",
    "    \n",
    "    Rule('$DecideQuery', '$Do $DecideQuerySubject $Have ?$Determiner $DecideQueryObject',\n",
    "         merge_dicts_singleparam),\n",
    "    \n",
    "    \n",
    "    # do adverbs have comparatives?\n",
    "    Rule('$DecideQuery', '$Do $DecideQuerySubject $Have $DecideQueryObject',\n",
    "         merge_dicts_singleparam),\n",
    "    \n",
    "    \n",
    "    Rule('$DecideQuerySubject', \"it\"),\n",
    "    Rule('$DecideQuerySubject', \"$POS\",\n",
    "         lambda sems: {\"filtertype\": \"grammatical\", \"requiredPos\": sems[0]}),\n",
    "    \n",
    "    # \"is family a noun?\"\n",
    "    Rule('$DecideQuerySubject', \"$NounPhrase\", sems_0),\n",
    "    \n",
    "    # is it a noun\n",
    "    Rule('$DecideQueryObject', \"$POS\",\n",
    "         lambda sems: {'filtertype': 'grammatical', 'requiredPos': sems[0]}),\n",
    "    \n",
    "    # is it a comparative\n",
    "    Rule('$DecideQueryObject', \"$GrammaticalFeature ?$FormStopword\",\n",
    "         lambda sems: {'filtertype': 'grammatical', 'grammaticalFeature': sems[0]}),\n",
    "    \n",
    "    # does it have opposites?\n",
    "    Rule('$DecideQueryObject', \"$Derived\", sems_0),\n",
    "    \n",
    "    # does it have examples\n",
    "    Rule('$DecideQueryObject', \"$Extra\", sems_0),\n",
    "    \n",
    "    # is it a synonym of love?\n",
    "    Rule('$DecideQueryObject', \"$Derived $StopWord $NounPhrase\",\n",
    "         lambda sems: merge_dicts(sems[0], {'relatedTerm': sems[2]['np']})),\n",
    "    \n",
    "    # examples, usages, senses...\n",
    "    Rule('$DecideQueryObject', '$Extra', sems_0),\n",
    "    \n",
    "    Rule('$UsedLike', 'used as ?in ?$Determiner'),\n",
    "    Rule('$UsedLike', 'used like ?in ?$Determiner'),\n",
    "    Rule('$UsedLike', 'adopted ?in ?$Determiner'),\n",
    "    \n",
    "    Rule('$FormStopWord', \"?morphological form\"),\n",
    "    Rule('$FormStopWord', \"morphology\"),\n",
    "]\n",
    "\n",
    "rules_have = [\n",
    "    Rule(\"$Have\", 'have'),\n",
    "    Rule(\"$Have\", 'has'),\n",
    "    Rule(\"$Have\", 'had'),\n",
    "    Rule(\"$Have\", 'having'),\n",
    "    Rule(\"$Have\", \"' d\")\n",
    "]\n",
    "\n",
    "rules_do = [\n",
    "    Rule(\"$Do\", 'do'),\n",
    "    Rule(\"$Do\", 'does'),\n",
    "]"
   ]
  },
  {
   "cell_type": "code",
   "execution_count": 58,
   "metadata": {},
   "outputs": [
    {
     "name": "stdout",
     "output_type": "stream",
     "text": [
      "Created grammar with 133 rules.\n"
     ]
    }
   ],
   "source": [
    "rules_4 = rules_be + rules_have + rules_do + rules_definition + \\\n",
    "            rules_determiner + rules_filter + rules_words + rules_wordsenses + \\\n",
    "            rules_derived + rules_decide\n",
    "\n",
    "\n",
    "grammar_4 = Grammar(rules=rules_4, annotators=annotators)"
   ]
  },
  {
   "cell_type": "code",
   "execution_count": 59,
   "metadata": {},
   "outputs": [
    {
     "name": "stdout",
     "output_type": "stream",
     "text": [
      "====================\n",
      "For the utterance is it singular:\n",
      "{'intent': 'decide', 'filtertype': 'grammatical', 'grammaticalFeature': 'singular'}\n",
      "{'intent': 'decide', 'np': 'it', 'filtertype': 'grammatical', 'grammaticalFeature': 'singular'}\n",
      "====================\n",
      "For the utterance is family a synonym of collection:\n",
      "{'intent': 'decide', 'np': 'family', 'filtertype': 'synonym', 'relatedTerm': 'collection'}\n",
      "{'intent': 'decide', 'np': 'family a', 'filtertype': 'synonym', 'relatedTerm': 'collection'}\n",
      "====================\n",
      "For the utterance can adverbs have tense:\n",
      "{'intent': 'decide', 'filtertype': 'grammatical', 'requiredPos': 'adverb', 'grammaticalFeature': 'tense'}\n",
      "{'intent': 'decide', 'np': 'adverbs', 'filtertype': 'grammatical', 'grammaticalFeature': 'tense'}\n",
      "====================\n",
      "For the utterance can it be used as a noun:\n",
      "{'intent': 'decide', 'filtertype': 'grammatical', 'requiredPos': 'noun'}\n",
      "{'intent': 'decide', 'np': 'it', 'filtertype': 'grammatical', 'requiredPos': 'noun'}\n",
      "{'intent': 'decide', 'np': 'it be', 'filtertype': 'grammatical', 'requiredPos': 'noun'}\n",
      "====================\n",
      "For the utterance do nouns have comparative:\n",
      "{'intent': 'decide', 'filtertype': 'grammatical', 'requiredPos': 'noun', 'grammaticalFeature': 'comparative'}\n",
      "{'intent': 'decide', 'filtertype': 'grammatical', 'requiredPos': 'noun', 'grammaticalFeature': 'comparative'}\n",
      "{'intent': 'decide', 'np': 'nouns', 'filtertype': 'grammatical', 'grammaticalFeature': 'comparative'}\n",
      "{'intent': 'decide', 'np': 'nouns', 'filtertype': 'grammatical', 'grammaticalFeature': 'comparative'}\n"
     ]
    }
   ],
   "source": [
    "decision_utterances = [\"is it singular\", \"is family a synonym of collection\",\n",
    "                           \"can adverbs have tense\", \"can it be used as a noun\",\n",
    "                            \"do nouns have comparative\"]\n",
    "\n",
    "print_parse(grammar_4, decision_utterances)"
   ]
  },
  {
   "cell_type": "markdown",
   "metadata": {},
   "source": [
    "## Interlude: Question Answering demo\n",
    "\n",
    "By now we'll ignore that a parsed sentence may (and usually does) bring about multiple semantics.\n",
    "\n",
    "Instead, we'll hardcode a \"simple\" priority choice: take the semantics with the greatest number of keys. It should work in a number of situations.\n",
    "\n",
    "In case the choices are only definitions, pick the one with the shortest np.\n",
    "\n",
    "In case I have to choose between two filters, always prefer the number type."
   ]
  },
  {
   "cell_type": "code",
   "execution_count": 60,
   "metadata": {},
   "outputs": [
    {
     "name": "stderr",
     "output_type": "stream",
     "text": [
      "INFO:root:Created grammar with 132 rules.\n",
      "INFO:root:Load pretrained SentenceTransformer: bert-base-nli-mean-tokens\n",
      "INFO:root:Did not find a '/' or '\\' in the name. Assume to download model from server.\n",
      "INFO:root:Load SentenceTransformer from folder: /root/.cache/torch/sentence_transformers/public.ukp.informatik.tu-darmstadt.de_reimers_sentence-transformers_v0.2_bert-base-nli-mean-tokens.zip\n",
      "INFO:transformers.configuration_utils:loading configuration file /root/.cache/torch/sentence_transformers/public.ukp.informatik.tu-darmstadt.de_reimers_sentence-transformers_v0.2_bert-base-nli-mean-tokens.zip/0_BERT/config.json\n",
      "INFO:transformers.configuration_utils:Model config BertConfig {\n",
      "  \"attention_probs_dropout_prob\": 0.1,\n",
      "  \"hidden_act\": \"gelu\",\n",
      "  \"hidden_dropout_prob\": 0.1,\n",
      "  \"hidden_size\": 768,\n",
      "  \"initializer_range\": 0.02,\n",
      "  \"intermediate_size\": 3072,\n",
      "  \"layer_norm_eps\": 1e-12,\n",
      "  \"max_position_embeddings\": 512,\n",
      "  \"model_type\": \"bert\",\n",
      "  \"num_attention_heads\": 12,\n",
      "  \"num_hidden_layers\": 12,\n",
      "  \"pad_token_id\": 0,\n",
      "  \"type_vocab_size\": 2,\n",
      "  \"vocab_size\": 30522\n",
      "}\n",
      "\n",
      "INFO:transformers.modeling_utils:loading weights file /root/.cache/torch/sentence_transformers/public.ukp.informatik.tu-darmstadt.de_reimers_sentence-transformers_v0.2_bert-base-nli-mean-tokens.zip/0_BERT/pytorch_model.bin\n",
      "INFO:transformers.tokenization_utils:Model name '/root/.cache/torch/sentence_transformers/public.ukp.informatik.tu-darmstadt.de_reimers_sentence-transformers_v0.2_bert-base-nli-mean-tokens.zip/0_BERT' not found in model shortcut name list (bert-base-uncased, bert-large-uncased, bert-base-cased, bert-large-cased, bert-base-multilingual-uncased, bert-base-multilingual-cased, bert-base-chinese, bert-base-german-cased, bert-large-uncased-whole-word-masking, bert-large-cased-whole-word-masking, bert-large-uncased-whole-word-masking-finetuned-squad, bert-large-cased-whole-word-masking-finetuned-squad, bert-base-cased-finetuned-mrpc, bert-base-german-dbmdz-cased, bert-base-german-dbmdz-uncased, TurkuNLP/bert-base-finnish-cased-v1, TurkuNLP/bert-base-finnish-uncased-v1, wietsedv/bert-base-dutch-cased). Assuming '/root/.cache/torch/sentence_transformers/public.ukp.informatik.tu-darmstadt.de_reimers_sentence-transformers_v0.2_bert-base-nli-mean-tokens.zip/0_BERT' is a path, a model identifier, or url to a directory containing tokenizer files.\n",
      "INFO:transformers.tokenization_utils:Didn't find file /root/.cache/torch/sentence_transformers/public.ukp.informatik.tu-darmstadt.de_reimers_sentence-transformers_v0.2_bert-base-nli-mean-tokens.zip/0_BERT/tokenizer_config.json. We won't load it.\n",
      "INFO:transformers.tokenization_utils:loading file /root/.cache/torch/sentence_transformers/public.ukp.informatik.tu-darmstadt.de_reimers_sentence-transformers_v0.2_bert-base-nli-mean-tokens.zip/0_BERT/vocab.txt\n",
      "INFO:transformers.tokenization_utils:loading file /root/.cache/torch/sentence_transformers/public.ukp.informatik.tu-darmstadt.de_reimers_sentence-transformers_v0.2_bert-base-nli-mean-tokens.zip/0_BERT/added_tokens.json\n",
      "INFO:transformers.tokenization_utils:loading file /root/.cache/torch/sentence_transformers/public.ukp.informatik.tu-darmstadt.de_reimers_sentence-transformers_v0.2_bert-base-nli-mean-tokens.zip/0_BERT/special_tokens_map.json\n",
      "INFO:transformers.tokenization_utils:loading file None\n",
      "INFO:root:Use pytorch device: cpu\n"
     ]
    }
   ],
   "source": [
    "from tools.providers import WiktionaryProvider\n",
    "from tools.answering import QuestionAnsweringContext, DefinitionIntent, FilterIntent\n",
    "from IPython.core.display import display, HTML\n",
    "\n",
    "provider = WiktionaryProvider()\n",
    "\n",
    "def priority_calculator(parse):\n",
    "    filtertype_priority = {'grammatical': 1, 'semantic': 2, 'number': 3,\n",
    "                  'synonym': 4, 'antonym': 4, 'derived': 4, 'related': 4}\n",
    "    \n",
    "    # the more keys, the better\n",
    "    score = len(parse.keys()) * 10 + (filtertype_priority[parse['filtertype']] if 'filtertype' in parse else 0)\n",
    "    \n",
    "    # ... except for np\n",
    "    score -=  12 * len(parse['np'].split(\" \")) if 'np' in parse else 0\n",
    "    return score\n",
    "    \n",
    "def pick_best_semantics(parses):\n",
    "    \"\"\"\n",
    "    Return the most likely matching parse.\n",
    "    \n",
    "    This is a simple stub. Does not do any ML here, despite it could\n",
    "    (and should), so use with care.\n",
    "    \"\"\"\n",
    "    if parses == []:\n",
    "        return {}\n",
    "    semantics = [parse.semantics for parse in parses]\n",
    "    \n",
    "    if all(parse[\"intent\"] == \"define\" for parse in semantics):\n",
    "        picked_parser = min(semantics, key=lambda parse: len(parse[\"np\"]))\n",
    "    \n",
    "    else:\n",
    "        picked_parser = max(semantics, key=priority_calculator)\n",
    "        \n",
    "    return picked_parser\n",
    "\n",
    "context = QuestionAnsweringContext()"
   ]
  },
  {
   "cell_type": "code",
   "execution_count": 61,
   "metadata": {},
   "outputs": [
    {
     "data": {
      "text/plain": [
       "{'intent': 'related', 'filtertype': 'synonym'}"
      ]
     },
     "execution_count": 61,
     "metadata": {},
     "output_type": "execute_result"
    }
   ],
   "source": [
    "pick_best_semantics(grammar_4.parse_input(\"show me synonyms\"))"
   ]
  },
  {
   "cell_type": "code",
   "execution_count": 62,
   "metadata": {},
   "outputs": [
    {
     "data": {
      "text/plain": [
       "{'intent': 'related', 'filtertype': 'antonym'}"
      ]
     },
     "execution_count": 62,
     "metadata": {},
     "output_type": "execute_result"
    }
   ],
   "source": [
    "pick_best_semantics(grammar_4.parse_input(\"show me antonyms\"))"
   ]
  },
  {
   "cell_type": "code",
   "execution_count": 63,
   "metadata": {},
   "outputs": [
    {
     "data": {
      "text/plain": [
       "{'intent': 'decide', 'filtertype': 'grammatical', 'requiredPos': 'adjective'}"
      ]
     },
     "execution_count": 63,
     "metadata": {},
     "output_type": "execute_result"
    }
   ],
   "source": [
    "pick_best_semantics(grammar_4.parse_input(\"can it be used as an adjective\"))"
   ]
  },
  {
   "cell_type": "code",
   "execution_count": 64,
   "metadata": {},
   "outputs": [
    {
     "data": {
      "text/plain": [
       "{'intent': 'filter', 'filtertype': 'number', 'value': 1, 'variant': 'example'}"
      ]
     },
     "execution_count": 64,
     "metadata": {},
     "output_type": "execute_result"
    }
   ],
   "source": [
    "pick_best_semantics(grammar_2.parse_input('what about more examples for the first one'))"
   ]
  },
  {
   "cell_type": "code",
   "execution_count": 65,
   "metadata": {},
   "outputs": [
    {
     "data": {
      "text/plain": [
       "{'intent': 'filter', 'variant': 'example'}"
      ]
     },
     "execution_count": 65,
     "metadata": {},
     "output_type": "execute_result"
    }
   ],
   "source": [
    "pick_best_semantics(grammar_4.parse_input('show me some examples'))"
   ]
  },
  {
   "cell_type": "code",
   "execution_count": 66,
   "metadata": {},
   "outputs": [
    {
     "data": {
      "text/plain": [
       "{'intent': 'filter',\n",
       " 'filtertype': 'semantic',\n",
       " 'value': 'botanics',\n",
       " 'variant': 'example'}"
      ]
     },
     "execution_count": 66,
     "metadata": {},
     "output_type": "execute_result"
    }
   ],
   "source": [
    "pick_best_semantics(grammar_4.parse_input('more examples for the botanics one'))"
   ]
  },
  {
   "cell_type": "code",
   "execution_count": 67,
   "metadata": {},
   "outputs": [
    {
     "data": {
      "text/plain": [
       "{'intent': 'filter', 'filtertype': 'number', 'value': 1, 'variant': 'example'}"
      ]
     },
     "execution_count": 67,
     "metadata": {},
     "output_type": "execute_result"
    }
   ],
   "source": [
    "pick_best_semantics(grammar_4.parse_input('more examples for the first one'))"
   ]
  },
  {
   "cell_type": "code",
   "execution_count": 68,
   "metadata": {},
   "outputs": [
    {
     "data": {
      "text/plain": [
       "{'intent': 'filter', 'filtertype': 'number', 'value': 1, 'variant': 'example'}"
      ]
     },
     "execution_count": 68,
     "metadata": {},
     "output_type": "execute_result"
    }
   ],
   "source": [
    "pick_best_semantics(grammar_4.parse_input('show me more examples for the first one'))"
   ]
  },
  {
   "cell_type": "code",
   "execution_count": 69,
   "metadata": {},
   "outputs": [
    {
     "data": {
      "text/plain": [
       "{'intent': 'define', 'np': 'butterfly'}"
      ]
     },
     "execution_count": 69,
     "metadata": {},
     "output_type": "execute_result"
    }
   ],
   "source": [
    "pick_best_semantics(grammar_4.parse_input('define butterfly'))"
   ]
  },
  {
   "cell_type": "markdown",
   "metadata": {},
   "source": [
    "## Sklearn evaluation"
   ]
  },
  {
   "cell_type": "code",
   "execution_count": 71,
   "metadata": {},
   "outputs": [],
   "source": [
    "import json\n",
    "import pandas as pd\n",
    "from tools.dumps import wrap_open\n",
    "\n",
    "with wrap_open(\"intents/sample.json\") as fp:\n",
    "    dataset = json.load(fp)"
   ]
  },
  {
   "cell_type": "code",
   "execution_count": 72,
   "metadata": {},
   "outputs": [],
   "source": [
    "from sklearn.base import BaseEstimator, ClassifierMixin, TransformerMixin\n",
    "from sklearn.pipeline import Pipeline\n",
    "import copy\n",
    "\n",
    "class SamplePreprocessor(BaseEstimator, TransformerMixin):\n",
    "    def fit(self, X=None, Y=None):\n",
    "        return self\n",
    "    \n",
    "    def transform(self, dataset):\n",
    "        # simply return sessions as an array\n",
    "        df = copy.deepcopy(dataset)\n",
    "        sessions = df['sessions']\n",
    "        for session in sessions:\n",
    "            for turn in session['turns']:\n",
    "                del turn['target']\n",
    "            session['turns'] = [turn['utterance'] for turn in session['turns']]\n",
    "        return sessions\n",
    "\n",
    "sessions = SamplePreprocessor().fit_transform(dataset)\n",
    "targets = [[turn['target'] for turn in session['turns']] for session in dataset['sessions']]\n",
    "flattened_utterances = [[turn['utterance'] for turn in session['turns']] for session in dataset['sessions']]"
   ]
  },
  {
   "cell_type": "code",
   "execution_count": 73,
   "metadata": {},
   "outputs": [],
   "source": [
    "class GrammarMatcher(BaseEstimator, TransformerMixin):\n",
    "    \"\"\"This class serves as an evaluation framework for an intent classifier\"\"\"\n",
    "    def __init__(self, grammar: Grammar):\n",
    "        self.grammar = grammar\n",
    "\n",
    "    def fit(self, sessions=None, targets=None):\n",
    "        \"\"\"\n",
    "        \"\"\"\n",
    "        return self\n",
    "    \n",
    "    def transform(self, sessions):\n",
    "        \"\"\"\n",
    "        Convert the given sessions to intents.\n",
    "        Sessions is expected to be the output of SampleProcessor.\n",
    "        \"\"\"\n",
    "        targets = []\n",
    "        for session in sessions:\n",
    "            answers = []\n",
    "            \n",
    "            for utterance in session['turns']:\n",
    "                utterance = utterance.strip().lower()\n",
    "                utterance = utterance.replace(\"'\", '\"')\n",
    "\n",
    "                for eos in [\".\", \"?\", \"!\"]:\n",
    "                    utterance = remove_suffix(utterance, eos)\n",
    "\n",
    "                answers.append(self.grammar.parse_input(utterance))\n",
    "            targets.append(answers)\n",
    "        return targets"
   ]
  },
  {
   "cell_type": "code",
   "execution_count": 74,
   "metadata": {},
   "outputs": [],
   "source": [
    "import traceback\n",
    "\n",
    "class GreedyMatcher(BaseEstimator, ClassifierMixin):\n",
    "    def fit(self, sessions=None, target=None):\n",
    "        return self\n",
    "\n",
    "    def predict(self, sessions):\n",
    "        target = []\n",
    "        for session in sessions:\n",
    "            turns = []\n",
    "            for parses in session:\n",
    "                try:\n",
    "                    turns.append(pick_best_semantics(parses))\n",
    "                except:\n",
    "                    traceback.print_exception() \n",
    "                    turns.append({})\n",
    "            target.append(turns)\n",
    "        return target"
   ]
  },
  {
   "cell_type": "code",
   "execution_count": 75,
   "metadata": {},
   "outputs": [],
   "source": [
    "greedy_matcher = Pipeline([('preprocessor', SamplePreprocessor()),\n",
    "                                ('grammar_matcher', GrammarMatcher(grammar_4)),\n",
    "                                ('picker', GreedyMatcher())])\n",
    "\n",
    "greedy_matcher.fit(dataset, targets)\n",
    "output = greedy_matcher.predict(dataset)"
   ]
  },
  {
   "cell_type": "code",
   "execution_count": 107,
   "metadata": {},
   "outputs": [
    {
     "name": "stdout",
     "output_type": "stream",
     "text": [
      "show me all meanings for 'desire' {'intent': 'define', 'np': 'desire', 'quantifier': 'all'} {}\n",
      "===\n",
      "show me all examples for stashes {'intent': 'define', 'np': 'stashes', 'all': True, 'variant': 'example'} {'intent': 'define', 'np': 'all examples for stashes'}\n",
      "===\n",
      "Compare with house {'intent': 'compare', 'comparisonTerm': 'house'} {}\n",
      "===\n",
      "What are stilish synonyms? {'intent': 'related', 'filtertype': 'synonym', 'category': 'stylish', 'variant': 'example'} {'intent': 'related', 'category': 'stilish', 'filtertype': 'synonym'}\n",
      "===\n",
      "What are derived words? {'intent': 'related', 'filtertype': 'derived', 'category': 'formal|researched|stylish', 'variant': 'example'} {'intent': 'related', 'filtertype': 'derived'}\n",
      "===\n",
      "In the field of biology, does it have special meanings? {'intent': 'filter', 'filtertype': 'semantic', 'category': 'biology'} {}\n",
      "===\n",
      "Tell me about run {'intent': 'define', 'np': 'run'} {'intent': 'define', 'np': 'about run'}\n",
      "===\n",
      "Show me usages of the past simple tense {'intent': 'filter', 'filtertype': 'grammatical', 'grammaticalForm': 'past simple tense', 'variant': 'example'} {'intent': 'define', 'np': 'usages of the past simple tense'}\n",
      "===\n",
      "Show me phrasal verbs built with it, along with examples {'intent': 'filter', 'filtertype': 'semantic', 'grammaticalForm': 'phrasal verb', 'variant': 'example'} {}\n",
      "===\n",
      "Which parts of speech are available for it? {'intent': 'filter', 'filtertype': 'grammatical', 'variant': 'pos'} {}\n",
      "===\n",
      "What are its grammatical quirks? {'intent': 'filter', 'filtertype': 'grammatical', 'grammaticalFeature': 'irregular'} {'intent': 'define', 'np': 'grammatical quirks'}\n",
      "===\n",
      "In Computer Science, what does one run? {'intent': 'filter', 'filtertype': 'semantic', 'category': 'computer science'} {}\n",
      "===\n",
      "Who is Apollo? {'intent': 'define', 'np': 'Apollo', 'isPerson': True} {'intent': 'define', 'isPerson': True, 'np': 'apollo'}\n",
      "===\n",
      "What is Apollo? {'intent': 'define', 'np': 'Apollo'} {'intent': 'define', 'np': 'apollo'}\n",
      "===\n",
      "Can it be used as an adjective? {'intent': 'decide', 'filtertype': 'semantic', 'requiredPos': 'adjective'} {'intent': 'decide', 'filtertype': 'grammatical', 'requiredPos': 'adjective'}\n",
      "===\n",
      "Which language does it come from? {'intent': 'filter', 'filtertype': 'etymology'} {}\n",
      "===\n",
      "Is Apollo an animal? {'intent': 'filter', 'filtertype': 'semantic', 'category': 'animal'} {}\n",
      "===\n",
      "comparative and superlative {'intent': 'filter', 'filtertype': 'grammatical', 'grammaticalFeature': 'comparative|superlative'} {}\n",
      "===\n",
      "Is it regular? {'intent': 'decision', 'filtertype': 'grammatical', 'grammaticalFeature': 'regular'} {}\n",
      "===\n",
      "Provide some examples {'intent': 'filter', 'variant': 'example'} {}\n",
      "===\n",
      "What are the antonyms? {'intent': 'filter', 'filtertype': 'antonym'} {'intent': 'related', 'category': 'the', 'filtertype': 'antonym'}\n",
      "===\n",
      "Tell me more about the dynasty version {'intent': 'filter', 'filtertype': 'semantic', 'value': 'dinasty'} {'intent': 'define', 'np': 'more about the dynasty version'}\n",
      "===\n",
      "What is the plural of family? {'intent': 'filter', 'filtertype': 'grammatical', 'grammaticalFeature': 'plural'} {'intent': 'define', 'np': 'plural of family'}\n",
      "===\n",
      "What is a comparative? {'intent': 'define', 'np': 'comparative'} {'intent': 'filter', 'filtertype': 'grammatical', 'grammaticalFeature': 'comparative'}\n",
      "===\n",
      "What is the comparative form of 'terrestrial'? {'intent': 'filter', 'np': 'terrestrial', 'filtertype': 'grammatical', 'grammaticalFeature': 'comparative'} {}\n",
      "===\n",
      "What is the difference between the comparative and superlative? {'intent': 'compare', 'comparisonTerm': 'comparative', 'comparisonTerm2': 'superlative'} {'intent': 'define', 'np': 'difference between the comparative and superlative'}\n",
      "===\n",
      "Can adverbs have a comparative form? {'intent': 'decision', 'requiredPos': 'adverb', 'grammaticalFeature': 'comparative'} {}\n",
      "===\n",
      "Show me an irregular adverb {'intent': 'filter', 'filtertype': 'grammatical', 'requiredPos': 'adverb', 'grammaticalFeature': 'irregular'} {'intent': 'define', 'np': 'irregular adverb'}\n",
      "===\n",
      "Do nouns have comparatives? {'intent': 'decision', 'requiredPos': 'noun', 'grammaticalFeature': 'comparative'} {}\n",
      "===\n",
      "What are the parts of speech available in English? {'intent': 'filter', 'filtertype': 'grammatical', 'variant': 'pos'} {'intent': 'define', 'np': 'parts of speech available in english'}\n",
      "===\n",
      "Give me an example with 'break' {'intent': 'define', 'np': 'break', 'variant': 'example'} {}\n",
      "===\n"
     ]
    },
    {
     "data": {
      "text/plain": [
       "0.5437853107344633"
      ]
     },
     "execution_count": 107,
     "metadata": {},
     "output_type": "execute_result"
    }
   ],
   "source": [
    "# A bunch of evaluation functions\n",
    "\n",
    "from sklearn.metrics import precision_recall_fscore_support, classification_report\n",
    "import numpy as np\n",
    "\n",
    "def flatten(sequence):\n",
    "    return sum(sequence, [])\n",
    "\n",
    "def get_intent(sequence):\n",
    "    return [intent['intent'] if len(intent) else 'unknown' for intent in flatten(sequence)]\n",
    "    \n",
    "# \"perfect\" scorers, because they check whether two values are equal\n",
    "def perfect_accuracy(y_truth, y_pred, debug_x=None):\n",
    "    # Concatenate lists-of-lists into flattened lists.\n",
    "    # Not the most efficient, but I find it very neat\n",
    "    y_truth = flatten(y_truth)\n",
    "    y_pred = flatten(y_pred)\n",
    "    utterances = sum(debug_x, []) if debug_x else None\n",
    "    \n",
    "    score = []\n",
    "    for idx, (y_t, y_p) in enumerate(zip(y_truth, y_pred)):\n",
    "        matched_items = len(set(y_t.items()) & set(y_p.items()))\n",
    "        if len(y_t) == 0:\n",
    "            score.append(1.0 if len(y_t.items()) == 0 else 0.0)\n",
    "        else:\n",
    "            score.append(matched_items / len(y_t))\n",
    "        if debug_x and score[-1] < 1.0:\n",
    "            print(utterances[idx], y_t, y_p)\n",
    "            print(\"===\")\n",
    "        \n",
    "    return np.average(score)\n",
    "\n",
    "\n",
    "def intent_match_score(y_truth, y_pred):\n",
    "    y_pred = get_intent(y_pred)\n",
    "    y_truth = get_intent(y_truth)\n",
    "    \n",
    "    print(classification_report(y_truth, y_pred))\n",
    "\n",
    "perfect_accuracy(targets, output, debug_x=flattened_utterances)"
   ]
  },
  {
   "cell_type": "code",
   "execution_count": 108,
   "metadata": {},
   "outputs": [
    {
     "name": "stdout",
     "output_type": "stream",
     "text": [
      "              precision    recall  f1-score   support\n",
      "\n",
      "     compare       0.00      0.00      0.00         2\n",
      "      decide       1.00      1.00      1.00         2\n",
      "    decision       0.00      0.00      0.00         3\n",
      "      define       0.70      0.84      0.76        19\n",
      "      filter       0.93      0.45      0.60        29\n",
      "     related       0.75      1.00      0.86         3\n",
      "     unknown       0.06      1.00      0.12         1\n",
      "\n",
      "    accuracy                           0.59        59\n",
      "   macro avg       0.49      0.61      0.48        59\n",
      "weighted avg       0.75      0.59      0.62        59\n",
      "\n"
     ]
    }
   ],
   "source": [
    "intent_match_score(targets, output)"
   ]
  },
  {
   "cell_type": "code",
   "execution_count": 124,
   "metadata": {},
   "outputs": [],
   "source": [
    "import matplotlib\n",
    "import matplotlib.pyplot as plt\n",
    "import seaborn as sns"
   ]
  },
  {
   "cell_type": "code",
   "execution_count": 133,
   "metadata": {},
   "outputs": [],
   "source": [
    "font = {'family' : 'normal',\n",
    "        'weight' : 'regular',\n",
    "        'size'   : 18}\n",
    "\n",
    "matplotlib.rc('font', **font)"
   ]
  },
  {
   "cell_type": "code",
   "execution_count": 134,
   "metadata": {},
   "outputs": [
    {
     "name": "stdout",
     "output_type": "stream",
     "text": [
      "              precision    recall  f1-score   support\n",
      "\n",
      "     compare       0.00      0.00      0.00         2\n",
      "      decide       1.00      1.00      1.00         2\n",
      "    decision       0.00      0.00      0.00         3\n",
      "      define       0.70      0.84      0.76        19\n",
      "      filter       0.93      0.45      0.60        29\n",
      "     related       0.75      1.00      0.86         3\n",
      "     unknown       0.06      1.00      0.12         1\n",
      "\n",
      "    accuracy                           0.59        59\n",
      "   macro avg       0.49      0.61      0.48        59\n",
      "weighted avg       0.75      0.59      0.62        59\n",
      "\n"
     ]
    }
   ],
   "source": [
    "intent_match_score(targets, output)"
   ]
  },
  {
   "cell_type": "code",
   "execution_count": 135,
   "metadata": {},
   "outputs": [],
   "source": [
    "y_pred = pd.Series(get_intent(targets))\n",
    "y_truth = pd.Series(get_intent(output))"
   ]
  },
  {
   "cell_type": "code",
   "execution_count": 137,
   "metadata": {},
   "outputs": [
    {
     "name": "stderr",
     "output_type": "stream",
     "text": [
      "DEBUG:matplotlib.colorbar:locator: <matplotlib.colorbar._ColorbarAutoLocator object at 0x7f8c627ebcd0>\n",
      "DEBUG:matplotlib.colorbar:Using auto colorbar locator on colorbar\n",
      "DEBUG:matplotlib.colorbar:locator: <matplotlib.colorbar._ColorbarAutoLocator object at 0x7f8c627ebcd0>\n",
      "DEBUG:matplotlib.colorbar:Setting pcolormesh\n"
     ]
    },
    {
     "data": {
      "text/plain": [
       "(array([0.5, 1.5, 2.5, 3.5, 4.5]), <a list of 5 Text major ticklabel objects>)"
      ]
     },
     "execution_count": 137,
     "metadata": {},
     "output_type": "execute_result"
    },
    {
     "data": {
      "image/png": "[encoded data removed]",
      "text/plain": [
       "<Figure size 1280x800 with 2 Axes>"
      ]
     },
     "metadata": {},
     "output_type": "display_data"
    }
   ],
   "source": [
    "confusion_matrix = pd.crosstab(y_truth, y_pred, rownames=[\"Ground truth\"], colnames=[\"Predicted\"])\n",
    "plt.figure(num=None, figsize=(16, 10), dpi=80, facecolor='w', edgecolor='k')\n",
    "sns.heatmap(confusion_matrix, annot=True)\n",
    "\n",
    "\n",
    "plt.yticks(rotation=0)"
   ]
  },
  {
   "cell_type": "code",
   "execution_count": null,
   "metadata": {},
   "outputs": [],
   "source": []
  }
 ],
 "metadata": {
  "kernelspec": {
   "display_name": "Python 3",
   "language": "python",
   "name": "python3"
  },
  "language_info": {
   "codemirror_mode": {
    "name": "ipython",
    "version": 3
   },
   "file_extension": ".py",
   "mimetype": "text/x-python",
   "name": "python",
   "nbconvert_exporter": "python",
   "pygments_lexer": "ipython3",
   "version": "3.7.5"
  }
 },
 "nbformat": 4,
 "nbformat_minor": 4
}
