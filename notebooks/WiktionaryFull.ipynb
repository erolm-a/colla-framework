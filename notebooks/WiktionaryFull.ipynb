{
 "cells": [
  {
   "cell_type": "code",
   "execution_count": null,
   "metadata": {},
   "outputs": [
    {
     "name": "stdout",
     "output_type": "stream",
     "text": [
      "https://dumps.wikimedia.org/enwiktionary/20200701/enwiktionary-20200701-pages-articles.xml.bz2\n",
      "[]"
     ]
    }
   ],
   "source": [
    "from tools.providers import WiktionaryProvider\n",
    "from tools.dumps import download_to\n",
    "\n",
    "WiktionaryProvider.dump_full_dataset(revision=\"20200701\")"
   ]
  },
  {
   "cell_type": "code",
   "execution_count": null,
   "metadata": {},
   "outputs": [],
   "source": [
    "from wiktextract import (WiktionaryConfig, parse_wiktionary, wiktionary_languages, PARTS_OF_SPEECH)\n",
    "from tools.providers import WiktionaryProvider\n",
    "\n",
    "config = WiktionaryConfig(\n",
    "                    capture_languages=[\"English\", \"Translingual\"],\n",
    "                    capture_translations=True,\n",
    "                    capture_pronunciation=True,\n",
    "                    capture_compounds=True,\n",
    "                    capture_redirects=True)\n",
    "\n",
    "\n",
    "parse_wiktionary(path, config, word_cd, capture_cb)"
   ]
  }
 ],
 "metadata": {
  "kernelspec": {
   "display_name": "Python 3",
   "language": "python",
   "name": "python3"
  },
  "language_info": {
   "codemirror_mode": {
    "name": "ipython",
    "version": 3
   },
   "file_extension": ".py",
   "mimetype": "text/x-python",
   "name": "python",
   "nbconvert_exporter": "python",
   "pygments_lexer": "ipython3",
   "version": "3.7.5"
  }
 },
 "nbformat": 4,
 "nbformat_minor": 4
}
