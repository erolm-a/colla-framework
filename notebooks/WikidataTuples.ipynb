{
 "cells": [
  {
   "cell_type": "code",
   "execution_count": 2,
   "metadata": {},
   "outputs": [
    {
     "name": "stdout",
     "output_type": "stream",
     "text": [
      "File Q4093.json was already downloaded. Skipping...\n"
     ]
    }
   ],
   "source": [
    "from tools.datasets import *\n",
    "\n",
    "glasgow_truthy_url = get_wikidata_link(\"Q4093\", flavor=\"simple\")\n",
    "glasgow_truthy_json = \"Q4093.json\"\n",
    "\n",
    "fetch_dataset(glasgow_truthy_url, glasgow_truthy_json)"
   ]
  },
  {
   "cell_type": "code",
   "execution_count": 33,
   "metadata": {},
   "outputs": [],
   "source": [
    "import json\n",
    "\n",
    "with wrap_open(glasgow_truthy_json) as fp:\n",
    "    glasgow_truthy_dict = json.load(fp)"
   ]
  },
  {
   "cell_type": "code",
   "execution_count": 9,
   "metadata": {},
   "outputs": [
    {
     "name": "stdout",
     "output_type": "stream",
     "text": [
      "dict_keys(['P190', 'P131', 'P373', 'P227', 'P17', 'P94', 'P281', 'P421', 'P473', 'P300', 'P625', 'P31', 'P613', 'P910', 'P948', 'P982', 'P646', 'P1082', 'P901', 'P1036', 'P856', 'P1464', 'P1465', 'P1566', 'P1740', 'P1792', 'P605', 'P206', 'P935', 'P214', 'P47', 'P1997', 'P2633', 'P1281', 'P242', 'P2046', 'P1343', 'P1255', 'P268', 'P906', 'P998', 'P2468', 'P1617', 'P3616', 'P3120', 'P3417', 'P2347', 'P1225', 'P3219', 'P4527', 'P1549', 'P6', 'P2716', 'P1889', 'P5573', 'P949', 'P4672', 'P1151', 'P1667', 'P18', 'P1830', 'P1376', 'P244', 'P1705', 'P1448', 'P2936', 'P1296', 'P691', 'P6766', 'P6849', 'P7350', 'P836', 'P7867', 'P7818', 'P7829', 'P7827', 'P7832', 'P7859', 'P7959'])\n"
     ]
    }
   ],
   "source": [
    "predicates = glasgow_truthy_dict[\"entities\"][\"Q4093\"][\"claims\"]\n",
    "\n",
    "print(predicates.keys())"
   ]
  },
  {
   "cell_type": "code",
   "execution_count": 45,
   "metadata": {},
   "outputs": [
    {
     "data": {
      "text/plain": [
       "[('Q4093', 'P190', 'Q5776'),\n",
       " ('Q4093', 'P190', 'Q2090'),\n",
       " ('Q4093', 'P190', 'Q23482'),\n",
       " ('Q4093', 'P190', 'Q908'),\n",
       " ('Q4093', 'P190', 'Q495'),\n",
       " ('Q4093', 'P190', 'Q1563'),\n",
       " ('Q4093', 'P190', 'Q11739'),\n",
       " ('Q4093', 'P190', 'Q216479'),\n",
       " ('Q4093', 'P131', 'Q55934339'),\n",
       " ('Q4093', 'P131', 'Q68826097'),\n",
       " ('Q4093', 'P131', 'Q77606319'),\n",
       " ('Q4093', 'P131', 'Q77607750'),\n",
       " ('Q4093', 'P17', 'Q145'),\n",
       " ('Q4093', 'P17', 'Q174193'),\n",
       " ('Q4093', 'P17', 'Q161885'),\n",
       " ('Q4093', 'P17', 'Q230791'),\n",
       " ('Q4093', 'P421', 'Q6574'),\n",
       " ('Q4093', 'P31', 'Q515'),\n",
       " ('Q4093', 'P31', 'Q1549591'),\n",
       " ('Q4093', 'P910', 'Q6789903'),\n",
       " ('Q4093', 'P1464', 'Q8050662'),\n",
       " ('Q4093', 'P1465', 'Q9218504'),\n",
       " ('Q4093', 'P1740', 'Q8458102'),\n",
       " ('Q4093', 'P1792', 'Q6791290'),\n",
       " ('Q4093', 'P206', 'Q19721'),\n",
       " ('Q4093', 'P206', 'Q183161'),\n",
       " ('Q4093', 'P47', 'Q2746326'),\n",
       " ('Q4093', 'P47', 'Q209142'),\n",
       " ('Q4093', 'P2633', 'Q5535147'),\n",
       " ('Q4093', 'P1343', 'Q4114391'),\n",
       " ('Q4093', 'P1343', 'Q4173137'),\n",
       " ('Q4093', 'P1343', 'Q19180675'),\n",
       " ('Q4093', 'P1343', 'Q602358'),\n",
       " ('Q4093', 'P6', 'Q29973504'),\n",
       " ('Q4093', 'P1889', 'Q55934339'),\n",
       " ('Q4093', 'P1151', 'Q56686348'),\n",
       " ('Q4093', 'P1830', 'Q1337785'),\n",
       " ('Q4093', 'P1830', 'Q5566831'),\n",
       " ('Q4093', 'P1376', 'Q124661'),\n",
       " ('Q4093', 'P1376', 'Q68826097'),\n",
       " ('Q4093', 'P1376', 'Q77607750'),\n",
       " ('Q4093', 'P2936', 'Q9314'),\n",
       " ('Q4093', 'P7867', 'Q84108329'),\n",
       " ('Q4093', 'P7959', 'Q530296'),\n",
       " ('Q4093', 'P7959', 'Q67545499'),\n",
       " ('Q4093', 'P7959', 'Q17582129')]"
      ]
     },
     "execution_count": 45,
     "metadata": {},
     "output_type": "execute_result"
    }
   ],
   "source": [
    "\n",
    "\n",
    "def get_edges(entity_df):\n",
    "    \"\"\"Generate triples: [<subject>, <predicate>, <object>].\n",
    "        Only consider objects for which there is a linked entity\"\"\"\n",
    "    \n",
    "    root = entity_df[\"entities\"]\n",
    "    subjects = list(entity_df[\"entities\"].keys())\n",
    "    \n",
    "    predicates = [(subject, claim, root[subject][\"claims\"][claim]) for subject in subjects for claim in root[subject][\"claims\"]]\n",
    "\n",
    "    tuples = []\n",
    "    \n",
    "    for (subject, claim, snaks) in predicates:\n",
    "        for snak in snaks:\n",
    "            mainsnak = snak[\"mainsnak\"]\n",
    "            if mainsnak[\"snaktype\"] == \"value\" and mainsnak[\"datavalue\"][\"type\"] == \"wikibase-entityid\":\n",
    "                tuples.append((subject, claim, mainsnak[\"datavalue\"][\"value\"][\"id\"]))\n",
    "            \n",
    "    \n",
    "    return tuples\n",
    "\n",
    "get_edges(glasgow_truthy_dict)"
   ]
  },
  {
   "cell_type": "code",
   "execution_count": 44,
   "metadata": {},
   "outputs": [
    {
     "name": "stdout",
     "output_type": "stream",
     "text": [
      "Collecting sparqlwrapper\n",
      "  Downloading https://files.pythonhosted.org/packages/00/9b/443fbe06996c080ee9c1f01b04e2f683b2b07e149905f33a2397ee3b80a2/SPARQLWrapper-1.8.5-py3-none-any.whl\n",
      "Requirement already satisfied: rdflib>=4.0 in /usr/local/lib/python3.7/dist-packages (from sparqlwrapper) (5.0.0)\n",
      "Requirement already satisfied: six in /usr/lib/python3/dist-packages (from rdflib>=4.0->sparqlwrapper) (1.12.0)\n",
      "Requirement already satisfied: isodate in /usr/local/lib/python3.7/dist-packages (from rdflib>=4.0->sparqlwrapper) (0.6.0)\n",
      "Requirement already satisfied: pyparsing in /usr/local/lib/python3.7/dist-packages (from rdflib>=4.0->sparqlwrapper) (2.4.7)\n",
      "Installing collected packages: sparqlwrapper\n",
      "Successfully installed sparqlwrapper-1.8.5\n"
     ]
    }
   ],
   "source": []
  },
  {
   "cell_type": "code",
   "execution_count": null,
   "metadata": {},
   "outputs": [],
   "source": []
  }
 ],
 "metadata": {
  "kernelspec": {
   "display_name": "Python 3",
   "language": "python",
   "name": "python3"
  },
  "language_info": {
   "codemirror_mode": {
    "name": "ipython",
    "version": 3
   },
   "file_extension": ".py",
   "mimetype": "text/x-python",
   "name": "python",
   "nbconvert_exporter": "python",
   "pygments_lexer": "ipython3",
   "version": "3.7.5"
  }
 },
 "nbformat": 4,
 "nbformat_minor": 4
}
