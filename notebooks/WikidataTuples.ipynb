{
 "cells": [
  {
   "cell_type": "code",
   "execution_count": 3,
   "metadata": {},
   "outputs": [
    {
     "name": "stdout",
     "output_type": "stream",
     "text": [
      "File Q4093.json was already downloaded. Skipping...\n"
     ]
    }
   ],
   "source": [
    "from tools.datasets import *\n",
    "\n",
    "glasgow_truthy_url = get_wikidata_link(\"Q4093\", flavor=\"simple\")\n",
    "glasgow_truthy_json = \"Q4093.json\"\n",
    "\n",
    "fetch_dataset(glasgow_truthy_url, glasgow_truthy_json)"
   ]
  },
  {
   "cell_type": "code",
   "execution_count": 2,
   "metadata": {},
   "outputs": [],
   "source": [
    "import json\n",
    "\n",
    "with wrap_open(glasgow_truthy_json) as fp:\n",
    "    glasgow_truthy_dict = json.load(fp)"
   ]
  },
  {
   "cell_type": "code",
   "execution_count": 3,
   "metadata": {},
   "outputs": [
    {
     "name": "stdout",
     "output_type": "stream",
     "text": [
      "dict_keys(['P190', 'P131', 'P373', 'P227', 'P17', 'P94', 'P281', 'P421', 'P473', 'P300', 'P625', 'P31', 'P613', 'P910', 'P948', 'P982', 'P646', 'P1082', 'P901', 'P1036', 'P856', 'P1464', 'P1465', 'P1566', 'P1740', 'P1792', 'P605', 'P206', 'P935', 'P214', 'P47', 'P1997', 'P2633', 'P1281', 'P242', 'P2046', 'P1343', 'P1255', 'P268', 'P906', 'P998', 'P2468', 'P1617', 'P3616', 'P3120', 'P3417', 'P2347', 'P1225', 'P3219', 'P4527', 'P1549', 'P6', 'P2716', 'P1889', 'P5573', 'P949', 'P4672', 'P1151', 'P1667', 'P18', 'P1830', 'P1376', 'P244', 'P1705', 'P1448', 'P2936', 'P1296', 'P691', 'P6766', 'P6849', 'P7350', 'P836', 'P7867', 'P7818', 'P7829', 'P7827', 'P7832', 'P7859', 'P7959'])\n"
     ]
    }
   ],
   "source": [
    "predicates = glasgow_truthy_dict[\"entities\"][\"Q4093\"][\"claims\"]\n",
    "\n",
    "print(predicates.keys())"
   ]
  },
  {
   "cell_type": "code",
   "execution_count": 4,
   "metadata": {},
   "outputs": [
    {
     "data": {
      "text/plain": [
       "[('Q4093', 'P190', 'Q5776'),\n",
       " ('Q4093', 'P190', 'Q2090'),\n",
       " ('Q4093', 'P190', 'Q23482'),\n",
       " ('Q4093', 'P190', 'Q908'),\n",
       " ('Q4093', 'P190', 'Q495'),\n",
       " ('Q4093', 'P190', 'Q1563'),\n",
       " ('Q4093', 'P190', 'Q11739'),\n",
       " ('Q4093', 'P190', 'Q216479'),\n",
       " ('Q4093', 'P131', 'Q55934339'),\n",
       " ('Q4093', 'P131', 'Q68826097'),\n",
       " ('Q4093', 'P131', 'Q77606319'),\n",
       " ('Q4093', 'P131', 'Q77607750'),\n",
       " ('Q4093', 'P17', 'Q145'),\n",
       " ('Q4093', 'P17', 'Q174193'),\n",
       " ('Q4093', 'P17', 'Q161885'),\n",
       " ('Q4093', 'P17', 'Q230791'),\n",
       " ('Q4093', 'P421', 'Q6574'),\n",
       " ('Q4093', 'P31', 'Q515'),\n",
       " ('Q4093', 'P31', 'Q1549591'),\n",
       " ('Q4093', 'P910', 'Q6789903'),\n",
       " ('Q4093', 'P1464', 'Q8050662'),\n",
       " ('Q4093', 'P1465', 'Q9218504'),\n",
       " ('Q4093', 'P1740', 'Q8458102'),\n",
       " ('Q4093', 'P1792', 'Q6791290'),\n",
       " ('Q4093', 'P206', 'Q19721'),\n",
       " ('Q4093', 'P206', 'Q183161'),\n",
       " ('Q4093', 'P47', 'Q2746326'),\n",
       " ('Q4093', 'P47', 'Q209142'),\n",
       " ('Q4093', 'P2633', 'Q5535147'),\n",
       " ('Q4093', 'P1343', 'Q4114391'),\n",
       " ('Q4093', 'P1343', 'Q4173137'),\n",
       " ('Q4093', 'P1343', 'Q19180675'),\n",
       " ('Q4093', 'P1343', 'Q602358'),\n",
       " ('Q4093', 'P6', 'Q29973504'),\n",
       " ('Q4093', 'P1889', 'Q55934339'),\n",
       " ('Q4093', 'P1151', 'Q56686348'),\n",
       " ('Q4093', 'P1830', 'Q1337785'),\n",
       " ('Q4093', 'P1830', 'Q5566831'),\n",
       " ('Q4093', 'P1376', 'Q124661'),\n",
       " ('Q4093', 'P1376', 'Q68826097'),\n",
       " ('Q4093', 'P1376', 'Q77607750'),\n",
       " ('Q4093', 'P2936', 'Q9314'),\n",
       " ('Q4093', 'P7867', 'Q84108329'),\n",
       " ('Q4093', 'P7959', 'Q530296'),\n",
       " ('Q4093', 'P7959', 'Q67545499'),\n",
       " ('Q4093', 'P7959', 'Q17582129')]"
      ]
     },
     "execution_count": 4,
     "metadata": {},
     "output_type": "execute_result"
    }
   ],
   "source": [
    "\n",
    "\n",
    "def get_edges(entity_df):\n",
    "    \"\"\"Generate triples: [<subject>, <predicate>, <object>].\n",
    "        Only consider objects for which there is a linked entity\"\"\"\n",
    "    \n",
    "    root = entity_df[\"entities\"]\n",
    "    subjects = list(entity_df[\"entities\"].keys())\n",
    "    \n",
    "    predicates = [(subject, claim, root[subject][\"claims\"][claim]) for subject in subjects for claim in root[subject][\"claims\"]]\n",
    "\n",
    "    tuples = []\n",
    "    \n",
    "    for (subject, claim, snaks) in predicates:\n",
    "        for snak in snaks:\n",
    "            mainsnak = snak[\"mainsnak\"]\n",
    "            if mainsnak[\"snaktype\"] == \"value\" and mainsnak[\"datavalue\"][\"type\"] == \"wikibase-entityid\":\n",
    "                tuples.append((subject, claim, mainsnak[\"datavalue\"][\"value\"][\"id\"]))\n",
    "            \n",
    "    \n",
    "    return tuples\n",
    "\n",
    "get_edges(glasgow_truthy_dict)"
   ]
  },
  {
   "cell_type": "code",
   "execution_count": 7,
   "metadata": {},
   "outputs": [],
   "source": [
    "wikidata_sparql.setQuery(\"\"\"\n",
    "SELECT ?label\n",
    "WHERE\n",
    "{\n",
    "    wd:Q4093 rdfs:label ?label.\n",
    "    FILTER(LANG(?label) = \"en\").\n",
    "}\n",
    "\"\"\")\n",
    "results = wikidata_sparql.query().convert()"
   ]
  },
  {
   "cell_type": "code",
   "execution_count": 13,
   "metadata": {},
   "outputs": [],
   "source": [
    "import pandas as pd\n",
    "results_df = pd.json_normalize(results['results']['bindings'])"
   ]
  },
  {
   "cell_type": "code",
   "execution_count": 15,
   "metadata": {},
   "outputs": [
    {
     "data": {
      "text/html": [
       "<div>\n",
       "<style scoped>\n",
       "    .dataframe tbody tr th:only-of-type {\n",
       "        vertical-align: middle;\n",
       "    }\n",
       "\n",
       "    .dataframe tbody tr th {\n",
       "        vertical-align: top;\n",
       "    }\n",
       "\n",
       "    .dataframe thead th {\n",
       "        text-align: right;\n",
       "    }\n",
       "</style>\n",
       "<table border=\"1\" class=\"dataframe\">\n",
       "  <thead>\n",
       "    <tr style=\"text-align: right;\">\n",
       "      <th></th>\n",
       "      <th>label.value</th>\n",
       "    </tr>\n",
       "  </thead>\n",
       "  <tbody>\n",
       "    <tr>\n",
       "      <th>0</th>\n",
       "      <td>Glasgow</td>\n",
       "    </tr>\n",
       "  </tbody>\n",
       "</table>\n",
       "</div>"
      ],
      "text/plain": [
       "  label.value\n",
       "0     Glasgow"
      ]
     },
     "execution_count": 15,
     "metadata": {},
     "output_type": "execute_result"
    }
   ],
   "source": [
    "results_df[['label.value']].head()"
   ]
  },
  {
   "cell_type": "code",
   "execution_count": 31,
   "metadata": {},
   "outputs": [
    {
     "data": {
      "text/html": [
       "<div>\n",
       "<style scoped>\n",
       "    .dataframe tbody tr th:only-of-type {\n",
       "        vertical-align: middle;\n",
       "    }\n",
       "\n",
       "    .dataframe tbody tr th {\n",
       "        vertical-align: top;\n",
       "    }\n",
       "\n",
       "    .dataframe thead th {\n",
       "        text-align: right;\n",
       "    }\n",
       "</style>\n",
       "<table border=\"1\" class=\"dataframe\">\n",
       "  <thead>\n",
       "    <tr style=\"text-align: right;\">\n",
       "      <th></th>\n",
       "      <th>property.type</th>\n",
       "      <th>property.value</th>\n",
       "      <th>propertyLabel.xml:lang</th>\n",
       "      <th>propertyLabel.type</th>\n",
       "      <th>propertyLabel.value</th>\n",
       "    </tr>\n",
       "  </thead>\n",
       "  <tbody>\n",
       "    <tr>\n",
       "      <th>0</th>\n",
       "      <td>uri</td>\n",
       "      <td>http://www.wikidata.org/entity/P6</td>\n",
       "      <td>en</td>\n",
       "      <td>literal</td>\n",
       "      <td>head of government</td>\n",
       "    </tr>\n",
       "    <tr>\n",
       "      <th>1</th>\n",
       "      <td>uri</td>\n",
       "      <td>http://www.wikidata.org/entity/P10</td>\n",
       "      <td>en</td>\n",
       "      <td>literal</td>\n",
       "      <td>video</td>\n",
       "    </tr>\n",
       "  </tbody>\n",
       "</table>\n",
       "</div>"
      ],
      "text/plain": [
       "  property.type                      property.value propertyLabel.xml:lang  \\\n",
       "0           uri   http://www.wikidata.org/entity/P6                     en   \n",
       "1           uri  http://www.wikidata.org/entity/P10                     en   \n",
       "\n",
       "  propertyLabel.type propertyLabel.value  \n",
       "0            literal  head of government  \n",
       "1            literal               video  "
      ]
     },
     "execution_count": 31,
     "metadata": {},
     "output_type": "execute_result"
    }
   ],
   "source": [
    "# let's generalize\n",
    "\n",
    "def sparql_values_in(l, prefix=\"wd:\"):\n",
    "    return \" \".join([prefix + entity for entity in l])\n",
    "\n",
    "def annotate_entity(entity_list):\n",
    "    query_list = sparql_values_in(entity_list)\n",
    "    \n",
    "    print(query_list)\n",
    "    \n",
    "    # multi-line f-strings seem to be broken with this version of jupyter.\n",
    "    query = \"\"\"\n",
    "    SELECT ?entity ?label\n",
    "    WHERE\n",
    "    {\n",
    "        VALUES ?entity {query_list}.\n",
    "        ?entity rdfs:label ?label.\n",
    "        FILTER(LANG(?label) = \"en\").\n",
    "    }\"\"\"\n",
    "    \n",
    "    query = query.replace(\"query_list\", query_list)\n",
    "    wikidata_sparql.setQuery(query)\n",
    "    results =  wikidata_sparql.query().convert()\n",
    "    return pd.json_normalize(results['results']['bindings'])\n",
    "    \n",
    "\n",
    "def annotate_property(property_list):\n",
    "    query_list = sparql_values_in(property_list)\n",
    "    \n",
    "    query = \"\"\"\n",
    "    SELECT ?property ?propertyLabel WHERE {\n",
    "        ?property a wikibase:Property .\n",
    "        VALUES ?property {?property_list}\n",
    "        SERVICE wikibase:label {\n",
    "            bd:serviceParam wikibase:language \"en\" .\n",
    "        }\n",
    "    }\n",
    "    \"\"\"\n",
    "    \n",
    "    query = query.replace(\"?property_list\", query_list)\n",
    "    wikidata_sparql.setQuery(query)\n",
    "    results =  wikidata_sparql.query().convert()\n",
    "    return pd.json_normalize(results['results']['bindings'])\n",
    "    \n",
    "    \n",
    "#annotate_entity([\"Q42\", \"Q43\"])\n",
    "annotate_property([\"P6\", \"P10\"])\n"
   ]
  }
 ],
 "metadata": {
  "kernelspec": {
   "display_name": "Python 3",
   "language": "python",
   "name": "python3"
  },
  "language_info": {
   "codemirror_mode": {
    "name": "ipython",
    "version": 3
   },
   "file_extension": ".py",
   "mimetype": "text/x-python",
   "name": "python",
   "nbconvert_exporter": "python",
   "pygments_lexer": "ipython3",
   "version": "3.7.5"
  }
 },
 "nbformat": 4,
 "nbformat_minor": 4
}
