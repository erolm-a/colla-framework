{
 "cells": [
  {
   "cell_type": "markdown",
   "metadata": {},
   "source": [
    "# Google natural questions (scraped)\n",
    "This notebooks aims to answer the following research question: **Which natural questions do users make when making dictionary-based queries**"
   ]
  },
  {
   "cell_type": "code",
   "execution_count": 1,
   "metadata": {
    "tags": []
   },
   "outputs": [
    {
     "output_type": "stream",
     "name": "stdout",
     "text": "Requirement already satisfied: gsutil in /opt/conda/lib/python3.7/site-packages (4.51)\nRequirement already satisfied: crcmod>=1.7 in /opt/conda/lib/python3.7/site-packages (from gsutil) (1.7)\nRequirement already satisfied: fasteners>=0.14.1 in /opt/conda/lib/python3.7/site-packages (from gsutil) (0.15)\nRequirement already satisfied: httplib2>=0.11.3 in /opt/conda/lib/python3.7/site-packages (from gsutil) (0.18.1)\nRequirement already satisfied: retry-decorator>=1.0.0 in /opt/conda/lib/python3.7/site-packages (from gsutil) (1.1.1)\nRequirement already satisfied: monotonic>=1.4 in /opt/conda/lib/python3.7/site-packages (from gsutil) (1.5)\nRequirement already satisfied: SocksiPy-branch==1.01 in /opt/conda/lib/python3.7/site-packages (from gsutil) (1.1)\nRequirement already satisfied: pyOpenSSL>=0.13 in /opt/conda/lib/python3.7/site-packages (from gsutil) (19.1.0)\nRequirement already satisfied: google-apitools>=0.5.30 in /opt/conda/lib/python3.7/site-packages (from gsutil) (0.5.31)\nRequirement already satisfied: google-reauth>=0.1.0 in /opt/conda/lib/python3.7/site-packages (from gsutil) (0.1.0)\nRequirement already satisfied: six>=1.12.0 in /opt/conda/lib/python3.7/site-packages (from gsutil) (1.15.0)\nRequirement already satisfied: argcomplete>=1.9.4 in /opt/conda/lib/python3.7/site-packages (from gsutil) (1.11.1)\nRequirement already satisfied: gcs-oauth2-boto-plugin>=2.5 in /opt/conda/lib/python3.7/site-packages (from gsutil) (2.6)\nRequirement already satisfied: mock==2.0.0 in /opt/conda/lib/python3.7/site-packages (from gsutil) (2.0.0)\nRequirement already satisfied: cryptography>=2.8 in /opt/conda/lib/python3.7/site-packages (from pyOpenSSL>=0.13->gsutil) (2.9.2)\nRequirement already satisfied: oauth2client>=1.4.12 in /opt/conda/lib/python3.7/site-packages (from google-apitools>=0.5.30->gsutil) (4.1.3)\nRequirement already satisfied: pyu2f in /opt/conda/lib/python3.7/site-packages (from google-reauth>=0.1.0->gsutil) (0.1.4)\nRequirement already satisfied: importlib-metadata<2,>=0.23; python_version == \"3.7\" in /opt/conda/lib/python3.7/site-packages (from argcomplete>=1.9.4->gsutil) (1.6.1)\nRequirement already satisfied: boto>=2.29.1 in /opt/conda/lib/python3.7/site-packages (from gcs-oauth2-boto-plugin>=2.5->gsutil) (2.49.0)\nRequirement already satisfied: pbr>=0.11 in /opt/conda/lib/python3.7/site-packages (from mock==2.0.0->gsutil) (5.4.5)\nRequirement already satisfied: cffi!=1.11.3,>=1.8 in /opt/conda/lib/python3.7/site-packages (from cryptography>=2.8->pyOpenSSL>=0.13->gsutil) (1.14.0)\nRequirement already satisfied: pyasn1-modules>=0.0.5 in /opt/conda/lib/python3.7/site-packages (from oauth2client>=1.4.12->google-apitools>=0.5.30->gsutil) (0.2.8)\nRequirement already satisfied: rsa>=3.1.4 in /opt/conda/lib/python3.7/site-packages (from oauth2client>=1.4.12->google-apitools>=0.5.30->gsutil) (4.6)\nRequirement already satisfied: pyasn1>=0.1.7 in /opt/conda/lib/python3.7/site-packages (from oauth2client>=1.4.12->google-apitools>=0.5.30->gsutil) (0.4.8)\nRequirement already satisfied: zipp>=0.5 in /opt/conda/lib/python3.7/site-packages (from importlib-metadata<2,>=0.23; python_version == \"3.7\"->argcomplete>=1.9.4->gsutil) (3.1.0)\nRequirement already satisfied: pycparser in /opt/conda/lib/python3.7/site-packages (from cffi!=1.11.3,>=1.8->cryptography>=2.8->pyOpenSSL>=0.13->gsutil) (2.20)\n"
    }
   ],
   "source": [
    "!pip3 install gsutil"
   ]
  },
  {
   "cell_type": "code",
   "execution_count": 3,
   "metadata": {},
   "outputs": [],
   "source": [
    "from tools.datasets import *\n",
    "import fnmatch\n",
    "import os"
   ]
  },
  {
   "cell_type": "code",
   "execution_count": 4,
   "metadata": {
    "tags": []
   },
   "outputs": [
    {
     "output_type": "stream",
     "name": "stdout",
     "text": "Found googlenlq dataset at data/GoogleNLQ/v1.0-simplified_nq-dev-all.jsonl\n"
    }
   ],
   "source": [
    "googlenlq_dir = os.path.join(DATA_FOLDER, \"GoogleNLQ\")\n",
    "os.makedirs(googlenlq_dir, exist_ok=True)\n",
    "# Be wary! This will download the full dataset of 41 GBs.\n",
    "#!gsutil -m cp -R gs://natural_questions/v1.0 $googlenlq_dir\n",
    "for filename in os.listdir(googlenlq_dir):\n",
    "    if fnmatch.fnmatch(filename, \"*dev-all.jsonl\"):\n",
    "        googlenlq_filename = os.path.join(googlenlq_dir, filename)\n",
    "print(\"Found googlenlq dataset at \" + googlenlq_filename)"
   ]
  },
  {
   "cell_type": "code",
   "execution_count": 5,
   "metadata": {
    "tags": []
   },
   "outputs": [],
   "source": [
    "import pyspark\n",
    "from pyspark.sql import SparkSession\n",
    "\n",
    "sc = pyspark.SparkContext()\n",
    "spark = SparkSession(sc)"
   ]
  },
  {
   "cell_type": "code",
   "execution_count": 6,
   "metadata": {},
   "outputs": [],
   "source": [
    "from pyspark.sql.functions import explode, expr"
   ]
  },
  {
   "cell_type": "code",
   "execution_count": 7,
   "metadata": {},
   "outputs": [],
   "source": [
    "nlq_df = spark.read.json(googlenlq_filename)"
   ]
  },
  {
   "cell_type": "code",
   "execution_count": 8,
   "metadata": {
    "tags": []
   },
   "outputs": [
    {
     "output_type": "stream",
     "name": "stdout",
     "text": "root\n |-- annotations: array (nullable = true)\n |    |-- element: struct (containsNull = true)\n |    |    |-- annotation_id: decimal(20,0) (nullable = true)\n |    |    |-- long_answer: struct (nullable = true)\n |    |    |    |-- candidate_index: long (nullable = true)\n |    |    |    |-- end_byte: long (nullable = true)\n |    |    |    |-- end_token: long (nullable = true)\n |    |    |    |-- start_byte: long (nullable = true)\n |    |    |    |-- start_token: long (nullable = true)\n |    |    |-- short_answers: array (nullable = true)\n |    |    |    |-- element: struct (containsNull = true)\n |    |    |    |    |-- end_byte: long (nullable = true)\n |    |    |    |    |-- end_token: long (nullable = true)\n |    |    |    |    |-- start_byte: long (nullable = true)\n |    |    |    |    |-- start_token: long (nullable = true)\n |    |    |-- yes_no_answer: string (nullable = true)\n |-- document_html: string (nullable = true)\n |-- document_title: string (nullable = true)\n |-- document_tokens: array (nullable = true)\n |    |-- element: struct (containsNull = true)\n |    |    |-- end_byte: long (nullable = true)\n |    |    |-- html_token: boolean (nullable = true)\n |    |    |-- start_byte: long (nullable = true)\n |    |    |-- token: string (nullable = true)\n |-- document_url: string (nullable = true)\n |-- example_id: long (nullable = true)\n |-- long_answer_candidates: array (nullable = true)\n |    |-- element: struct (containsNull = true)\n |    |    |-- end_byte: long (nullable = true)\n |    |    |-- end_token: long (nullable = true)\n |    |    |-- start_byte: long (nullable = true)\n |    |    |-- start_token: long (nullable = true)\n |    |    |-- top_level: boolean (nullable = true)\n |-- question_text: string (nullable = true)\n |-- question_tokens: array (nullable = true)\n |    |-- element: string (containsNull = true)\n\n"
    }
   ],
   "source": [
    "nlq_df.printSchema()"
   ]
  },
  {
   "cell_type": "code",
   "execution_count": 9,
   "metadata": {},
   "outputs": [],
   "source": [
    "nlq_df.createOrReplaceTempView(\"NLQ\")\n",
    "\n",
    "res = spark.sql(\"SELECT document_title, question_text from NLQ LIMIT 100\")"
   ]
  },
  {
   "cell_type": "code",
   "execution_count": 10,
   "metadata": {
    "tags": []
   },
   "outputs": [
    {
     "output_type": "stream",
     "name": "stdout",
     "text": "+---------------------------------------------+-------------------------------------------------------------------------+\n|document_title                               |question_text                                                            |\n+---------------------------------------------+-------------------------------------------------------------------------+\n|Therefore sign                               |what do the 3 dots mean in math                                          |\n|Watchman (law enforcement)                   |when was the writ watch invented by who                                  |\n|Photograph (Ringo Starr song)                |who wrote the song photograph by ringo starr                             |\n|Super Bowl 50 halftime show                  |who is playing the halftime show at super bowl 2016                      |\n|Matt Lanter                                  |star wars the clone wars anakin voice actor                              |\n|A Whiter Shade of Pale                       |meaning behind the song whiter shade of pale                             |\n|Globe                                        |where is most distortion found on a globe                                |\n|List of A Certain Scientific Railgun episodes|to aru kagaku no railgun s episode 3                                     |\n|List of Seraph of the End chapters           |when do new chapters of owari no seraph come out                         |\n|Surname                                      |where does the last name painter come from                               |\n|Dominance (genetics)                         |dominant alleles are always the most common allele in a population       |\n|List of woods                                |an eastern red cedar is a hardwood or softwood                           |\n|Ahmedabad textile industry                   |what are the challenges faced by the cotton textile industry of ahmedabad|\n|2017 BBC Sports Personality of the Year Award|who won the 2017 sports personality of the year                          |\n|I've Got the Joy Joy Joy Joy                 |i got the joy joy joy down in my heart lyrics                            |\n|Sports in the Las Vegas metropolitan area    |is there a basketball team in las vegas                                  |\n|Windsor Castle                               |who lives in the grounds of windsor castle                               |\n|List of protected areas of the Philippines   |list of environmentally critical areas in the philippines                |\n|After the Bath, Woman Drying Herself         |after the bath woman drying herself elements of design                   |\n|Super-G                                      |what’s the difference between downhill and super g                       |\n+---------------------------------------------+-------------------------------------------------------------------------+\nonly showing top 20 rows\n\n"
    }
   ],
   "source": [
    "res.show(truncate=False)"
   ]
  },
  {
   "cell_type": "code",
   "execution_count": 11,
   "metadata": {
    "tags": []
   },
   "outputs": [
    {
     "output_type": "execute_result",
     "data": {
      "text/plain": "[Row(question_text='what do the 3 dots mean in math', start_token=14, end_token=808),\n Row(question_text='what do the 3 dots mean in math', start_token=15, end_token=20),\n Row(question_text='what do the 3 dots mean in math', start_token=20, end_token=26),\n Row(question_text='what do the 3 dots mean in math', start_token=26, end_token=197),\n Row(question_text='what do the 3 dots mean in math', start_token=28, end_token=195),\n Row(question_text='what do the 3 dots mean in math', start_token=29, end_token=34),\n Row(question_text='what do the 3 dots mean in math', start_token=34, end_token=43),\n Row(question_text='what do the 3 dots mean in math', start_token=43, end_token=58),\n Row(question_text='what do the 3 dots mean in math', start_token=58, end_token=66),\n Row(question_text='what do the 3 dots mean in math', start_token=66, end_token=76)]"
     },
     "metadata": {},
     "execution_count": 11
    }
   ],
   "source": [
    "#nlq_df.select(explode(\"annotations\")).select(\"col.*\").select(\"long_answer.candidate_index\").limit(10).collect()\n",
    "nlq_df.select(\"question_text\", explode(\"long_answer_candidates\")) \\\n",
    "      .select(\"question_text\", \"col.start_token\", \"col.end_token\") \\\n",
    "      .limit(10) \\\n",
    "      .collect()\n",
    "      "
   ]
  },
  {
   "cell_type": "code",
   "execution_count": 12,
   "metadata": {
    "tags": []
   },
   "outputs": [],
   "source": [
    "ris = nlq_df.select(\"question_text\").limit(1)"
   ]
  },
  {
   "cell_type": "code",
   "execution_count": 13,
   "metadata": {},
   "outputs": [],
   "source": [
    "r = ris.collect()"
   ]
  },
  {
   "cell_type": "code",
   "execution_count": 14,
   "metadata": {},
   "outputs": [
    {
     "output_type": "execute_result",
     "data": {
      "text/plain": "'what do the 3 dots mean in math'"
     },
     "metadata": {},
     "execution_count": 14
    }
   ],
   "source": [
    "r[0].asDict()[\"question_text\"]"
   ]
  },
  {
   "cell_type": "code",
   "execution_count": 15,
   "metadata": {
    "tags": []
   },
   "outputs": [],
   "source": [
    "sampled_questions = nlq_df.select(\"question_text\") \\\n",
    "                          .filter(nlq_df.question_text.contains(\"how do you say\")) \\\n",
    "                          .sample(withReplacement=False, fraction=1.).collect()"
   ]
  },
  {
   "cell_type": "code",
   "execution_count": 16,
   "metadata": {
    "tags": []
   },
   "outputs": [
    {
     "output_type": "stream",
     "name": "stdout",
     "text": "[Row(question_text='how do you say evil eye in greek'), Row(question_text='how do you say zest for life in french')]\n"
    }
   ],
   "source": [
    "print(sampled_questions)"
   ]
  },
  {
   "cell_type": "code",
   "execution_count": 18,
   "metadata": {},
   "outputs": [],
   "source": [
    "from tools.datasets import *\n",
    "\n",
    "from SPARQLWrapper import SPARQLWrapper, JSON\n",
    "wikidata_sparql.sparql = SPARQLWrapper(\"https://query.wikidata.org/sparql\")\n",
    "wikidata_sparql.sparql.setReturnFormat(JSON)\n",
    "\n",
    "language_list = wikidata_sparql.run_query(\"\"\"\n",
    "SELECT DISTINCT ?lang\n",
    "\n",
    "WHERE\n",
    "{\n",
    "    ?langEntity wdt:P31 wd:Q34770;\n",
    "                  wdt:P1098 ?num.\n",
    "    ?langEntity rdfs:label ?lang.\n",
    "    FILTER(LANG(?lang) = \"en\").\n",
    "}\n",
    "\n",
    "ORDER BY DESC(?num)\n",
    "LIMIT 30\n",
    "\"\"\")"
   ]
  },
  {
   "cell_type": "code",
   "execution_count": 23,
   "metadata": {},
   "outputs": [
    {
     "output_type": "execute_result",
     "data": {
      "text/plain": "[Row(question_text='at one point during the first world war the french prime minister'),\n Row(question_text='who continues to exist according to the zhou chinese'),\n Row(question_text='which is not true about the chinese horse'),\n Row(question_text='what was the ancient chinese umbrella used for'),\n Row(question_text=\"what's the difference between peanuts and spanish peanuts\"),\n Row(question_text='all tables are to be numbered using arabic numerals'),\n Row(question_text='why does one ok rock sing in english'),\n Row(question_text='who were the major leaders of the french and indian war'),\n Row(question_text='list of all spices in english and hindi'),\n Row(question_text='what document produced during the french revolution was ignored by the committee of public safety'),\n Row(question_text='what is the meaning of safiya in urdu'),\n Row(question_text='who translated the play neel darpan into english'),\n Row(question_text='what is the means of strange in hindi'),\n Row(question_text='english and french are spoken in many parts of africa because'),\n Row(question_text='the german princes who chose the holy roman empire were called'),\n Row(question_text='how did english government change during the glorious revolution'),\n Row(question_text='how did the warlord era contribute to the start of the chinese civil war'),\n Row(question_text='where are the spanish steps located in italy'),\n Row(question_text='trick taking card game name derived from spanish for man'),\n Row(question_text='how common is the word in the english language'),\n Row(question_text='turkish finnish and hungarian belong to which family of languages'),\n Row(question_text='what are the five pillars of islam in arabic'),\n Row(question_text='the chinese restaurant. season 2 episode 11'),\n Row(question_text='where is australia’s closest french speaking country'),\n Row(question_text='who was the french chef given credit for developing the classic kitchen\\u200b brigade'),\n Row(question_text='how many strong verbs are there in german'),\n Row(question_text='explain what is meant by plain english and why is it used'),\n Row(question_text='meaning of each one teach one in hindi'),\n Row(question_text='any words in spanish that start with x'),\n Row(question_text='who was the head of the spanish inquisition'),\n Row(question_text='the beast and the beauty korean movie - english subtitle'),\n Row(question_text='defeat of the spanish armada by the british'),\n Row(question_text='what is the meaning of gynaecologist in hindi'),\n Row(question_text='in another world with my smartphone japanese title'),\n Row(question_text='what is the average height of a chinese man'),\n Row(question_text='who helped the british in the french and indian war'),\n Row(question_text='25 common indian vegetables and their english names'),\n Row(question_text='the chinese dragons are protectors of how many seas diggy'),\n Row(question_text='what is the meaning of gorakh dhanda in urdu'),\n Row(question_text=\"who has won 2017 women's singles korean open series badminton championship\"),\n Row(question_text='watch dragon ball super episode 106 english dubbed'),\n Row(question_text='i only want to be with you in french'),\n Row(question_text='what is the average depth of the english channel'),\n Row(question_text='where do the question marks go in spanish'),\n Row(question_text='what are the 21 countries that speak spanish'),\n Row(question_text='why was the decision to leave french forces behind'),\n Row(question_text='who lived in jamestown before the arrival of the english'),\n Row(question_text='name of the school last attended means in hindi'),\n Row(question_text='well differentiated squamous cell carcinoma meaning in hindi'),\n Row(question_text='german inventor of an internal combustion engine that could power large vehicles'),\n Row(question_text=\"how to say someone's name in korean\"),\n Row(question_text='what are the spices in chinese 5 spice powder'),\n Row(question_text='who fought in the french and indin war'),\n Row(question_text='who dubbed kung fu panda 3 in hindi'),\n Row(question_text='gabbar is back is a remake of which telugu movie'),\n Row(question_text='how many countries have english as first language'),\n Row(question_text='fullmetal alchemist season 1 episode 27 english dub'),\n Row(question_text=\"who won french open 2017 tennis tournament in men's double category\"),\n Row(question_text='why the english were founding colonies in north america in the early 1600s'),\n Row(question_text='two manners of articulation that do not occur in english'),\n Row(question_text='where was the german fleet scuttled in 1919'),\n Row(question_text='which of the following is not a key characteristic of chinese gardens'),\n Row(question_text='where does the english channel begin and end'),\n Row(question_text='words which are same in hindi and english'),\n Row(question_text='what are two words in spanish that are borrowed from greek'),\n Row(question_text='who made large sums of money for the french'),\n Row(question_text='china in chinese is called zhongguo which means'),\n Row(question_text='das lied von der erde german text and english translation'),\n Row(question_text='when is the year of the cat in chinese zodiac'),\n Row(question_text='much of the character of russian tsarist rule comes from'),\n Row(question_text='what time do korean students go to school'),\n Row(question_text='who was the aztec ruler when the spanish arrived'),\n Row(question_text='why do we celebrate holi festival in hindi'),\n Row(question_text='what is the spelling of lakh in english'),\n Row(question_text='when was the japanese videogame company nintendo founded'),\n Row(question_text='who made the first spanish landing on the mainland of north america'),\n Row(question_text=\"lemony snicket's a series of unfortunate events hindi\"),\n Row(question_text='when does the chinese new year begin and end'),\n Row(question_text='what is the longest english word in the dictionary'),\n Row(question_text='bad guys age of evil korean drama asianwiki'),\n Row(question_text='why 26 january is celebrated as republic day in hindi'),\n Row(question_text='where were all of the early english settlements located'),\n Row(question_text='what kind of guns were used in the korean war'),\n Row(question_text='who has the best history in english football'),\n Row(question_text='can conversions be done between the metric system and the english standard system how'),\n Row(question_text='my wife is having an affair this week korean drama'),\n Row(question_text='what does the greek word onta mean in english'),\n Row(question_text='one piece episode 534 english dubbed release date'),\n Row(question_text='romance of the three kingdoms xi power up kit english'),\n Row(question_text='where did the french immigrants settle in texas'),\n Row(question_text='who were the notable filipino sociologist who help in the propagation of the course'),\n Row(question_text='what does amx stand for in french tanks'),\n Row(question_text='which city had the highest number of english and hindi newspapers in 2012 and 2013'),\n Row(question_text='what is the difference between italian beef and french dip'),\n Row(question_text='miss universe 2017 south africa is half filipino'),\n Row(question_text='two early english documents that influenced the foundation of democracy'),\n Row(question_text='how did the estates general illustrate the inequality of the french government'),\n Row(question_text='the japanese pagoda was influenced by the indian stupa'),\n Row(question_text='what is the meaning of adnan in hindi'),\n Row(question_text='tad the lost explorer and the secret of king midas english cast'),\n Row(question_text='who were the nationalist in the spanish civil war'),\n Row(question_text='who led an expedition in search of the northwest passage for the french'),\n Row(question_text='how do you say zest for life in french'),\n Row(question_text='who was the first english child born in north america'),\n Row(question_text='who wrote the first historical novel in bengali'),\n Row(question_text='the french secular songs of the middle ages'),\n Row(question_text='arabic is the official language of which country'),\n Row(question_text=\"what happened to the homeless korean boy on korea's got talent\"),\n Row(question_text='what is the meaning of veronica in english'),\n Row(question_text='where do long haired german shepherds come from'),\n Row(question_text='what was the bloodiest period in the french revolution'),\n Row(question_text='who is considered to be the greatest english composer of the baroque period'),\n Row(question_text='what were two consequences of the french colonization of haiti'),\n Row(question_text='when was english ivy introduced to the us'),\n Row(question_text='when is chinese new year and what year is it'),\n Row(question_text='us aid to south korea after korean war'),\n Row(question_text='when was the first underwater cable laid beneath the english channel'),\n Row(question_text='the wolfman 2010 full movie in hindi part 2'),\n Row(question_text='internet based test of english as a foreign language test'),\n Row(question_text='what is the meaning of kumkum in english'),\n Row(question_text='international campaign to abolish nuclear weapons in hindi'),\n Row(question_text='what is the meaning of shalom in english'),\n Row(question_text='one piece english dubbed episode 564 release date'),\n Row(question_text='who was defeated in the french and indian war'),\n Row(question_text='story of prem ratan dhan payo in hindi'),\n Row(question_text='yu yu hakusho movie poltergeist report english dubbed'),\n Row(question_text='who has the credit for having written the first english novel of character'),\n Row(question_text='what is the mean of pkc in hindi'),\n Row(question_text='how did bayonet come into the english language'),\n Row(question_text='why are stop signs in italy in english'),\n Row(question_text=\"atlantic ocean's shape is similar to which english alphabet\"),\n Row(question_text='who was the spanish civil war fought between'),\n Row(question_text='who wrote the french declaration of the rights of man and of the citizen'),\n Row(question_text='german planes used in the battle of britain'),\n Row(question_text='who was the german leader who signed the treaty of versailles'),\n Row(question_text='where can i buy a japanese dwarf flying squirrel'),\n Row(question_text='what were rough riders in the spanish american war'),\n Row(question_text=\"german word for pleasure from someone else's pain\"),\n Row(question_text='the casualty projections for an invasion of the japanese home islands'),\n Row(question_text='if i become a prime minister of pakistan essay in urdu'),\n Row(question_text='french film pioneer who introduced newsreel in 1910'),\n Row(question_text='what is the spanish name for santa clause'),\n Row(question_text='different ways to say bless you in french'),\n Row(question_text='where did german immigrants settled in the 1800s')]"
     },
     "metadata": {},
     "execution_count": 23
    }
   ],
   "source": [
    "most_common_languages = set(language_list[\"lang.value\"].str.lower().array)\n",
    "\n",
    "def contains(column):\n",
    "    return any(word in most_common_languages for word in column.question_text.split())\n",
    "\n",
    "nlq_df.select(\"question_text\") \\\n",
    "      .rdd \\\n",
    "      .filter(contains) \\\n",
    "      .collect()"
   ]
  },
  {
   "cell_type": "code",
   "execution_count": null,
   "metadata": {},
   "outputs": [],
   "source": []
  }
 ],
 "metadata": {
  "language_info": {
   "codemirror_mode": {
    "name": "ipython",
    "version": 3
   },
   "file_extension": ".py",
   "mimetype": "text/x-python",
   "name": "python",
   "nbconvert_exporter": "python",
   "pygments_lexer": "ipython3",
   "version": "3.7.6-final"
  },
  "orig_nbformat": 2,
  "kernelspec": {
   "name": "python3",
   "display_name": "Python 3"
  }
 },
 "nbformat": 4,
 "nbformat_minor": 2
}