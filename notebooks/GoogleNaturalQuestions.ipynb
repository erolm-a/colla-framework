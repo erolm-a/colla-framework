{
 "cells": [
  {
   "cell_type": "markdown",
   "metadata": {},
   "source": [
    "# Google natural questions (scraped)\n",
    "This notebooks aims to answer the following research question: **Which natural questions do users make when making dictionary-based queries**"
   ]
  },
  {
   "cell_type": "code",
   "execution_count": 1,
   "metadata": {
    "tags": []
   },
   "outputs": [
    {
     "name": "stdout",
     "output_type": "stream",
     "text": [
      "Requirement already satisfied: gsutil in /usr/local/lib/python3.7/dist-packages (4.51)\n",
      "Requirement already satisfied: argcomplete>=1.9.4 in /usr/local/lib/python3.7/dist-packages (from gsutil) (1.12.0)\n",
      "Requirement already satisfied: mock==2.0.0 in /usr/local/lib/python3.7/dist-packages (from gsutil) (2.0.0)\n",
      "Requirement already satisfied: SocksiPy-branch==1.01 in /usr/local/lib/python3.7/dist-packages (from gsutil) (1.1)\n",
      "Requirement already satisfied: fasteners>=0.14.1 in /usr/local/lib/python3.7/dist-packages (from gsutil) (0.15)\n",
      "Requirement already satisfied: google-apitools>=0.5.30 in /usr/local/lib/python3.7/dist-packages (from gsutil) (0.5.31)\n",
      "Requirement already satisfied: crcmod>=1.7 in /usr/local/lib/python3.7/dist-packages (from gsutil) (1.7)\n",
      "Requirement already satisfied: six>=1.12.0 in /usr/local/lib/python3.7/dist-packages (from gsutil) (1.15.0)\n",
      "Requirement already satisfied: monotonic>=1.4 in /usr/local/lib/python3.7/dist-packages (from gsutil) (1.5)\n",
      "Requirement already satisfied: google-reauth>=0.1.0 in /usr/local/lib/python3.7/dist-packages (from gsutil) (0.1.0)\n",
      "Requirement already satisfied: pyOpenSSL>=0.13 in /usr/local/lib/python3.7/dist-packages (from gsutil) (19.1.0)\n",
      "Requirement already satisfied: httplib2>=0.11.3 in /usr/local/lib/python3.7/dist-packages (from gsutil) (0.18.1)\n",
      "Requirement already satisfied: retry-decorator>=1.0.0 in /usr/local/lib/python3.7/dist-packages (from gsutil) (1.1.1)\n",
      "Requirement already satisfied: gcs-oauth2-boto-plugin>=2.5 in /usr/local/lib/python3.7/dist-packages (from gsutil) (2.6)\n",
      "Requirement already satisfied: importlib-metadata<2,>=0.23; python_version == \"3.7\" in /usr/local/lib/python3.7/dist-packages (from argcomplete>=1.9.4->gsutil) (1.6.1)\n",
      "Requirement already satisfied: pbr>=0.11 in /usr/local/lib/python3.7/dist-packages (from mock==2.0.0->gsutil) (5.4.5)\n",
      "Requirement already satisfied: oauth2client>=1.4.12 in /usr/local/lib/python3.7/dist-packages (from google-apitools>=0.5.30->gsutil) (4.1.3)\n",
      "Requirement already satisfied: pyu2f in /usr/local/lib/python3.7/dist-packages (from google-reauth>=0.1.0->gsutil) (0.1.4)\n",
      "Requirement already satisfied: cryptography>=2.8 in /usr/local/lib/python3.7/dist-packages (from pyOpenSSL>=0.13->gsutil) (2.9.2)\n",
      "Requirement already satisfied: boto>=2.29.1 in /usr/local/lib/python3.7/dist-packages (from gcs-oauth2-boto-plugin>=2.5->gsutil) (2.49.0)\n",
      "Requirement already satisfied: zipp>=0.5 in /usr/local/lib/python3.7/dist-packages (from importlib-metadata<2,>=0.23; python_version == \"3.7\"->argcomplete>=1.9.4->gsutil) (3.1.0)\n",
      "Requirement already satisfied: pyasn1>=0.1.7 in /usr/local/lib/python3.7/dist-packages (from oauth2client>=1.4.12->google-apitools>=0.5.30->gsutil) (0.4.8)\n",
      "Requirement already satisfied: rsa>=3.1.4 in /usr/local/lib/python3.7/dist-packages (from oauth2client>=1.4.12->google-apitools>=0.5.30->gsutil) (4.6)\n",
      "Requirement already satisfied: pyasn1-modules>=0.0.5 in /usr/local/lib/python3.7/dist-packages (from oauth2client>=1.4.12->google-apitools>=0.5.30->gsutil) (0.2.8)\n",
      "Requirement already satisfied: cffi!=1.11.3,>=1.8 in /usr/local/lib/python3.7/dist-packages (from cryptography>=2.8->pyOpenSSL>=0.13->gsutil) (1.14.0)\n",
      "Requirement already satisfied: pycparser in /usr/local/lib/python3.7/dist-packages (from cffi!=1.11.3,>=1.8->cryptography>=2.8->pyOpenSSL>=0.13->gsutil) (2.20)\n"
     ]
    }
   ],
   "source": [
    "!pip3 install gsutil"
   ]
  },
  {
   "cell_type": "code",
   "execution_count": 2,
   "metadata": {},
   "outputs": [],
   "source": [
    "from tools.datasets import *\n",
    "import fnmatch\n",
    "import os"
   ]
  },
  {
   "cell_type": "code",
   "execution_count": 3,
   "metadata": {
    "tags": []
   },
   "outputs": [
    {
     "name": "stdout",
     "output_type": "stream",
     "text": [
      "Copying gs://natural_questions/v1.0/LICENSE.txt...\n",
      "Copying gs://natural_questions/v1.0/README.txt...                               \n",
      "Copying gs://natural_questions/v1.0/dev/nq-dev-00.jsonl.gz...                   \n",
      "Copying gs://natural_questions/v1.0/dev/nq-dev-01.jsonl.gz...                   \n",
      "Copying gs://natural_questions/v1.0/dev/nq-dev-02.jsonl.gz...                   \n",
      "Copying gs://natural_questions/v1.0/dev/nq-dev-03.jsonl.gz...                   \n",
      "Copying gs://natural_questions/v1.0/dev/nq-dev-04.jsonl.gz...                   \n",
      "Copying gs://natural_questions/v1.0/sample/nq-dev-sample.jsonl.gz...            \n",
      "Copying gs://natural_questions/v1.0/sample/nq-train-sample.jsonl.gz...          \n",
      "Copying gs://natural_questions/v1.0/train/nq-train-00.jsonl.gz...               \n",
      "Copying gs://natural_questions/v1.0/train/nq-train-01.jsonl.gz...               \n",
      "Copying gs://natural_questions/v1.0/train/nq-train-02.jsonl.gz...\n",
      "Copying gs://natural_questions/v1.0/train/nq-train-04.jsonl.gz...\n",
      "Copying gs://natural_questions/v1.0/train/nq-train-03.jsonl.gz...               \n",
      "Copying gs://natural_questions/v1.0/train/nq-train-15.jsonl.gz...               \n",
      "Copying gs://natural_questions/v1.0/train/nq-train-05.jsonl.gz...               \n",
      "Copying gs://natural_questions/v1.0/train/nq-train-06.jsonl.gz...               \n",
      "Copying gs://natural_questions/v1.0/train/nq-train-07.jsonl.gz...               \n",
      "Copying gs://natural_questions/v1.0/train/nq-train-16.jsonl.gz...               \n",
      "Copying gs://natural_questions/v1.0/train/nq-train-08.jsonl.gz...               \n",
      "Copying gs://natural_questions/v1.0/train/nq-train-10.jsonl.gz...               \n",
      "Copying gs://natural_questions/v1.0/train/nq-train-11.jsonl.gz...               \n",
      "Copying gs://natural_questions/v1.0/train/nq-train-12.jsonl.gz...               \n",
      "Copying gs://natural_questions/v1.0/train/nq-train-13.jsonl.gz...               \n",
      "Copying gs://natural_questions/v1.0/train/nq-train-14.jsonl.gz...\n",
      "Copying gs://natural_questions/v1.0/train/nq-train-17.jsonl.gz...               \n",
      "Copying gs://natural_questions/v1.0/train/nq-train-18.jsonl.gz...               \n",
      "Copying gs://natural_questions/v1.0/train/nq-train-09.jsonl.gz...               \n",
      "Copying gs://natural_questions/v1.0/train/nq-train-19.jsonl.gz...               \n",
      "Copying gs://natural_questions/v1.0/train/nq-train-20.jsonl.gz...\n",
      "Copying gs://natural_questions/v1.0/train/nq-train-21.jsonl.gz...               \n",
      "Copying gs://natural_questions/v1.0/train/nq-train-22.jsonl.gz...\n",
      "Copying gs://natural_questions/v1.0/train/nq-train-23.jsonl.gz...               \n",
      "Copying gs://natural_questions/v1.0/train/nq-train-24.jsonl.gz...\n",
      "Copying gs://natural_questions/v1.0/train/nq-train-25.jsonl.gz...               \n",
      "Copying gs://natural_questions/v1.0/train/nq-train-26.jsonl.gz...\n",
      "Copying gs://natural_questions/v1.0/train/nq-train-27.jsonl.gz...               \n",
      "Copying gs://natural_questions/v1.0/train/nq-train-28.jsonl.gz...\n",
      "Copying gs://natural_questions/v1.0/train/nq-train-30.jsonl.gz...               \n",
      "Copying gs://natural_questions/v1.0/train/nq-train-29.jsonl.gz...               \n",
      "Copying gs://natural_questions/v1.0/train/nq-train-31.jsonl.gz...               \n",
      "Copying gs://natural_questions/v1.0/train/nq-train-32.jsonl.gz...               \n",
      "Copying gs://natural_questions/v1.0/train/nq-train-33.jsonl.gz...               \n",
      "Copying gs://natural_questions/v1.0/train/nq-train-34.jsonl.gz...               \n",
      "Copying gs://natural_questions/v1.0/train/nq-train-35.jsonl.gz...               \n",
      "Copying gs://natural_questions/v1.0/train/nq-train-36.jsonl.gz...               \n",
      "Copying gs://natural_questions/v1.0/train/nq-train-37.jsonl.gz...               \n",
      "Copying gs://natural_questions/v1.0/train/nq-train-39.jsonl.gz...               \n",
      "Copying gs://natural_questions/v1.0/train/nq-train-40.jsonl.gz...\n",
      "Copying gs://natural_questions/v1.0/train/nq-train-38.jsonl.gz...               \n",
      "Copying gs://natural_questions/v1.0/train/nq-train-41.jsonl.gz...               \n",
      "Copying gs://natural_questions/v1.0/train/nq-train-42.jsonl.gz...\n",
      "Copying gs://natural_questions/v1.0/train/nq-train-43.jsonl.gz...               \n",
      "Copying gs://natural_questions/v1.0/train/nq-train-44.jsonl.gz...               \n",
      "Copying gs://natural_questions/v1.0/train/nq-train-45.jsonl.gz...\n",
      "Copying gs://natural_questions/v1.0/train/nq-train-46.jsonl.gz...               \n",
      "Copying gs://natural_questions/v1.0/train/nq-train-47.jsonl.gz...\n",
      "Copying gs://natural_questions/v1.0/train/nq-train-48.jsonl.gz...               \n",
      "Copying gs://natural_questions/v1.0/train/nq-train-49.jsonl.gz...               \n",
      "- [59/62 files][ 42.0 GiB/ 42.0 GiB]  99% Done  47.6 MiB/s ETA 00:00:00         \r"
     ]
    }
   ],
   "source": [
    "googlenlq_dir = os.path.join(DATA_FOLDER, \"GoogleNLQ\")\n",
    "os.makedirs(googlenlq_dir, exist_ok=True)\n",
    "# Be wary! This will download the full dataset of 41 GBs.\n",
    "!gsutil -m cp -R gs://natural_questions/v1.0 $googlenlq_dir"
   ]
  },
  {
   "cell_type": "code",
   "execution_count": 4,
   "metadata": {
    "tags": []
   },
   "outputs": [],
   "source": [
    "import pyspark\n",
    "from pyspark.sql import SparkSession\n",
    "\n",
    "sc = pyspark.SparkContext()\n",
    "spark = SparkSession(sc)"
   ]
  },
  {
   "cell_type": "code",
   "execution_count": 69,
   "metadata": {},
   "outputs": [],
   "source": [
    "from pyspark.sql.functions import explode, lower"
   ]
  },
  {
   "cell_type": "code",
   "execution_count": 66,
   "metadata": {},
   "outputs": [],
   "source": [
    "# load the first 15 slices only\n",
    "\n",
    "googlenlq_filename = [f\"data/GoogleNLQ/v1.0/train/nq-train-%.2d.jsonl.gz\" % i for i in range(15)]\n",
    "\n",
    "nlq_df = spark.read.json(googlenlq_filename)"
   ]
  },
  {
   "cell_type": "code",
   "execution_count": 26,
   "metadata": {
    "tags": []
   },
   "outputs": [
    {
     "name": "stdout",
     "output_type": "stream",
     "text": [
      "root\n",
      " |-- annotations: array (nullable = true)\n",
      " |    |-- element: struct (containsNull = true)\n",
      " |    |    |-- annotation_id: decimal(20,0) (nullable = true)\n",
      " |    |    |-- long_answer: struct (nullable = true)\n",
      " |    |    |    |-- candidate_index: long (nullable = true)\n",
      " |    |    |    |-- end_byte: long (nullable = true)\n",
      " |    |    |    |-- end_token: long (nullable = true)\n",
      " |    |    |    |-- start_byte: long (nullable = true)\n",
      " |    |    |    |-- start_token: long (nullable = true)\n",
      " |    |    |-- short_answers: array (nullable = true)\n",
      " |    |    |    |-- element: struct (containsNull = true)\n",
      " |    |    |    |    |-- end_byte: long (nullable = true)\n",
      " |    |    |    |    |-- end_token: long (nullable = true)\n",
      " |    |    |    |    |-- start_byte: long (nullable = true)\n",
      " |    |    |    |    |-- start_token: long (nullable = true)\n",
      " |    |    |-- yes_no_answer: string (nullable = true)\n",
      " |-- document_html: string (nullable = true)\n",
      " |-- document_title: string (nullable = true)\n",
      " |-- document_tokens: array (nullable = true)\n",
      " |    |-- element: struct (containsNull = true)\n",
      " |    |    |-- end_byte: long (nullable = true)\n",
      " |    |    |-- html_token: boolean (nullable = true)\n",
      " |    |    |-- start_byte: long (nullable = true)\n",
      " |    |    |-- token: string (nullable = true)\n",
      " |-- document_url: string (nullable = true)\n",
      " |-- example_id: long (nullable = true)\n",
      " |-- long_answer_candidates: array (nullable = true)\n",
      " |    |-- element: struct (containsNull = true)\n",
      " |    |    |-- end_byte: long (nullable = true)\n",
      " |    |    |-- end_token: long (nullable = true)\n",
      " |    |    |-- start_byte: long (nullable = true)\n",
      " |    |    |-- start_token: long (nullable = true)\n",
      " |    |    |-- top_level: boolean (nullable = true)\n",
      " |-- question_text: string (nullable = true)\n",
      " |-- question_tokens: array (nullable = true)\n",
      " |    |-- element: string (containsNull = true)\n",
      "\n"
     ]
    }
   ],
   "source": [
    "nlq_df.printSchema()"
   ]
  },
  {
   "cell_type": "code",
   "execution_count": 27,
   "metadata": {},
   "outputs": [],
   "source": [
    "nlq_df.createOrReplaceTempView(\"NLQ\")\n",
    "\n",
    "res = spark.sql(\"SELECT document_title, question_text from NLQ LIMIT 100\")"
   ]
  },
  {
   "cell_type": "code",
   "execution_count": 28,
   "metadata": {
    "tags": []
   },
   "outputs": [
    {
     "name": "stdout",
     "output_type": "stream",
     "text": [
      "+------------------------------------------+-----------------------------------------------------------------------------+\n",
      "|document_title                            |question_text                                                                |\n",
      "+------------------------------------------+-----------------------------------------------------------------------------+\n",
      "|United States twenty-dollar bill          |who appeared in the $20 bill in 1875                                         |\n",
      "|All-India Muslim League                   |who presided over the first session of muslim league at dhaka                |\n",
      "|I Need Love                               |ll cool j in the back of my mind                                             |\n",
      "|Gospel of Matthew                         |who is generally accepted to be the author of the gospel of matthew          |\n",
      "|Fuller House (TV series)                  |why are there only nine episodes of fuller house season 3                    |\n",
      "|2018 FIFA World Cup qualification         |how many points does a team need to advance in the world cup                 |\n",
      "|Catechism of a Revolutionary              |who wrote of principles of revolution in his catechism of the revolutionary ​|\n",
      "|Armed Services Vocational Aptitude Battery|what is the highest score on the asfab                                       |\n",
      "|Cloud computing security                  |explain your view on cloud based products from a security perspective        |\n",
      "|Innate immune system                      |which of the following is not a component of an innate response              |\n",
      "|Patriot (American Revolution)             |patriots point of view of the american revolution                            |\n",
      "|Amy Jo Johnson                            |who played the pink ranger in power rangers                                  |\n",
      "|Callie Torres                             |what season does callie leave grey's anatomy                                 |\n",
      "|List of most-subscribed YouTube channels  |who had the most subscribers on youtube 2017                                 |\n",
      "|England at the FIFA World Cup             |when was the last time england got in the quarterfinals                      |\n",
      "|Benidorm (TV series)                      |what time of the year is benidorm filmed                                     |\n",
      "|Great Sphinx of Giza                      |sketches of the sphinx by the dane frederic louis norden                     |\n",
      "|Milky Way                                 |where does most star formation take place in the milky way                   |\n",
      "|Causes of the Great Depression            |how did agriculture lead to the great depression                             |\n",
      "|Bordeaux wine regions                     |merlot is commonly grown on the right bank of the dordogne river             |\n",
      "+------------------------------------------+-----------------------------------------------------------------------------+\n",
      "only showing top 20 rows\n",
      "\n"
     ]
    }
   ],
   "source": [
    "res.show(truncate=False)"
   ]
  },
  {
   "cell_type": "code",
   "execution_count": 29,
   "metadata": {
    "tags": []
   },
   "outputs": [
    {
     "data": {
      "text/plain": [
       "[Row(question_text='who appeared in the $20 bill in 1875', start_token=22, end_token=151),\n",
       " Row(question_text='who appeared in the $20 bill in 1875', start_token=25, end_token=33),\n",
       " Row(question_text='who appeared in the $20 bill in 1875', start_token=33, end_token=41),\n",
       " Row(question_text='who appeared in the $20 bill in 1875', start_token=41, end_token=50),\n",
       " Row(question_text='who appeared in the $20 bill in 1875', start_token=50, end_token=59),\n",
       " Row(question_text='who appeared in the $20 bill in 1875', start_token=59, end_token=70),\n",
       " Row(question_text='who appeared in the $20 bill in 1875', start_token=70, end_token=84),\n",
       " Row(question_text='who appeared in the $20 bill in 1875', start_token=84, end_token=96),\n",
       " Row(question_text='who appeared in the $20 bill in 1875', start_token=96, end_token=101),\n",
       " Row(question_text='who appeared in the $20 bill in 1875', start_token=105, end_token=114)]"
      ]
     },
     "execution_count": 29,
     "metadata": {},
     "output_type": "execute_result"
    }
   ],
   "source": [
    "#nlq_df.select(explode(\"annotations\")).select(\"col.*\").select(\"long_answer.candidate_index\").limit(10).collect()\n",
    "nlq_df.select(\"question_text\", explode(\"long_answer_candidates\")) \\\n",
    "      .select(\"question_text\", \"col.start_token\", \"col.end_token\") \\\n",
    "      .limit(10) \\\n",
    "      .collect()\n",
    "      "
   ]
  },
  {
   "cell_type": "code",
   "execution_count": 30,
   "metadata": {
    "tags": []
   },
   "outputs": [],
   "source": [
    "ris = nlq_df.select(\"question_text\").limit(1)"
   ]
  },
  {
   "cell_type": "code",
   "execution_count": 31,
   "metadata": {},
   "outputs": [],
   "source": [
    "r = ris.collect()"
   ]
  },
  {
   "cell_type": "code",
   "execution_count": 32,
   "metadata": {},
   "outputs": [
    {
     "data": {
      "text/plain": [
       "'who appeared in the $20 bill in 1875'"
      ]
     },
     "execution_count": 32,
     "metadata": {},
     "output_type": "execute_result"
    }
   ],
   "source": [
    "r[0].asDict()[\"question_text\"]"
   ]
  },
  {
   "cell_type": "code",
   "execution_count": 33,
   "metadata": {
    "tags": []
   },
   "outputs": [],
   "source": [
    "sampled_questions = nlq_df.select(\"question_text\") \\\n",
    "                          .filter(nlq_df.question_text.contains(\"how do you say\")) \\\n",
    "                          .sample(withReplacement=False, fraction=1.).collect()"
   ]
  },
  {
   "cell_type": "code",
   "execution_count": 34,
   "metadata": {
    "tags": []
   },
   "outputs": [
    {
     "name": "stdout",
     "output_type": "stream",
     "text": [
      "Row(question_text='how do you say alice in wonderland in spanish')\n",
      "Row(question_text='how do you say horse meat in french')\n",
      "Row(question_text='how do you say bless you in french when someone sneezes')\n",
      "Row(question_text='how do you say blue in all languages')\n",
      "Row(question_text='how do you say great britain in french')\n",
      "Row(question_text='how do you say son in law in korean')\n",
      "Row(question_text='how do you say bless you in italian')\n",
      "Row(question_text='how do you say i like to play video games in french')\n"
     ]
    }
   ],
   "source": [
    "for question in sampled_questions:\n",
    "    print(question)"
   ]
  },
  {
   "cell_type": "code",
   "execution_count": 37,
   "metadata": {},
   "outputs": [],
   "source": [
    "from tools.datasets import *\n",
    "from tools.sparql_wrapper import SPARQLDataProviders\n",
    "\n",
    "class WikidataQuery(SPARQLDataProviders):\n",
    "    \"\"\"Wrapper to make SPARQL queries to Wikidata\"\"\"\n",
    "    def __init__(self):\n",
    "        self.sparql = SPARQLWrapper(\"https://query.wikidata.org/sparql\")\n",
    "        \n",
    "    @property\n",
    "    def prefix(self):\n",
    "        return \"\"\n",
    "wikidata_sparql = WikidataQuery()\n",
    "\n",
    "language_list = wikidata_sparql.run_query(\"\"\"\n",
    "SELECT DISTINCT ?lang\n",
    "\n",
    "WHERE\n",
    "{\n",
    "    ?langEntity wdt:P31 wd:Q34770;\n",
    "                  wdt:P1098 ?num.\n",
    "    ?langEntity rdfs:label ?lang.\n",
    "    FILTER(LANG(?lang) = \"en\").\n",
    "}\n",
    "\n",
    "ORDER BY DESC(?num)\n",
    "LIMIT 30\n",
    "\"\"\")"
   ]
  },
  {
   "cell_type": "code",
   "execution_count": 58,
   "metadata": {},
   "outputs": [],
   "source": [
    "from functools import reduce\n",
    "\n",
    "most_common_languages = set(language_list[\"lang.value\"].str.lower().array)\n",
    "\n",
    "how_do_you_say = {\"how do you say\", \"how does one say\",\n",
    "                      \"what is the translation of\",\n",
    "                      \"how does one translate\"}\n",
    "\n",
    "in_lang = {\"in \" + lang for lang in most_common_languages }.union({'into ' + lang for lang in most_common_languages})\n",
    "\n",
    "keywords = {'translate', 'definition', 'mean', 'meaning',\n",
    "              'singular', 'plural', 'conjugation', 'conjugate', 'declinate',\n",
    "              'noun', 'verb', 'adjective', 'pronoun', 'comparative',\n",
    "              'superlative', 'irregular', 'definition', 'synonyms', 'language',\n",
    "              'linguistic'}\n",
    "\n",
    "search_terms = reduce(lambda a, b: a.union(b), [most_common_languages, how_do_you_say,\n",
    "                                                         in_lang, keywords])\n",
    "\n",
    "search_terms_regex = \"|\".join(search_terms)"
   ]
  },
  {
   "cell_type": "code",
   "execution_count": 73,
   "metadata": {},
   "outputs": [],
   "source": [
    "def contains(column):\n",
    "    return any([expression in column.question_text for expression in search_terms])\n",
    "\n",
    "returned_rows = nlq_df.select(\"question_text\") \\\n",
    "      .where(lower(nlq_df.question_text).rlike(search_terms_regex)) \\\n",
    "      .limit(100) \\\n",
    "      .collect()\n"
   ]
  },
  {
   "cell_type": "code",
   "execution_count": 74,
   "metadata": {},
   "outputs": [
    {
     "data": {
      "text/plain": [
       "[Row(question_text='when did the us start fighting germany in ww2'),\n",
       " Row(question_text='who created the dothraki language on game of thrones'),\n",
       " Row(question_text='the man who set up the first spanish colony in the new world was'),\n",
       " Row(question_text='see no evil hear no evil speak no evil skulls meaning'),\n",
       " Row(question_text='the word theatre comes from greek and literally means seeing place'),\n",
       " Row(question_text='what is the meaning of kinetic molecular theory'),\n",
       " Row(question_text='who won the english football cup in 1949'),\n",
       " Row(question_text='who is going to get eliminated in bigg boss telugu'),\n",
       " Row(question_text='english colonies in north america established a form of blank based on elections'),\n",
       " Row(question_text='what is the longest english word in which no letter is repeated'),\n",
       " Row(question_text='what is the meaning of love me like you do in hindi'),\n",
       " Row(question_text='what is the meaning of llc in a company'),\n",
       " Row(question_text='took a pill in ibiza meaning of song'),\n",
       " Row(question_text='how many types of french cheese are there'),\n",
       " Row(question_text='when did the japanese surrender to the allied forces'),\n",
       " Row(question_text='what do you call the upside down question mark in spanish'),\n",
       " Row(question_text='what was the primary motivation for the french who came to the new world'),\n",
       " Row(question_text='hell is empty and all the devils are here quote meaning'),\n",
       " Row(question_text='what do you mean by fdi in india'),\n",
       " Row(question_text='twilight saga 2008 full movie download in english'),\n",
       " Row(question_text='lincos design of a language for cosmic intercourse'),\n",
       " Row(question_text='difference between french civil law and english common law'),\n",
       " Row(question_text='when did the french settlers come to canada'),\n",
       " Row(question_text='which country supported the republican forces with military aid in the spanish civil war'),\n",
       " Row(question_text='in london it could be known as a french plait'),\n",
       " Row(question_text='where did the french spanish and dutch colonize'),\n",
       " Row(question_text='the pagoda of the japanese buddhist horyuji temple serves as a'),\n",
       " Row(question_text=\"what's the meaning of yin and yang\"),\n",
       " Row(question_text=\"3 doors down it's not my time meaning\"),\n",
       " Row(question_text='the adventures of tenali raman episodes in hindi'),\n",
       " Row(question_text='portugal the man live in the moment song meaning'),\n",
       " Row(question_text='what is the fifa ranking of chinese taipei'),\n",
       " Row(question_text='what do you mean by body mass index'),\n",
       " Row(question_text='what is the meaning of curb your enthusiasm'),\n",
       " Row(question_text='what does the quote hope springs eternal mean'),\n",
       " Row(question_text='i am the master of my own fate meaning'),\n",
       " Row(question_text='what does a red light mean on xbox 360'),\n",
       " Row(question_text='best hindi film at the 65th national film awards'),\n",
       " Row(question_text='when did the french last win the world cup'),\n",
       " Row(question_text='new kid on the block chinese food makes me sick'),\n",
       " Row(question_text='what happens if a chinese couple have a second child'),\n",
       " Row(question_text='how many english accents are there in the world'),\n",
       " Row(question_text='in what present day states were the spanish missions located'),\n",
       " Row(question_text='american dragon jake long all episodes in hindi'),\n",
       " Row(question_text='meaning of the breaking of the glass at a jewish wedding'),\n",
       " Row(question_text='what convinced germany to sign an armistice ending world war 1'),\n",
       " Row(question_text='in germany give(s) employees the right to participate in personnel decisions'),\n",
       " Row(question_text='what is the meaning of quaid e azam'),\n",
       " Row(question_text='english folk song suite by ralph vaughan williams'),\n",
       " Row(question_text='who was the first researcher to suggest that facial expressions are pre-verbal'),\n",
       " Row(question_text='how did japanese society change with the rise of military rule'),\n",
       " Row(question_text='north korea to meet for talks with u.s. south korean delegations in helsinki'),\n",
       " Row(question_text='what does it mean to stress a syllable'),\n",
       " Row(question_text='the closed shop form of union security means that the'),\n",
       " Row(question_text='who was the first person to translate the bible into english'),\n",
       " Row(question_text='who won malaysia masters grand prix gold title 2017'),\n",
       " Row(question_text='tamil is the national language of which country'),\n",
       " Row(question_text='what is meant by input and output devices'),\n",
       " Row(question_text='what is the meaning of the name lena'),\n",
       " Row(question_text='what is the meaning of the name nasreen'),\n",
       " Row(question_text='recovery of an mmo junkie episode 1 english dubbed'),\n",
       " Row(question_text='when was the berlin wall built in germany'),\n",
       " Row(question_text='who established the six principles of chinese painting'),\n",
       " Row(question_text='when did the last survivor of the crimean war die'),\n",
       " Row(question_text='the chinese exclusion act of 1882 was significant in american immigration history because'),\n",
       " Row(question_text='what does the jewel between the eyes mean'),\n",
       " Row(question_text='what does the name yuri mean in korean'),\n",
       " Row(question_text='who is eliminated from bigg boss today in telugu'),\n",
       " Row(question_text='how long did the spanish colonized the philippines'),\n",
       " Row(question_text='when did the english king reward his supporters a charter for north and south carolina'),\n",
       " Row(question_text='what is the meaning of the name herman'),\n",
       " Row(question_text='why do we have a silent k in english'),\n",
       " Row(question_text='what is the meaning of clocks by coldplay'),\n",
       " Row(question_text='what type of economy does french guiana have'),\n",
       " Row(question_text='which of the following types of rna is translated into protein'),\n",
       " Row(question_text='predestination( time travel full movie ) 2014 in hindi'),\n",
       " Row(question_text='meaning of meatloaf paradise by the dashboard light'),\n",
       " Row(question_text='where does the name spanish flu come from'),\n",
       " Row(question_text='opera buffa was often performed in the common language of the country of origin'),\n",
       " Row(question_text='what kinds of settlements did the french established in north america'),\n",
       " Row(question_text='where would you find the greenwich mean time zone how do you know'),\n",
       " Row(question_text='when did swedish become the official language of sweden'),\n",
       " Row(question_text='who is known as grand old man of indian english fiction'),\n",
       " Row(question_text='which british prime minister declared war on germany'),\n",
       " Row(question_text='who is announcing the national championship game basketball'),\n",
       " Row(question_text='what is the meaning of english as a second language'),\n",
       " Row(question_text='how many countries did germany invade in ww1'),\n",
       " Row(question_text='what was peru like prior to the spanish dominance'),\n",
       " Row(question_text='what is the meaning of the name brandy'),\n",
       " Row(question_text='who named uranus and what does it mean'),\n",
       " Row(question_text='what are the languages spoken in sri lanka'),\n",
       " Row(question_text='a drunk man looks at the thistle english translation'),\n",
       " Row(question_text='when did us declare war on germany in ww1'),\n",
       " Row(question_text='what is the meaning of ecole in french'),\n",
       " Row(question_text='what is the meaning of the bull in wall street'),\n",
       " Row(question_text='hindi film jab tak hai jaan full movie'),\n",
       " Row(question_text='what is the meaning of clint eastwood by gorillaz'),\n",
       " Row(question_text='what is the meaning of a red herring'),\n",
       " Row(question_text='what is the most widest spoken language in the world'),\n",
       " Row(question_text='what do the colors on the azerbaijan flag mean')]"
      ]
     },
     "execution_count": 74,
     "metadata": {},
     "output_type": "execute_result"
    }
   ],
   "source": [
    "returned_rows"
   ]
  },
  {
   "cell_type": "code",
   "execution_count": null,
   "metadata": {},
   "outputs": [],
   "source": []
  }
 ],
 "metadata": {
  "kernelspec": {
   "display_name": "Python 3",
   "language": "python",
   "name": "python3"
  },
  "language_info": {
   "codemirror_mode": {
    "name": "ipython",
    "version": 3
   },
   "file_extension": ".py",
   "mimetype": "text/x-python",
   "name": "python",
   "nbconvert_exporter": "python",
   "pygments_lexer": "ipython3",
   "version": "3.7.5"
  }
 },
 "nbformat": 4,
 "nbformat_minor": 4
}
