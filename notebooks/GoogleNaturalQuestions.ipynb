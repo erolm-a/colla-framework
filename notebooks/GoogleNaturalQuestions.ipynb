{
 "cells": [
  {
   "cell_type": "markdown",
   "metadata": {},
   "source": [
    "# Google natural questions (scraped)\n",
    "This notebooks aims to answer the following research question: **Which natural questions do users make when making dictionary-based queries**"
   ]
  },
  {
   "cell_type": "code",
   "execution_count": 1,
   "metadata": {
    "tags": []
   },
   "outputs": [
    {
     "output_type": "stream",
     "name": "stdout",
     "text": "Requirement already satisfied: gsutil in /opt/conda/lib/python3.7/site-packages (4.51)\nRequirement already satisfied: crcmod>=1.7 in /opt/conda/lib/python3.7/site-packages (from gsutil) (1.7)\nRequirement already satisfied: fasteners>=0.14.1 in /opt/conda/lib/python3.7/site-packages (from gsutil) (0.15)\nRequirement already satisfied: httplib2>=0.11.3 in /opt/conda/lib/python3.7/site-packages (from gsutil) (0.18.1)\nRequirement already satisfied: retry-decorator>=1.0.0 in /opt/conda/lib/python3.7/site-packages (from gsutil) (1.1.1)\nRequirement already satisfied: monotonic>=1.4 in /opt/conda/lib/python3.7/site-packages (from gsutil) (1.5)\nRequirement already satisfied: SocksiPy-branch==1.01 in /opt/conda/lib/python3.7/site-packages (from gsutil) (1.1)\nRequirement already satisfied: pyOpenSSL>=0.13 in /opt/conda/lib/python3.7/site-packages (from gsutil) (19.1.0)\nRequirement already satisfied: google-apitools>=0.5.30 in /opt/conda/lib/python3.7/site-packages (from gsutil) (0.5.31)\nRequirement already satisfied: google-reauth>=0.1.0 in /opt/conda/lib/python3.7/site-packages (from gsutil) (0.1.0)\nRequirement already satisfied: six>=1.12.0 in /opt/conda/lib/python3.7/site-packages (from gsutil) (1.15.0)\nRequirement already satisfied: argcomplete>=1.9.4 in /opt/conda/lib/python3.7/site-packages (from gsutil) (1.11.1)\nRequirement already satisfied: gcs-oauth2-boto-plugin>=2.5 in /opt/conda/lib/python3.7/site-packages (from gsutil) (2.6)\nRequirement already satisfied: mock==2.0.0 in /opt/conda/lib/python3.7/site-packages (from gsutil) (2.0.0)\nRequirement already satisfied: cryptography>=2.8 in /opt/conda/lib/python3.7/site-packages (from pyOpenSSL>=0.13->gsutil) (2.9.2)\nRequirement already satisfied: oauth2client>=1.4.12 in /opt/conda/lib/python3.7/site-packages (from google-apitools>=0.5.30->gsutil) (4.1.3)\nRequirement already satisfied: pyu2f in /opt/conda/lib/python3.7/site-packages (from google-reauth>=0.1.0->gsutil) (0.1.4)\nRequirement already satisfied: importlib-metadata<2,>=0.23; python_version == \"3.7\" in /opt/conda/lib/python3.7/site-packages (from argcomplete>=1.9.4->gsutil) (1.6.1)\nRequirement already satisfied: boto>=2.29.1 in /opt/conda/lib/python3.7/site-packages (from gcs-oauth2-boto-plugin>=2.5->gsutil) (2.49.0)\nRequirement already satisfied: pbr>=0.11 in /opt/conda/lib/python3.7/site-packages (from mock==2.0.0->gsutil) (5.4.5)\nRequirement already satisfied: cffi!=1.11.3,>=1.8 in /opt/conda/lib/python3.7/site-packages (from cryptography>=2.8->pyOpenSSL>=0.13->gsutil) (1.14.0)\nRequirement already satisfied: pyasn1-modules>=0.0.5 in /opt/conda/lib/python3.7/site-packages (from oauth2client>=1.4.12->google-apitools>=0.5.30->gsutil) (0.2.8)\nRequirement already satisfied: rsa>=3.1.4 in /opt/conda/lib/python3.7/site-packages (from oauth2client>=1.4.12->google-apitools>=0.5.30->gsutil) (4.6)\nRequirement already satisfied: pyasn1>=0.1.7 in /opt/conda/lib/python3.7/site-packages (from oauth2client>=1.4.12->google-apitools>=0.5.30->gsutil) (0.4.8)\nRequirement already satisfied: zipp>=0.5 in /opt/conda/lib/python3.7/site-packages (from importlib-metadata<2,>=0.23; python_version == \"3.7\"->argcomplete>=1.9.4->gsutil) (3.1.0)\nRequirement already satisfied: pycparser in /opt/conda/lib/python3.7/site-packages (from cffi!=1.11.3,>=1.8->cryptography>=2.8->pyOpenSSL>=0.13->gsutil) (2.20)\n"
    }
   ],
   "source": [
    "!pip3 install gsutil"
   ]
  },
  {
   "cell_type": "code",
   "execution_count": 2,
   "metadata": {},
   "outputs": [],
   "source": [
    "from tools.datasets import *\n",
    "import fnmatch\n",
    "import os"
   ]
  },
  {
   "cell_type": "code",
   "execution_count": 5,
   "metadata": {
    "tags": []
   },
   "outputs": [
    {
     "output_type": "stream",
     "name": "stdout",
     "text": "Found googlenlq dataset at data/GoogleNLQ/v1.0-simplified_nq-dev-all.jsonl\n"
    }
   ],
   "source": [
    "googlenlq_dir = os.path.join(DATA_FOLDER, \"GoogleNLQ\")\n",
    "os.makedirs(googlenlq_dir, exist_ok=True)\n",
    "# Be wary! This will download the full dataset of 41 GBs.\n",
    "#!gsutil -m cp -R gs://natural_questions/v1.0 $googlenlq_dir\n",
    "for filename in os.listdir(googlenlq_dir):\n",
    "    if fnmatch.fnmatch(filename, \"*dev-all.jsonl\"):\n",
    "        googlenlq_filename = os.path.join(googlenlq_dir, filename)\n",
    "print(\"Found googlenlq dataset at \" + googlenlq_filename)"
   ]
  },
  {
   "cell_type": "code",
   "execution_count": 49,
   "metadata": {
    "tags": []
   },
   "outputs": [
    {
     "output_type": "error",
     "ename": "ValueError",
     "evalue": "Cannot run multiple SparkContexts at once; existing SparkContext(app=pyspark-shell, master=local[*]) created by __init__ at <ipython-input-4-59cd3654b93f>:4 ",
     "traceback": [
      "\u001b[0;31m---------------------------------------------------------------------------\u001b[0m",
      "\u001b[0;31mValueError\u001b[0m                                Traceback (most recent call last)",
      "\u001b[0;32m<ipython-input-49-153f8b0be037>\u001b[0m in \u001b[0;36m<module>\u001b[0;34m\u001b[0m\n\u001b[1;32m      2\u001b[0m \u001b[0;32mfrom\u001b[0m \u001b[0mpyspark\u001b[0m\u001b[0;34m.\u001b[0m\u001b[0msql\u001b[0m \u001b[0;32mimport\u001b[0m \u001b[0mSparkSession\u001b[0m\u001b[0;34m\u001b[0m\u001b[0;34m\u001b[0m\u001b[0m\n\u001b[1;32m      3\u001b[0m \u001b[0;34m\u001b[0m\u001b[0m\n\u001b[0;32m----> 4\u001b[0;31m \u001b[0msc\u001b[0m \u001b[0;34m=\u001b[0m \u001b[0mpyspark\u001b[0m\u001b[0;34m.\u001b[0m\u001b[0mSparkContext\u001b[0m\u001b[0;34m(\u001b[0m\u001b[0;34m)\u001b[0m\u001b[0;34m\u001b[0m\u001b[0;34m\u001b[0m\u001b[0m\n\u001b[0m\u001b[1;32m      5\u001b[0m \u001b[0mspark\u001b[0m \u001b[0;34m=\u001b[0m \u001b[0mSparkSession\u001b[0m\u001b[0;34m(\u001b[0m\u001b[0msc\u001b[0m\u001b[0;34m)\u001b[0m\u001b[0;34m\u001b[0m\u001b[0;34m\u001b[0m\u001b[0m\n",
      "\u001b[0;32m/usr/local/spark/python/pyspark/context.py\u001b[0m in \u001b[0;36m__init__\u001b[0;34m(self, master, appName, sparkHome, pyFiles, environment, batchSize, serializer, conf, gateway, jsc, profiler_cls)\u001b[0m\n\u001b[1;32m    131\u001b[0m                     \" note this option will be removed in Spark 3.0\")\n\u001b[1;32m    132\u001b[0m \u001b[0;34m\u001b[0m\u001b[0m\n\u001b[0;32m--> 133\u001b[0;31m         \u001b[0mSparkContext\u001b[0m\u001b[0;34m.\u001b[0m\u001b[0m_ensure_initialized\u001b[0m\u001b[0;34m(\u001b[0m\u001b[0mself\u001b[0m\u001b[0;34m,\u001b[0m \u001b[0mgateway\u001b[0m\u001b[0;34m=\u001b[0m\u001b[0mgateway\u001b[0m\u001b[0;34m,\u001b[0m \u001b[0mconf\u001b[0m\u001b[0;34m=\u001b[0m\u001b[0mconf\u001b[0m\u001b[0;34m)\u001b[0m\u001b[0;34m\u001b[0m\u001b[0;34m\u001b[0m\u001b[0m\n\u001b[0m\u001b[1;32m    134\u001b[0m         \u001b[0;32mtry\u001b[0m\u001b[0;34m:\u001b[0m\u001b[0;34m\u001b[0m\u001b[0;34m\u001b[0m\u001b[0m\n\u001b[1;32m    135\u001b[0m             self._do_init(master, appName, sparkHome, pyFiles, environment, batchSize, serializer,\n",
      "\u001b[0;32m/usr/local/spark/python/pyspark/context.py\u001b[0m in \u001b[0;36m_ensure_initialized\u001b[0;34m(cls, instance, gateway, conf)\u001b[0m\n\u001b[1;32m    330\u001b[0m                         \u001b[0;34m\" created by %s at %s:%s \"\u001b[0m\u001b[0;34m\u001b[0m\u001b[0;34m\u001b[0m\u001b[0m\n\u001b[1;32m    331\u001b[0m                         % (currentAppName, currentMaster,\n\u001b[0;32m--> 332\u001b[0;31m                             callsite.function, callsite.file, callsite.linenum))\n\u001b[0m\u001b[1;32m    333\u001b[0m                 \u001b[0;32melse\u001b[0m\u001b[0;34m:\u001b[0m\u001b[0;34m\u001b[0m\u001b[0;34m\u001b[0m\u001b[0m\n\u001b[1;32m    334\u001b[0m                     \u001b[0mSparkContext\u001b[0m\u001b[0;34m.\u001b[0m\u001b[0m_active_spark_context\u001b[0m \u001b[0;34m=\u001b[0m \u001b[0minstance\u001b[0m\u001b[0;34m\u001b[0m\u001b[0;34m\u001b[0m\u001b[0m\n",
      "\u001b[0;31mValueError\u001b[0m: Cannot run multiple SparkContexts at once; existing SparkContext(app=pyspark-shell, master=local[*]) created by __init__ at <ipython-input-4-59cd3654b93f>:4 "
     ]
    }
   ],
   "source": [
    "import pyspark\n",
    "from pyspark.sql import SparkSession\n",
    "\n",
    "sc = pyspark.SparkContext()\n",
    "spark = SparkSession(sc)"
   ]
  },
  {
   "cell_type": "code",
   "execution_count": 50,
   "metadata": {},
   "outputs": [],
   "source": [
    "from pyspark.sql.functions import explode, expr"
   ]
  },
  {
   "cell_type": "code",
   "execution_count": 6,
   "metadata": {},
   "outputs": [],
   "source": [
    "nlq_df = spark.read.json(googlenlq_filename)"
   ]
  },
  {
   "cell_type": "code",
   "execution_count": 7,
   "metadata": {
    "tags": []
   },
   "outputs": [
    {
     "output_type": "stream",
     "name": "stdout",
     "text": "root\n |-- annotations: array (nullable = true)\n |    |-- element: struct (containsNull = true)\n |    |    |-- annotation_id: decimal(20,0) (nullable = true)\n |    |    |-- long_answer: struct (nullable = true)\n |    |    |    |-- candidate_index: long (nullable = true)\n |    |    |    |-- end_byte: long (nullable = true)\n |    |    |    |-- end_token: long (nullable = true)\n |    |    |    |-- start_byte: long (nullable = true)\n |    |    |    |-- start_token: long (nullable = true)\n |    |    |-- short_answers: array (nullable = true)\n |    |    |    |-- element: struct (containsNull = true)\n |    |    |    |    |-- end_byte: long (nullable = true)\n |    |    |    |    |-- end_token: long (nullable = true)\n |    |    |    |    |-- start_byte: long (nullable = true)\n |    |    |    |    |-- start_token: long (nullable = true)\n |    |    |-- yes_no_answer: string (nullable = true)\n |-- document_html: string (nullable = true)\n |-- document_title: string (nullable = true)\n |-- document_tokens: array (nullable = true)\n |    |-- element: struct (containsNull = true)\n |    |    |-- end_byte: long (nullable = true)\n |    |    |-- html_token: boolean (nullable = true)\n |    |    |-- start_byte: long (nullable = true)\n |    |    |-- token: string (nullable = true)\n |-- document_url: string (nullable = true)\n |-- example_id: long (nullable = true)\n |-- long_answer_candidates: array (nullable = true)\n |    |-- element: struct (containsNull = true)\n |    |    |-- end_byte: long (nullable = true)\n |    |    |-- end_token: long (nullable = true)\n |    |    |-- start_byte: long (nullable = true)\n |    |    |-- start_token: long (nullable = true)\n |    |    |-- top_level: boolean (nullable = true)\n |-- question_text: string (nullable = true)\n |-- question_tokens: array (nullable = true)\n |    |-- element: string (containsNull = true)\n\n"
    }
   ],
   "source": [
    "nlq_df.printSchema()"
   ]
  },
  {
   "cell_type": "code",
   "execution_count": 46,
   "metadata": {},
   "outputs": [],
   "source": [
    "nlq_df.createOrReplaceTempView(\"NLQ\")\n",
    "\n",
    "res = spark.sql(\"SELECT document_title, question_text from NLQ LIMIT 100\")"
   ]
  },
  {
   "cell_type": "code",
   "execution_count": 47,
   "metadata": {
    "tags": []
   },
   "outputs": [
    {
     "output_type": "stream",
     "name": "stdout",
     "text": "+---------------------------------------------+-------------------------------------------------------------------------+\n|document_title                               |question_text                                                            |\n+---------------------------------------------+-------------------------------------------------------------------------+\n|Therefore sign                               |what do the 3 dots mean in math                                          |\n|Watchman (law enforcement)                   |when was the writ watch invented by who                                  |\n|Photograph (Ringo Starr song)                |who wrote the song photograph by ringo starr                             |\n|Super Bowl 50 halftime show                  |who is playing the halftime show at super bowl 2016                      |\n|Matt Lanter                                  |star wars the clone wars anakin voice actor                              |\n|A Whiter Shade of Pale                       |meaning behind the song whiter shade of pale                             |\n|Globe                                        |where is most distortion found on a globe                                |\n|List of A Certain Scientific Railgun episodes|to aru kagaku no railgun s episode 3                                     |\n|List of Seraph of the End chapters           |when do new chapters of owari no seraph come out                         |\n|Surname                                      |where does the last name painter come from                               |\n|Dominance (genetics)                         |dominant alleles are always the most common allele in a population       |\n|List of woods                                |an eastern red cedar is a hardwood or softwood                           |\n|Ahmedabad textile industry                   |what are the challenges faced by the cotton textile industry of ahmedabad|\n|2017 BBC Sports Personality of the Year Award|who won the 2017 sports personality of the year                          |\n|I've Got the Joy Joy Joy Joy                 |i got the joy joy joy down in my heart lyrics                            |\n|Sports in the Las Vegas metropolitan area    |is there a basketball team in las vegas                                  |\n|Windsor Castle                               |who lives in the grounds of windsor castle                               |\n|List of protected areas of the Philippines   |list of environmentally critical areas in the philippines                |\n|After the Bath, Woman Drying Herself         |after the bath woman drying herself elements of design                   |\n|Super-G                                      |what’s the difference between downhill and super g                       |\n+---------------------------------------------+-------------------------------------------------------------------------+\nonly showing top 20 rows\n\n"
    }
   ],
   "source": [
    "res.show(truncate=False)"
   ]
  },
  {
   "cell_type": "code",
   "execution_count": 77,
   "metadata": {
    "tags": []
   },
   "outputs": [
    {
     "output_type": "execute_result",
     "data": {
      "text/plain": "[Row(question_text='what do the 3 dots mean in math', start_token=14, end_token=808),\n Row(question_text='what do the 3 dots mean in math', start_token=15, end_token=20),\n Row(question_text='what do the 3 dots mean in math', start_token=20, end_token=26),\n Row(question_text='what do the 3 dots mean in math', start_token=26, end_token=197),\n Row(question_text='what do the 3 dots mean in math', start_token=28, end_token=195),\n Row(question_text='what do the 3 dots mean in math', start_token=29, end_token=34),\n Row(question_text='what do the 3 dots mean in math', start_token=34, end_token=43),\n Row(question_text='what do the 3 dots mean in math', start_token=43, end_token=58),\n Row(question_text='what do the 3 dots mean in math', start_token=58, end_token=66),\n Row(question_text='what do the 3 dots mean in math', start_token=66, end_token=76)]"
     },
     "metadata": {},
     "execution_count": 77
    }
   ],
   "source": [
    "#nlq_df.select(explode(\"annotations\")).select(\"col.*\").select(\"long_answer.candidate_index\").limit(10).collect()\n",
    "nlq_df.select(\"question_text\", explode(\"long_answer_candidates\")) \\\n",
    "      .select(\"question_text\", \"col.start_token\", \"col.end_token\") \\\n",
    "      .limit(10) \\\n",
    "      .collect()\n",
    "      "
   ]
  },
  {
   "cell_type": "code",
   "execution_count": 22,
   "metadata": {
    "tags": []
   },
   "outputs": [],
   "source": [
    "ris = nlq_df.select(\"question_text\").limit(1)"
   ]
  },
  {
   "cell_type": "code",
   "execution_count": 30,
   "metadata": {},
   "outputs": [],
   "source": [
    "r = ris.collect()"
   ]
  },
  {
   "cell_type": "code",
   "execution_count": 38,
   "metadata": {},
   "outputs": [
    {
     "output_type": "execute_result",
     "data": {
      "text/plain": "'what do the 3 dots mean in math'"
     },
     "metadata": {},
     "execution_count": 38
    }
   ],
   "source": [
    "r[0].asDict()[\"question_text\"]"
   ]
  },
  {
   "cell_type": "code",
   "execution_count": 90,
   "metadata": {
    "tags": []
   },
   "outputs": [],
   "source": [
    "sampled_questions = nlq_df.select(\"question_text\") \\\n",
    "                          .filter(nlq_df.question_text.contains(\"how do you say\")) \\\n",
    "                          .sample(withReplacement=False, fraction=1.).collect()"
   ]
  },
  {
   "cell_type": "code",
   "execution_count": 91,
   "metadata": {
    "tags": []
   },
   "outputs": [
    {
     "output_type": "stream",
     "name": "stdout",
     "text": "[Row(question_text='how do you say evil eye in greek'), Row(question_text='how do you say zest for life in french')]\n"
    }
   ],
   "source": [
    "print(sampled_questions)"
   ]
  },
  {
   "cell_type": "code",
   "execution_count": null,
   "metadata": {},
   "outputs": [],
   "source": [
    "language_list = wikidata_sparql.run_query(\"\"\"\n",
    "SELECT ?lang ?langLabel\n",
    "WHERE\n",
    "{\n",
    "  ?lang wdt:P31 wd:Q34770.\n",
    "  \n",
    "  \tSERVICE wikibase:label {\n",
    "\t\tbd:serviceParam wikibase:language \"[AUTO_LANGUAGE]\"\n",
    "\t}\n",
    "}\n",
    "\"\"\")[\"langLabe"
   ]
  }
 ],
 "metadata": {
  "language_info": {
   "codemirror_mode": {
    "name": "ipython",
    "version": 3
   },
   "file_extension": ".py",
   "mimetype": "text/x-python",
   "name": "python",
   "nbconvert_exporter": "python",
   "pygments_lexer": "ipython3",
   "version": "3.7.6-final"
  },
  "orig_nbformat": 2,
  "kernelspec": {
   "name": "python3",
   "display_name": "Python 3"
  }
 },
 "nbformat": 4,
 "nbformat_minor": 2
}