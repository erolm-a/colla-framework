{
 "cells": [
  {
   "cell_type": "markdown",
   "metadata": {},
   "source": [
    "# Anserini/Pyserini extraction from BabelNet"
   ]
  },
  {
   "cell_type": "code",
   "execution_count": 1,
   "metadata": {},
   "outputs": [],
   "source": [
    "import json\n",
    "import os\n",
    "\n",
    "#os.environ[\"JAVA_VERSION\"] = \"java-11-openjdk-amd64\"\n",
    "#os.environ[\"JAVA_HOME\"] = \"/usr/lib/jvm/java-11-openjdk-amd64\"\n",
    "#os.environ[\"PATH\"] = os.environ[\"JAVA_HOME\"] + \"/bin\" + \":\" + os.environ[\"PATH\"]"
   ]
  },
  {
   "cell_type": "code",
   "execution_count": 2,
   "metadata": {},
   "outputs": [
    {
     "name": "stdout",
     "output_type": "stream",
     "text": [
      "anserini-0.5.1 downloaded, skipping...\n",
      "lucene-backward-codecs-8.6.0 downloaded, skipping...\n"
     ]
    }
   ],
   "source": [
    "import wget\n",
    "\n",
    "lucene_folder = \"3rdparty/lucene-index\"\n",
    "\n",
    "if not os.path.isdir(lucene_folder):\n",
    "    os.mkdir(lucene_folder)\n",
    "\n",
    "# Is this maven? :)\n",
    "def download_jar(group, artifact, version, variant=None):\n",
    "    jar_name = f\"{artifact}-{version}{'-' + variant if variant else ''}.jar\"\n",
    "    jar_destination = f\"3rdparty/lucene-index/{jar_name}\"\n",
    "    if os.path.exists(jar_destination):\n",
    "        print(f\"{artifact}-{version} downloaded, skipping...\")\n",
    "        return\n",
    "        \n",
    "    artifact_path = \"/\".join(group.split(\".\") + [artifact, version, jar_name])\n",
    "    url = \"https://search.maven.org/remotecontent?filepath=\" + artifact_path\n",
    "    wget.download(url, jar_destination)\n",
    "\n",
    "download_jar(\"io.anserini\", \"anserini\", \"0.5.1\", \"fatjar\")\n",
    "download_jar(\"org.apache.lucene\", \"lucene-backward-codecs\", \"8.6.0\")\n",
    "download_jar(\"org.apache.lucene\", \"lucene-core\", \"8.6.0\")\n",
    "download_jar(\"org.apache.lucene\", \"lucene-queries\", \"8.6.0\")\n",
    "download_jar(\"org.apache.lucene\", \"lucene-queryparser\", \"8.6.0\")\n",
    "download_jar(\"org.apache.lucene\", \"lucene-sandbox\", \"8.6.0\")\n",
    "download_jar(\"org.apache.lucene\", \"lucene-analyzers-common\", \"8.6.0\")\n"
   ]
  },
  {
   "cell_type": "code",
   "execution_count": 3,
   "metadata": {},
   "outputs": [],
   "source": [
    "import os\n",
    "import fnmatch\n",
    "\n",
    "os.environ[\"ANSERINI_CLASSPATH\"] = lucene_folder\n",
    "os.environ[\"CLASSPATH\"] = \";\".join(fnmatch.filter([os.path.abspath(s) for s in os.listdir(lucene_folder)], \"*.jar\"))"
   ]
  },
  {
   "cell_type": "code",
   "execution_count": 4,
   "metadata": {},
   "outputs": [
    {
     "name": "stdout",
     "output_type": "stream",
     "text": [
      "3rdparty/lucene-index\n"
     ]
    }
   ],
   "source": [
    "print(os.environ[\"ANSERINI_CLASSPATH\"])"
   ]
  },
  {
   "cell_type": "code",
   "execution_count": 5,
   "metadata": {},
   "outputs": [],
   "source": [
    "babelnet_index = \"data/babelnet/BabelNet-4.0.1/lexicon_CC_BY_SA_30\""
   ]
  },
  {
   "cell_type": "code",
   "execution_count": 18,
   "metadata": {},
   "outputs": [],
   "source": [
    "from pyserini import search"
   ]
  },
  {
   "cell_type": "code",
   "execution_count": 6,
   "metadata": {},
   "outputs": [],
   "source": [
    "from pyserini.search import pysearch\n",
    "\n",
    "searcher = pysearch.SimpleSearcher(babelnet_index)\n"
   ]
  },
  {
   "cell_type": "code",
   "execution_count": 15,
   "metadata": {},
   "outputs": [],
   "source": [
    "from pyserini.collection import pycollection\n",
    "from pyserini.index import pygenerator\n",
    "\n",
    "#collection = pycollection.Collection('HtmlCollection')"
   ]
  },
  {
   "cell_type": "code",
   "execution_count": 16,
   "metadata": {},
   "outputs": [
    {
     "name": "stdout",
     "output_type": "stream",
     "text": [
      "Help on module pyserini.collection.pycollection in pyserini.collection:\n",
      "\n",
      "NAME\n",
      "    pyserini.collection.pycollection\n",
      "\n",
      "DESCRIPTION\n",
      "    # -*- coding: utf-8 -*-\n",
      "    #\n",
      "    # Pyserini: Python interface to the Anserini IR toolkit built on Lucene\n",
      "    #\n",
      "    # Licensed under the Apache License, Version 2.0 (the \"License\");\n",
      "    # you may not use this file except in compliance with the License.\n",
      "    # You may obtain a copy of the License at\n",
      "    #\n",
      "    # http://www.apache.org/licenses/LICENSE-2.0\n",
      "    #\n",
      "    # Unless required by applicable law or agreed to in writing, software\n",
      "    # distributed under the License is distributed on an \"AS IS\" BASIS,\n",
      "    # WITHOUT WARRANTIES OR CONDITIONS OF ANY KIND, either express or implied.\n",
      "    # See the License for the specific language governing permissions and\n",
      "    # limitations under the License.\n",
      "\n",
      "CLASSES\n",
      "    builtins.object\n",
      "        Collection\n",
      "        Document\n",
      "        FileSegment\n",
      "    \n",
      "    class Collection(builtins.object)\n",
      "     |  Collection(collection_class, collection_path)\n",
      "     |  \n",
      "     |  Iterable wrapper class for Anserini's DocumentCollection.\n",
      "     |          \n",
      "     |  Parameters\n",
      "     |  ----------\n",
      "     |  collection_class : str\n",
      "     |      Name of collection class to instantiate\n",
      "     |  collection_path : str\n",
      "     |      Path to directory containing collection\n",
      "     |  \n",
      "     |  Methods defined here:\n",
      "     |  \n",
      "     |  __init__(self, collection_class, collection_path)\n",
      "     |      Initialize self.  See help(type(self)) for accurate signature.\n",
      "     |  \n",
      "     |  __iter__(self)\n",
      "     |  \n",
      "     |  __next__(self)\n",
      "     |  \n",
      "     |  ----------------------------------------------------------------------\n",
      "     |  Data descriptors defined here:\n",
      "     |  \n",
      "     |  __dict__\n",
      "     |      dictionary for instance variables (if defined)\n",
      "     |  \n",
      "     |  __weakref__\n",
      "     |      list of weak references to the object (if defined)\n",
      "    \n",
      "    class Document(builtins.object)\n",
      "     |  Document(segment, document)\n",
      "     |  \n",
      "     |  Wrapper class for Anserini's SourceDocument.\n",
      "     |          \n",
      "     |  Parameters\n",
      "     |  ----------\n",
      "     |  \n",
      "     |  segment : FileSegment\n",
      "     |      Parent segment of the source document\n",
      "     |  document : io.anserini.collection.SourceDocument\n",
      "     |      SourceDocument object to create wrapper from\n",
      "     |  \n",
      "     |  Methods defined here:\n",
      "     |  \n",
      "     |  __init__(self, segment, document)\n",
      "     |      Initialize self.  See help(type(self)) for accurate signature.\n",
      "     |  \n",
      "     |  ----------------------------------------------------------------------\n",
      "     |  Data descriptors defined here:\n",
      "     |  \n",
      "     |  __dict__\n",
      "     |      dictionary for instance variables (if defined)\n",
      "     |  \n",
      "     |  __weakref__\n",
      "     |      list of weak references to the object (if defined)\n",
      "    \n",
      "    class FileSegment(builtins.object)\n",
      "     |  FileSegment(collection, segment, segment_path)\n",
      "     |  \n",
      "     |  Iterable wrapper class for Anserini's FileSegment.\n",
      "     |          \n",
      "     |  Parameters\n",
      "     |  ----------\n",
      "     |  collection : Collection\n",
      "     |      Parent collection of the file segment\n",
      "     |  segment : io.anserini.collection.FileSegment\n",
      "     |      FileSegment object to create wrapper from\n",
      "     |  segment_path : str\n",
      "     |      Path to file backing the file segment\n",
      "     |  \n",
      "     |  Methods defined here:\n",
      "     |  \n",
      "     |  __init__(self, collection, segment, segment_path)\n",
      "     |      Initialize self.  See help(type(self)) for accurate signature.\n",
      "     |  \n",
      "     |  __iter__(self)\n",
      "     |  \n",
      "     |  __next__(self)\n",
      "     |  \n",
      "     |  ----------------------------------------------------------------------\n",
      "     |  Data descriptors defined here:\n",
      "     |  \n",
      "     |  __dict__\n",
      "     |      dictionary for instance variables (if defined)\n",
      "     |  \n",
      "     |  __weakref__\n",
      "     |      list of weak references to the object (if defined)\n",
      "\n",
      "FUNCTIONS\n",
      "    cast(...)\n",
      "\n",
      "DATA\n",
      "    logger = <Logger pyserini.collection.pycollection (WARNING)>\n",
      "\n",
      "FILE\n",
      "    /usr/local/lib/python3.7/dist-packages/pyserini/collection/pycollection.py\n",
      "\n",
      "\n"
     ]
    }
   ],
   "source": [
    "help(pycollection)"
   ]
  },
  {
   "cell_type": "code",
   "execution_count": 21,
   "metadata": {},
   "outputs": [
    {
     "name": "stdout",
     "output_type": "stream",
     "text": [
      "Collecting lupyne\n",
      "  Downloading https://files.pythonhosted.org/packages/77/b4/6831262211f8c20d31dcc01569d1a59ba14ddf928ffeb04c7e164fe8ee3f/lupyne-2.4-py2.py3-none-any.whl\n",
      "Requirement already satisfied: six in /usr/local/lib/python3.7/dist-packages (from lupyne) (1.15.0)\n",
      "Installing collected packages: lupyne\n",
      "Successfully installed lupyne-2.4\n"
     ]
    }
   ],
   "source": [
    "!pip3 install lupyne"
   ]
  },
  {
   "cell_type": "code",
   "execution_count": null,
   "metadata": {},
   "outputs": [],
   "source": [
    "from lupyne import engine"
   ]
  }
 ],
 "metadata": {
  "kernelspec": {
   "display_name": "Python 3",
   "language": "python",
   "name": "python3"
  },
  "language_info": {
   "codemirror_mode": {
    "name": "ipython",
    "version": 3
   },
   "file_extension": ".py",
   "mimetype": "text/x-python",
   "name": "python",
   "nbconvert_exporter": "python",
   "pygments_lexer": "ipython3",
   "version": "3.7.5"
  }
 },
 "nbformat": 4,
 "nbformat_minor": 4
}
