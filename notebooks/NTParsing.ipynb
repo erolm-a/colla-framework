{
 "cells": [
  {
   "cell_type": "code",
   "execution_count": 2,
   "metadata": {},
   "outputs": [],
   "source": [
    "import pyspark\n",
    "from pyspark.sql import SparkSession\n",
    "\n",
    "sc = pyspark.SparkContext()"
   ]
  },
  {
   "cell_type": "code",
   "execution_count": 3,
   "metadata": {},
   "outputs": [],
   "source": [
    "spark = SparkSession(sc)"
   ]
  },
  {
   "cell_type": "code",
   "execution_count": 28,
   "metadata": {},
   "outputs": [],
   "source": [
    "from pyspark.sql.types import StructType, StructField, StringType\n",
    "\n",
    "df = spark.read.option(\"delimiter\", \" \").csv(\"data/wikidata/rdf.nt\")"
   ]
  },
  {
   "cell_type": "code",
   "execution_count": 17,
   "metadata": {},
   "outputs": [
    {
     "data": {
      "text/plain": [
       "[Row(_c0='<http://commons.dbpedia.org/resource/Template:Cc-by-1.0>', _c1='<http://commons.dbpedia.org/property/version>', _c2='\"1\"^^<http://www.w3.org/2001/XMLSchema#integer>', _c3='.'),\n",
       " Row(_c0='<http://commons.dbpedia.org/resource/Category:Events>', _c1='<http://commons.dbpedia.org/property/de>', _c2='\"Ereignis, Veranstaltung.\"@en', _c3='.'),\n",
       " Row(_c0='<http://commons.dbpedia.org/resource/Category:Events>', _c1='<http://commons.dbpedia.org/property/en>', _c2='\"Events\"@en', _c3='.'),\n",
       " Row(_c0='<http://commons.dbpedia.org/resource/Category:Events>', _c1='<http://commons.dbpedia.org/property/fr>', _c2='\"\\\\u00C9v\\\\u00E9nements.\"@en', _c3='.'),\n",
       " Row(_c0='<http://commons.dbpedia.org/resource/Template:Cc-by-sa-1.0>', _c1='<http://commons.dbpedia.org/property/version>', _c2='\"1\"^^<http://www.w3.org/2001/XMLSchema#integer>', _c3='.')]"
      ]
     },
     "execution_count": 17,
     "metadata": {},
     "output_type": "execute_result"
    }
   ],
   "source": [
    "df.columns\n",
    "df.take(5)"
   ]
  }
 ],
 "metadata": {
  "kernelspec": {
   "display_name": "Python 3",
   "language": "python",
   "name": "python3"
  },
  "language_info": {
   "codemirror_mode": {
    "name": "ipython",
    "version": 3
   },
   "file_extension": ".py",
   "mimetype": "text/x-python",
   "name": "python",
   "nbconvert_exporter": "python",
   "pygments_lexer": "ipython3",
   "version": "3.7.5"
  }
 },
 "nbformat": 4,
 "nbformat_minor": 4
}
