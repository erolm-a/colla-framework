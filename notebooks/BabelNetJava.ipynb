{
 "cells": [
  {
   "cell_type": "code",
   "execution_count": 1,
   "metadata": {},
   "outputs": [
    {
     "name": "stdout",
     "output_type": "stream",
     "text": [
      "['/nfs/knowledge-glue/notebooks/3rdparty/lucene-index/babelnet-api-4.0.1.jar', '/nfs/knowledge-glue/notebooks/3rdparty/lucene-index/lib/*', '/usr/local/lib/python3.7/dist-packages/jnius/src']\n"
     ]
    }
   ],
   "source": [
    "import os\n",
    "prefix =  \"/nfs/knowledge-glue/notebooks/3rdparty/lucene-index\"\n",
    "import jnius_config\n",
    "jnius_config.set_classpath(prefix + \"/babelnet-api-4.0.1.jar\", prefix + \"/lib/*\")\n",
    "print(jnius_config.get_classpath())\n",
    "import jnius"
   ]
  },
  {
   "cell_type": "code",
   "execution_count": 2,
   "metadata": {},
   "outputs": [],
   "source": [
    "# Jeff, forgive me for I hath sinned\n",
    "def jimport(path):\n",
    "    \"\"\"\n",
    "    Wrap a jnius import. This adds a global variable\n",
    "    This adds a global variable with the name of the class.\n",
    "    \n",
    "    >>> jimport(\"java.lang.Math\")\n",
    "    >>> Math.sqrt(100)\n",
    "    10.0\n",
    "    \"\"\"\n",
    "    \n",
    "    classname = path.split(\".\")[-1]\n",
    "    exec(\"\"\"\n",
    "global ?classname\n",
    "?classname = jnius.autoclass(path)\n",
    "\"\"\".replace(\"?classname\", classname), globals(), {'path': path})"
   ]
  },
  {
   "cell_type": "code",
   "execution_count": 3,
   "metadata": {},
   "outputs": [],
   "source": [
    "jimport(\"it.uniroma1.lcl.babelnet.BabelNet\")\n",
    "jimport(\"it.uniroma1.lcl.babelnet.BabelSynset\")\n",
    "jimport(\"it.uniroma1.lcl.jlt.util.Language\")"
   ]
  },
  {
   "cell_type": "code",
   "execution_count": 4,
   "metadata": {},
   "outputs": [],
   "source": [
    "bn = BabelNet.getInstance()"
   ]
  },
  {
   "cell_type": "code",
   "execution_count": 3,
   "metadata": {},
   "outputs": [],
   "source": [
    "from spylon_kernel import register_ipython_magics\n",
    "register_ipython_magics()"
   ]
  },
  {
   "cell_type": "code",
   "execution_count": 2,
   "metadata": {},
   "outputs": [
    {
     "name": "stderr",
     "output_type": "stream",
     "text": [
      "UsageError: Cell magic `%%init_spark` not found.\n"
     ]
    }
   ],
   "source": [
    "%%init_spark\n",
    "launcher.jars = [\"/nfs/knowledge-glue/notebooks/3rdparty/lucene-index/babelnet-api-4.0.1.jar\", \"/nfs/knowledge-glue/notebooks/3rdparty/lucene-index/lib/*\"]"
   ]
  },
  {
   "cell_type": "code",
   "execution_count": 3,
   "metadata": {},
   "outputs": [
    {
     "data": {
      "text/plain": [
       "Intitializing Scala interpreter ..."
      ]
     },
     "metadata": {},
     "output_type": "display_data"
    },
    {
     "data": {
      "text/plain": [
       "Spark Web UI available at http://knowledge-glue-notebook:4043\n",
       "SparkContext available as 'sc' (version = 2.4.5, master = local[*], app id = local-1596025018903)\n",
       "SparkSession available as 'spark'"
      ]
     },
     "metadata": {},
     "output_type": "display_data"
    },
    {
     "name": "stderr",
     "output_type": "stream",
     "text": [
      "Exception handling stdout\n",
      "Traceback (most recent call last):\n",
      "  File \"/usr/local/lib/python3.7/dist-packages/spylon_kernel/scala_interpreter.py\", line 349, in handle_stdout\n",
      "    handler(chunk)\n",
      "  File \"/usr/local/lib/python3.7/dist-packages/metakernel/_metakernel.py\", line 659, in Write\n",
      "    self.log.debug('Write: %s' % message)\n",
      "AttributeError: 'NoneType' object has no attribute 'debug'\n"
     ]
    }
   ],
   "source": [
    "%%scala\n",
    "println(\"Ciao\")"
   ]
  },
  {
   "cell_type": "code",
   "execution_count": 4,
   "metadata": {},
   "outputs": [
    {
     "name": "stdout",
     "output_type": "stream",
     "text": [
      "Name: spylon-kernel\n",
      "Version: 0.4.1\n",
      "Summary: Jupyter metakernel for apache spark and scala\n",
      "Home-page: http://github.com/maxpoint/spylon-kernel\n",
      "Author: Marius van Niekerk\n",
      "Author-email: marius.v.niekerk+spylon@gmail.com\n",
      "License: BSD 3-clause\n",
      "Location: /usr/local/lib/python3.7/dist-packages\n",
      "Requires: jedi, metakernel, spylon, ipykernel, tornado\n",
      "Required-by: \n"
     ]
    }
   ],
   "source": [
    "!pip3 show spylon_kernel"
   ]
  },
  {
   "cell_type": "code",
   "execution_count": 5,
   "metadata": {},
   "outputs": [],
   "source": [
    "%%scala\n",
    "import scala.collection.JavaConverters._\n",
    "import it.uniroma1.lcl.babelnet.BabelNet\n",
    "import it.uniroma1.lcl.babelnet.BabelSynsetID\n",
    "import it.uniroma1.lcl.jlt.util.Language\n",
    "\n",
    "val bn = BabelNet.getInstance\n",
    "val by = bn.getSynset(new BabelSynsetID(\"bn:00044492n\"))\n",
    "for(edge <- by.getOutgoingEdges.asScala) {\n",
    "  println(by.getID + \"\\t\" + by.getMainSense(Language.EN).get.getFullLemma + \" - \"\n",
    "    + edge.getPointer + \" - \"\n",
    "    + edge.getBabelSynsetIDTarget)\n",
    "}"
   ]
  },
  {
   "cell_type": "code",
   "execution_count": 9,
   "metadata": {},
   "outputs": [],
   "source": [
    "%%scala\n",
    "val x = 1+2"
   ]
  },
  {
   "cell_type": "code",
   "execution_count": 11,
   "metadata": {},
   "outputs": [
    {
     "name": "stderr",
     "output_type": "stream",
     "text": [
      "Exception handling stdout\n",
      "Traceback (most recent call last):\n",
      "  File \"/usr/local/lib/python3.7/dist-packages/spylon_kernel/scala_interpreter.py\", line 349, in handle_stdout\n",
      "    handler(chunk)\n",
      "  File \"/usr/local/lib/python3.7/dist-packages/metakernel/_metakernel.py\", line 659, in Write\n",
      "    self.log.debug('Write: %s' % message)\n",
      "AttributeError: 'NoneType' object has no attribute 'debug'\n"
     ]
    }
   ],
   "source": [
    "%%scala\n",
    "println(x)"
   ]
  },
  {
   "cell_type": "code",
   "execution_count": null,
   "metadata": {},
   "outputs": [],
   "source": []
  }
 ],
 "metadata": {
  "kernelspec": {
   "display_name": "Python 3",
   "language": "python",
   "name": "python3"
  },
  "language_info": {
   "codemirror_mode": {
    "name": "ipython",
    "version": 3
   },
   "file_extension": ".py",
   "mimetype": "text/x-python",
   "name": "python",
   "nbconvert_exporter": "python",
   "pygments_lexer": "ipython3",
   "version": "3.7.5"
  }
 },
 "nbformat": 4,
 "nbformat_minor": 4
}
